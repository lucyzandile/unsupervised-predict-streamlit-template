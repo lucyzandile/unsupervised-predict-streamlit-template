{
  "cells": [
    {
      "cell_type": "markdown",
      "metadata": {
        "id": "view-in-github",
        "colab_type": "text"
      },
      "source": [
        "<a href=\"https://colab.research.google.com/github/lucyzandile/unsupervised-predict-streamlit-template/blob/master/Team_15_Unsupervised_Predict.ipynb\" target=\"_parent\"><img src=\"https://colab.research.google.com/assets/colab-badge.svg\" alt=\"Open In Colab\"/></a>"
      ]
    },
    {
      "cell_type": "markdown",
      "id": "1adb5cc6",
      "metadata": {
        "id": "1adb5cc6"
      },
      "source": [
        "# Introduction\n",
        "\n",
        "\n",
        "## Problem Statement"
      ]
    },
    {
      "cell_type": "markdown",
      "id": "2f37469f",
      "metadata": {
        "id": "2f37469f"
      },
      "source": [
        "<a id=\"cont\"></a>\n",
        "\n",
        "## Table of Contents\n",
        "\n",
        "<a href=#one>1. Importing Packages</a>\n",
        "\n",
        "<a href=#two>2. Loading Data</a>\n",
        "\n",
        "<a href=#three>3. Data Preprocessing</a>\n",
        "\n",
        "<a href=#four>4. Exploratory Data Analysis (EDA)</a>\n",
        "\n",
        "<a href=#five>5. Modeling</a>\n",
        "\n",
        "<a href=#six>6. Model Performance</a>\n",
        "\n",
        "<a href=#seven>7. Model Explanations</a>"
      ]
    },
    {
      "cell_type": "markdown",
      "id": "0eb0910f",
      "metadata": {
        "id": "0eb0910f"
      },
      "source": [
        " <a id=\"one\"></a>\n",
        "## Importing packages"
      ]
    },
    {
      "cell_type": "code",
      "execution_count": null,
      "id": "6c01495a",
      "metadata": {
        "id": "6c01495a"
      },
      "outputs": [],
      "source": [
        "# Libraries for data loading, data manipulation and data visulisation\n",
        "\n",
        "import numpy as np\n",
        "\n",
        "import pandas as pd\n",
        "\n",
        "import matplotlib.pyplot as plt\n",
        "\n",
        "from matplotlib import rc\n",
        "\n",
        "import seaborn as sns"
      ]
    },
    {
      "cell_type": "code",
      "execution_count": null,
      "id": "ee5c40dd",
      "metadata": {
        "id": "ee5c40dd",
        "outputId": "4e3e497a-38bb-4215-f08e-eb825359b85e",
        "colab": {
          "base_uri": "https://localhost:8080/"
        }
      },
      "outputs": [
        {
          "output_type": "stream",
          "name": "stdout",
          "text": [
            "Mounted at /content/drive\n"
          ]
        }
      ],
      "source": [
        "from google.colab import drive\n",
        "drive.mount('/content/drive')"
      ]
    },
    {
      "cell_type": "markdown",
      "id": "37b9833e",
      "metadata": {
        "id": "37b9833e"
      },
      "source": [
        "<a id=\"two\"></a>\n",
        "## Loading the Data"
      ]
    },
    {
      "cell_type": "code",
      "execution_count": 5,
      "id": "51989781",
      "metadata": {
        "id": "51989781"
      },
      "outputs": [],
      "source": [
        "# importing datasets\n",
        "\n",
        "train = pd.read_csv(\"/content/drive/MyDrive/Colab Notebooks/train.csv\")\n",
        "\n",
        "test = pd.read_csv(\"/content/drive/MyDrive/test.csv\")\n",
        "\n",
        "#df_gscores = pd.read_csv(\"genome_scores.csv\")\n",
        "\n",
        "df_gtags = pd.read_csv(\"/content/drive/MyDrive/Colab Notebooks/genome_tags.csv\")\n",
        "\n",
        "df_imdb = pd.read_csv(\"/content/drive/MyDrive/Colab Notebooks/imdb_data.csv\")\n",
        "\n",
        "df_links = pd.read_csv(\"/content/drive/MyDrive/Colab Notebooks/links.csv\")\n",
        "\n",
        "df_movies = pd.read_csv(\"/content/drive/MyDrive/Colab Notebooks/movies.csv\")\n",
        "\n",
        "#df_tags = pd.read_csv(\"\")"
      ]
    },
    {
      "cell_type": "markdown",
      "id": "725439f8",
      "metadata": {
        "id": "725439f8"
      },
      "source": [
        "### Overview of the datasets"
      ]
    },
    {
      "cell_type": "code",
      "execution_count": null,
      "id": "c90b223a",
      "metadata": {
        "id": "c90b223a"
      },
      "outputs": [],
      "source": [
        ""
      ]
    },
    {
      "cell_type": "code",
      "execution_count": null,
      "id": "30ec8da1",
      "metadata": {
        "id": "30ec8da1"
      },
      "outputs": [],
      "source": [
        ""
      ]
    },
    {
      "cell_type": "code",
      "execution_count": null,
      "id": "ef1ef6fb",
      "metadata": {
        "id": "ef1ef6fb"
      },
      "outputs": [],
      "source": [
        ""
      ]
    },
    {
      "cell_type": "code",
      "execution_count": null,
      "id": "ae9e4558",
      "metadata": {
        "id": "ae9e4558"
      },
      "outputs": [],
      "source": [
        ""
      ]
    },
    {
      "cell_type": "markdown",
      "id": "cff86fa9",
      "metadata": {
        "id": "cff86fa9"
      },
      "source": [
        "<a id=\"three\"></a>\n",
        "## Data Preprocessing"
      ]
    },
    {
      "cell_type": "code",
      "execution_count": null,
      "id": "9c820b6b",
      "metadata": {
        "id": "9c820b6b"
      },
      "outputs": [],
      "source": [
        "# Create a copy of the train data\n",
        "\n",
        "train_copy = train.copy()\n",
        "\n",
        "df_train = train_copy"
      ]
    },
    {
      "cell_type": "code",
      "execution_count": null,
      "id": "8f00cf7d",
      "metadata": {
        "id": "8f00cf7d"
      },
      "outputs": [],
      "source": [
        "# Create a copy of the test data\n",
        "\n",
        "test_copy = test.copy()\n",
        "\n",
        "df_test = test_copy"
      ]
    },
    {
      "cell_type": "markdown",
      "id": "585a2a69",
      "metadata": {
        "id": "585a2a69"
      },
      "source": [
        "### Merging datasets"
      ]
    },
    {
      "cell_type": "code",
      "execution_count": null,
      "id": "f870d1b8",
      "metadata": {
        "id": "f870d1b8",
        "outputId": "70103346-e39b-451e-f24d-26524b9c8a83"
      },
      "outputs": [
        {
          "data": {
            "text/html": [
              "<div>\n",
              "<style scoped>\n",
              "    .dataframe tbody tr th:only-of-type {\n",
              "        vertical-align: middle;\n",
              "    }\n",
              "\n",
              "    .dataframe tbody tr th {\n",
              "        vertical-align: top;\n",
              "    }\n",
              "\n",
              "    .dataframe thead th {\n",
              "        text-align: right;\n",
              "    }\n",
              "</style>\n",
              "<table border=\"1\" class=\"dataframe\">\n",
              "  <thead>\n",
              "    <tr style=\"text-align: right;\">\n",
              "      <th></th>\n",
              "      <th>userId</th>\n",
              "      <th>movieId</th>\n",
              "      <th>rating</th>\n",
              "      <th>timestamp</th>\n",
              "      <th>title</th>\n",
              "      <th>genres</th>\n",
              "    </tr>\n",
              "  </thead>\n",
              "  <tbody>\n",
              "    <tr>\n",
              "      <th>0</th>\n",
              "      <td>5163</td>\n",
              "      <td>57669</td>\n",
              "      <td>4.0</td>\n",
              "      <td>1518349992</td>\n",
              "      <td>In Bruges (2008)</td>\n",
              "      <td>Comedy|Crime|Drama|Thriller</td>\n",
              "    </tr>\n",
              "    <tr>\n",
              "      <th>1</th>\n",
              "      <td>87388</td>\n",
              "      <td>57669</td>\n",
              "      <td>3.5</td>\n",
              "      <td>1237455297</td>\n",
              "      <td>In Bruges (2008)</td>\n",
              "      <td>Comedy|Crime|Drama|Thriller</td>\n",
              "    </tr>\n",
              "    <tr>\n",
              "      <th>2</th>\n",
              "      <td>137050</td>\n",
              "      <td>57669</td>\n",
              "      <td>4.0</td>\n",
              "      <td>1425631854</td>\n",
              "      <td>In Bruges (2008)</td>\n",
              "      <td>Comedy|Crime|Drama|Thriller</td>\n",
              "    </tr>\n",
              "    <tr>\n",
              "      <th>3</th>\n",
              "      <td>120490</td>\n",
              "      <td>57669</td>\n",
              "      <td>4.5</td>\n",
              "      <td>1408228517</td>\n",
              "      <td>In Bruges (2008)</td>\n",
              "      <td>Comedy|Crime|Drama|Thriller</td>\n",
              "    </tr>\n",
              "    <tr>\n",
              "      <th>4</th>\n",
              "      <td>50616</td>\n",
              "      <td>57669</td>\n",
              "      <td>4.5</td>\n",
              "      <td>1446941640</td>\n",
              "      <td>In Bruges (2008)</td>\n",
              "      <td>Comedy|Crime|Drama|Thriller</td>\n",
              "    </tr>\n",
              "  </tbody>\n",
              "</table>\n",
              "</div>"
            ],
            "text/plain": [
              "   userId  movieId  rating   timestamp             title  \\\n",
              "0    5163    57669     4.0  1518349992  In Bruges (2008)   \n",
              "1   87388    57669     3.5  1237455297  In Bruges (2008)   \n",
              "2  137050    57669     4.0  1425631854  In Bruges (2008)   \n",
              "3  120490    57669     4.5  1408228517  In Bruges (2008)   \n",
              "4   50616    57669     4.5  1446941640  In Bruges (2008)   \n",
              "\n",
              "                        genres  \n",
              "0  Comedy|Crime|Drama|Thriller  \n",
              "1  Comedy|Crime|Drama|Thriller  \n",
              "2  Comedy|Crime|Drama|Thriller  \n",
              "3  Comedy|Crime|Drama|Thriller  \n",
              "4  Comedy|Crime|Drama|Thriller  "
            ]
          },
          "metadata": {},
          "output_type": "display_data"
        }
      ],
      "source": [
        "# Merge the df_train and df_movies\n",
        "df_merge = df_train.merge(df_movies, on='movieId')\n",
        "\n",
        "#Checking df_merge dataset head\n",
        "display(df_merge.head())"
      ]
    },
    {
      "cell_type": "code",
      "execution_count": null,
      "id": "02dab974",
      "metadata": {
        "id": "02dab974",
        "outputId": "18feda22-f43f-41db-fe47-d7d575290ba9"
      },
      "outputs": [
        {
          "data": {
            "text/html": [
              "<div>\n",
              "<style scoped>\n",
              "    .dataframe tbody tr th:only-of-type {\n",
              "        vertical-align: middle;\n",
              "    }\n",
              "\n",
              "    .dataframe tbody tr th {\n",
              "        vertical-align: top;\n",
              "    }\n",
              "\n",
              "    .dataframe thead th {\n",
              "        text-align: right;\n",
              "    }\n",
              "</style>\n",
              "<table border=\"1\" class=\"dataframe\">\n",
              "  <thead>\n",
              "    <tr style=\"text-align: right;\">\n",
              "      <th></th>\n",
              "      <th>userId</th>\n",
              "      <th>movieId</th>\n",
              "      <th>rating</th>\n",
              "      <th>timestamp</th>\n",
              "      <th>title</th>\n",
              "      <th>genres</th>\n",
              "      <th>title_cast</th>\n",
              "      <th>director</th>\n",
              "      <th>runtime</th>\n",
              "      <th>budget</th>\n",
              "      <th>plot_keywords</th>\n",
              "    </tr>\n",
              "  </thead>\n",
              "  <tbody>\n",
              "    <tr>\n",
              "      <th>0</th>\n",
              "      <td>5163</td>\n",
              "      <td>57669</td>\n",
              "      <td>4.0</td>\n",
              "      <td>1518349992</td>\n",
              "      <td>In Bruges (2008)</td>\n",
              "      <td>Comedy|Crime|Drama|Thriller</td>\n",
              "      <td>Elizabeth Berrington|Rudy Blomme|Olivier Bonjo...</td>\n",
              "      <td>Martin McDonagh</td>\n",
              "      <td>107.0</td>\n",
              "      <td>$15,000,000</td>\n",
              "      <td>dwarf|bruges|irish|hitman</td>\n",
              "    </tr>\n",
              "    <tr>\n",
              "      <th>1</th>\n",
              "      <td>87388</td>\n",
              "      <td>57669</td>\n",
              "      <td>3.5</td>\n",
              "      <td>1237455297</td>\n",
              "      <td>In Bruges (2008)</td>\n",
              "      <td>Comedy|Crime|Drama|Thriller</td>\n",
              "      <td>Elizabeth Berrington|Rudy Blomme|Olivier Bonjo...</td>\n",
              "      <td>Martin McDonagh</td>\n",
              "      <td>107.0</td>\n",
              "      <td>$15,000,000</td>\n",
              "      <td>dwarf|bruges|irish|hitman</td>\n",
              "    </tr>\n",
              "    <tr>\n",
              "      <th>2</th>\n",
              "      <td>137050</td>\n",
              "      <td>57669</td>\n",
              "      <td>4.0</td>\n",
              "      <td>1425631854</td>\n",
              "      <td>In Bruges (2008)</td>\n",
              "      <td>Comedy|Crime|Drama|Thriller</td>\n",
              "      <td>Elizabeth Berrington|Rudy Blomme|Olivier Bonjo...</td>\n",
              "      <td>Martin McDonagh</td>\n",
              "      <td>107.0</td>\n",
              "      <td>$15,000,000</td>\n",
              "      <td>dwarf|bruges|irish|hitman</td>\n",
              "    </tr>\n",
              "    <tr>\n",
              "      <th>3</th>\n",
              "      <td>120490</td>\n",
              "      <td>57669</td>\n",
              "      <td>4.5</td>\n",
              "      <td>1408228517</td>\n",
              "      <td>In Bruges (2008)</td>\n",
              "      <td>Comedy|Crime|Drama|Thriller</td>\n",
              "      <td>Elizabeth Berrington|Rudy Blomme|Olivier Bonjo...</td>\n",
              "      <td>Martin McDonagh</td>\n",
              "      <td>107.0</td>\n",
              "      <td>$15,000,000</td>\n",
              "      <td>dwarf|bruges|irish|hitman</td>\n",
              "    </tr>\n",
              "    <tr>\n",
              "      <th>4</th>\n",
              "      <td>50616</td>\n",
              "      <td>57669</td>\n",
              "      <td>4.5</td>\n",
              "      <td>1446941640</td>\n",
              "      <td>In Bruges (2008)</td>\n",
              "      <td>Comedy|Crime|Drama|Thriller</td>\n",
              "      <td>Elizabeth Berrington|Rudy Blomme|Olivier Bonjo...</td>\n",
              "      <td>Martin McDonagh</td>\n",
              "      <td>107.0</td>\n",
              "      <td>$15,000,000</td>\n",
              "      <td>dwarf|bruges|irish|hitman</td>\n",
              "    </tr>\n",
              "  </tbody>\n",
              "</table>\n",
              "</div>"
            ],
            "text/plain": [
              "   userId  movieId  rating   timestamp             title  \\\n",
              "0    5163    57669     4.0  1518349992  In Bruges (2008)   \n",
              "1   87388    57669     3.5  1237455297  In Bruges (2008)   \n",
              "2  137050    57669     4.0  1425631854  In Bruges (2008)   \n",
              "3  120490    57669     4.5  1408228517  In Bruges (2008)   \n",
              "4   50616    57669     4.5  1446941640  In Bruges (2008)   \n",
              "\n",
              "                        genres  \\\n",
              "0  Comedy|Crime|Drama|Thriller   \n",
              "1  Comedy|Crime|Drama|Thriller   \n",
              "2  Comedy|Crime|Drama|Thriller   \n",
              "3  Comedy|Crime|Drama|Thriller   \n",
              "4  Comedy|Crime|Drama|Thriller   \n",
              "\n",
              "                                          title_cast         director  \\\n",
              "0  Elizabeth Berrington|Rudy Blomme|Olivier Bonjo...  Martin McDonagh   \n",
              "1  Elizabeth Berrington|Rudy Blomme|Olivier Bonjo...  Martin McDonagh   \n",
              "2  Elizabeth Berrington|Rudy Blomme|Olivier Bonjo...  Martin McDonagh   \n",
              "3  Elizabeth Berrington|Rudy Blomme|Olivier Bonjo...  Martin McDonagh   \n",
              "4  Elizabeth Berrington|Rudy Blomme|Olivier Bonjo...  Martin McDonagh   \n",
              "\n",
              "   runtime       budget              plot_keywords  \n",
              "0    107.0  $15,000,000  dwarf|bruges|irish|hitman  \n",
              "1    107.0  $15,000,000  dwarf|bruges|irish|hitman  \n",
              "2    107.0  $15,000,000  dwarf|bruges|irish|hitman  \n",
              "3    107.0  $15,000,000  dwarf|bruges|irish|hitman  \n",
              "4    107.0  $15,000,000  dwarf|bruges|irish|hitman  "
            ]
          },
          "metadata": {},
          "output_type": "display_data"
        },
        {
          "data": {
            "text/plain": [
              "userId                 0\n",
              "movieId                0\n",
              "rating                 0\n",
              "timestamp              0\n",
              "title                  0\n",
              "genres                 0\n",
              "title_cast       2604407\n",
              "director         2602688\n",
              "runtime          2653058\n",
              "budget           3152276\n",
              "plot_keywords    2610043\n",
              "dtype: int64"
            ]
          },
          "metadata": {},
          "output_type": "display_data"
        }
      ],
      "source": [
        "# Merge the df_merge and df_imdb\n",
        "df_merge1 = df_merge.merge(df_imdb, on='movieId')\n",
        "\n",
        "#Checking df_merge dataset head\n",
        "display(df_merge1.head())\n",
        "\n",
        "#Checking for null values\n",
        "display(df_merge1.isnull().sum())"
      ]
    },
    {
      "cell_type": "markdown",
      "id": "0d13a97b",
      "metadata": {
        "id": "0d13a97b"
      },
      "source": [
        "<a id=\"four\"></a>\n",
        "## Explotory Data Analysis"
      ]
    },
    {
      "cell_type": "code",
      "execution_count": null,
      "id": "e99a7150",
      "metadata": {
        "id": "e99a7150"
      },
      "outputs": [],
      "source": [
        ""
      ]
    },
    {
      "cell_type": "code",
      "execution_count": null,
      "id": "770e5821",
      "metadata": {
        "id": "770e5821"
      },
      "outputs": [],
      "source": [
        ""
      ]
    },
    {
      "cell_type": "code",
      "execution_count": null,
      "id": "89dbf871",
      "metadata": {
        "id": "89dbf871"
      },
      "outputs": [],
      "source": [
        ""
      ]
    },
    {
      "cell_type": "code",
      "execution_count": null,
      "id": "40934a23",
      "metadata": {
        "id": "40934a23"
      },
      "outputs": [],
      "source": [
        ""
      ]
    },
    {
      "cell_type": "markdown",
      "id": "5d8f23c9",
      "metadata": {
        "id": "5d8f23c9"
      },
      "source": [
        "<a id=\"five\"></a>\n",
        "## Modeling"
      ]
    },
    {
      "cell_type": "code",
      "execution_count": null,
      "id": "f3dedb56",
      "metadata": {
        "id": "f3dedb56"
      },
      "outputs": [],
      "source": [
        ""
      ]
    },
    {
      "cell_type": "code",
      "execution_count": null,
      "id": "535e61df",
      "metadata": {
        "id": "535e61df"
      },
      "outputs": [],
      "source": [
        ""
      ]
    },
    {
      "cell_type": "code",
      "execution_count": null,
      "id": "767cb13f",
      "metadata": {
        "id": "767cb13f"
      },
      "outputs": [],
      "source": [
        ""
      ]
    },
    {
      "cell_type": "code",
      "execution_count": null,
      "id": "e40af92b",
      "metadata": {
        "id": "e40af92b"
      },
      "outputs": [],
      "source": [
        ""
      ]
    },
    {
      "cell_type": "markdown",
      "id": "b32eeb1e",
      "metadata": {
        "id": "b32eeb1e"
      },
      "source": [
        "<a id=\"six\"></a>\n",
        "## Model Performance"
      ]
    },
    {
      "cell_type": "code",
      "execution_count": null,
      "id": "28ec5df9",
      "metadata": {
        "id": "28ec5df9"
      },
      "outputs": [],
      "source": [
        ""
      ]
    },
    {
      "cell_type": "code",
      "execution_count": null,
      "id": "12f16455",
      "metadata": {
        "id": "12f16455"
      },
      "outputs": [],
      "source": [
        ""
      ]
    },
    {
      "cell_type": "code",
      "execution_count": null,
      "id": "e4ac9da6",
      "metadata": {
        "id": "e4ac9da6"
      },
      "outputs": [],
      "source": [
        ""
      ]
    },
    {
      "cell_type": "code",
      "execution_count": null,
      "id": "77b4d1b2",
      "metadata": {
        "id": "77b4d1b2"
      },
      "outputs": [],
      "source": [
        ""
      ]
    },
    {
      "cell_type": "markdown",
      "id": "bc24aa34",
      "metadata": {
        "id": "bc24aa34"
      },
      "source": [
        "<a id=\"seven\"></a>\n",
        "## Model Explanations"
      ]
    },
    {
      "cell_type": "code",
      "execution_count": null,
      "id": "923fbe80",
      "metadata": {
        "id": "923fbe80"
      },
      "outputs": [],
      "source": [
        ""
      ]
    },
    {
      "cell_type": "code",
      "execution_count": null,
      "id": "417861b8",
      "metadata": {
        "id": "417861b8"
      },
      "outputs": [],
      "source": [
        ""
      ]
    },
    {
      "cell_type": "code",
      "execution_count": null,
      "id": "4cce8eae",
      "metadata": {
        "id": "4cce8eae"
      },
      "outputs": [],
      "source": [
        ""
      ]
    },
    {
      "cell_type": "code",
      "execution_count": null,
      "id": "c67afcde",
      "metadata": {
        "id": "c67afcde"
      },
      "outputs": [],
      "source": [
        ""
      ]
    }
  ],
  "metadata": {
    "kernelspec": {
      "display_name": "Python 3",
      "language": "python",
      "name": "python3"
    },
    "language_info": {
      "codemirror_mode": {
        "name": "ipython",
        "version": 3
      },
      "file_extension": ".py",
      "mimetype": "text/x-python",
      "name": "python",
      "nbconvert_exporter": "python",
      "pygments_lexer": "ipython3",
      "version": "3.8.8"
    },
    "colab": {
      "name": "Team 15 Unsupervised Predict.ipynb",
      "provenance": [],
      "collapsed_sections": [],
      "include_colab_link": true
    }
  },
  "nbformat": 4,
  "nbformat_minor": 5
}