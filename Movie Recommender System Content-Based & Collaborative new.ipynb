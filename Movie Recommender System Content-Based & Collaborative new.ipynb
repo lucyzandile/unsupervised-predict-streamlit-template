{
  "cells": [
    {
      "cell_type": "markdown",
      "metadata": {
        "id": "view-in-github",
        "colab_type": "text"
      },
      "source": [
        "<a href=\"https://colab.research.google.com/github/lucyzandile/unsupervised-predict-streamlit-template/blob/master/Movie%20Recommender%20System%20Content-Based%20%26%20Collaborative%20new.ipynb\" target=\"_parent\"><img src=\"https://colab.research.google.com/assets/colab-badge.svg\" alt=\"Open In Colab\"/></a>"
      ]
    },
    {
      "cell_type": "markdown",
      "source": [
        "# Introduction\n",
        "\n",
        "Media platforms such as Netflix, ShowMax, Amazon Prime offer a wide variety of content. in recent years the content available through these platforms has increased exponentially. This has presented the users with the problem of spending a lot of time trying to decide what to watch. For these organisations building or acquiring a good recommender system has become a priority as it will help their users find what they liked quickly. Express analytics define a recommender system as a compelling information filtering system running on machine learning (ML) algorithms that can predict a customer’s ratings or preferences for a product. A good recommender engine help to address the challenge of information overload.\n",
        "\n",
        "### Types of Recommender Systems\n",
        "\n",
        "Recommender systems can be classified into three categories:\n",
        "- **Content based filtering** finds similarities between products based on attributes\n",
        "- **Collaborative filtering** finds out similar users based on user item interactions\n",
        "- **Hybrids** is a combination of the above mentions recommender systems.\n",
        "\n",
        "## Problem Statement\n",
        "\n",
        "Construct a recommendation algorithm based on content or collaborative filtering, capable of accurately predicting how a user will rate a movie they have not yet viewed, based on their historical preferences."
      ],
      "metadata": {
        "id": "pE75xHyOz3k-"
      },
      "id": "pE75xHyOz3k-"
    },
    {
      "cell_type": "code",
      "execution_count": null,
      "id": "e9320831",
      "metadata": {
        "id": "e9320831"
      },
      "outputs": [],
      "source": [
        "# Libraries for data loading, data manipulation and data visulisation\n",
        "\n",
        "import pandas as pd\n",
        "\n",
        "import numpy as np\n",
        "\n",
        "\n",
        "import matplotlib.pyplot as plt\n",
        "import seaborn as sns\n",
        "\n",
        "import warnings\n",
        "warnings.filterwarnings('ignore')"
      ]
    },
    {
      "cell_type": "code",
      "execution_count": null,
      "id": "27885214",
      "metadata": {
        "id": "27885214",
        "outputId": "4ac95f74-b72e-48e3-9838-f7ce4c17ad8e"
      },
      "outputs": [
        {
          "data": {
            "text/html": [
              "        <script type=\"text/javascript\">\n",
              "        window.PlotlyConfig = {MathJaxConfig: 'local'};\n",
              "        if (window.MathJax) {MathJax.Hub.Config({SVG: {font: \"STIX-Web\"}});}\n",
              "        if (typeof require !== 'undefined') {\n",
              "        require.undef(\"plotly\");\n",
              "        requirejs.config({\n",
              "            paths: {\n",
              "                'plotly': ['https://cdn.plot.ly/plotly-2.6.3.min']\n",
              "            }\n",
              "        });\n",
              "        require(['plotly'], function(Plotly) {\n",
              "            window._Plotly = Plotly;\n",
              "        });\n",
              "        }\n",
              "        </script>\n",
              "        "
            ]
          },
          "metadata": {},
          "output_type": "display_data"
        },
        {
          "name": "stdout",
          "output_type": "stream",
          "text": [
            "Requirement already satisfied: wordcloud in c:\\users\\thandazani\\anaconda3\\lib\\site-packages (1.8.1)\n",
            "Requirement already satisfied: numpy>=1.6.1 in c:\\users\\thandazani\\anaconda3\\lib\\site-packages (from wordcloud) (1.20.1)\n",
            "Requirement already satisfied: matplotlib in c:\\users\\thandazani\\anaconda3\\lib\\site-packages (from wordcloud) (3.3.4)\n",
            "Requirement already satisfied: pillow in c:\\users\\thandazani\\anaconda3\\lib\\site-packages (from wordcloud) (8.2.0)\n",
            "Requirement already satisfied: python-dateutil>=2.1 in c:\\users\\thandazani\\anaconda3\\lib\\site-packages (from matplotlib->wordcloud) (2.8.1)\n",
            "Requirement already satisfied: cycler>=0.10 in c:\\users\\thandazani\\anaconda3\\lib\\site-packages (from matplotlib->wordcloud) (0.10.0)\n",
            "Requirement already satisfied: pyparsing!=2.0.4,!=2.1.2,!=2.1.6,>=2.0.3 in c:\\users\\thandazani\\anaconda3\\lib\\site-packages (from matplotlib->wordcloud) (2.4.7)\n",
            "Requirement already satisfied: kiwisolver>=1.0.1 in c:\\users\\thandazani\\anaconda3\\lib\\site-packages (from matplotlib->wordcloud) (1.3.1)\n",
            "Requirement already satisfied: six in c:\\users\\thandazani\\anaconda3\\lib\\site-packages (from cycler>=0.10->matplotlib->wordcloud) (1.15.0)\n"
          ]
        }
      ],
      "source": [
        "from plotly.offline import init_notebook_mode, plot, iplot\n",
        "import plotly.graph_objs as go\n",
        "init_notebook_mode(connected=True)\n",
        "\n",
        "#Wordcloud\n",
        "!pip install wordcloud\n",
        "from wordcloud import WordCloud, STOPWORDS, ImageColorGenerator\n",
        "\n",
        "#others\n",
        "import warnings\n",
        "warnings.filterwarnings('ignore')\n",
        "from IPython.display import display_html \n",
        "from IPython.core.display import HTML\n",
        "from collections import defaultdict\n",
        "import datetime\n",
        "import re"
      ]
    },
    {
      "cell_type": "code",
      "source": [
        "from google.colab import drive\n",
        "drive.mount('/content/drive')"
      ],
      "metadata": {
        "id": "rTo3vCQ2yMWl"
      },
      "id": "rTo3vCQ2yMWl",
      "execution_count": null,
      "outputs": []
    },
    {
      "cell_type": "markdown",
      "source": [
        "<a id=\"two\"></a>\n",
        "## Loading the Data"
      ],
      "metadata": {
        "id": "BMZq5QvEyF5C"
      },
      "id": "BMZq5QvEyF5C"
    },
    {
      "cell_type": "code",
      "execution_count": null,
      "id": "49fc562d",
      "metadata": {
        "id": "49fc562d"
      },
      "outputs": [],
      "source": [
        "#Loading the data\n",
        "df_train = pd.read_csv('C:/Users/Thandazani/Movie Recommender System/train.csv')\n",
        "df_test = pd.read_csv('C:/Users/Thandazani/Movie Recommender System/test.csv')\n",
        "df_links = pd.read_csv('C:/Users/Thandazani/Movie Recommender System/links.csv')\n",
        "df_movies = pd.read_csv('C:/Users/Thandazani/Movie Recommender System/movies.csv')\n",
        "df_imdb = pd.read_csv('C:/Users/Thandazani/Movie Recommender System/imdb_data.csv')\n",
        "df_tags = pd.read_csv('C:/Users/Thandazani/Movie Recommender System/tags.csv')\n",
        "df_genome_tags = pd.read_csv('C:/Users/Thandazani/Movie Recommender System/genome_tags.csv')\n",
        "df_genome_scores = pd.read_csv('C:/Users/Thandazani/Movie Recommender System/genome_scores.csv')\n",
        "df_sample_submission = pd.read_csv('C:/Users/Thandazani/Movie Recommender System/sample_submission.csv')"
      ]
    },
    {
      "cell_type": "markdown",
      "source": [
        "<a id=\"three\"></a>\n",
        "## Exploratory Data Analysis (EDA)"
      ],
      "metadata": {
        "id": "wFkIBk-cywNe"
      },
      "id": "wFkIBk-cywNe"
    },
    {
      "cell_type": "markdown",
      "id": "a7c24d8a",
      "metadata": {
        "id": "a7c24d8a"
      },
      "source": [
        "# EDA(Exploratory Data Analysis)\n",
        "\n",
        "## Data Description\n",
        "\n",
        "Here is the data that we are was given to us. Supplied Files\n",
        "\n",
        "genome_scores.csv - a score mapping the strength between movies and tag-related properties. Read more here\n",
        "genome_tags.csv - user assigned tags for genome-related scores\n",
        "imdb_data.csv - Additional movie metadata scraped from IMDB using the links.csv file.\n",
        "links.csv - File providing a mapping between a MovieLens ID and associated IMDB and TMDB IDs.\n",
        "sample_submission.csv - Sample of the submission format for the hackathon.\n",
        "tags.csv - User assigned for the movies within the dataset.\n",
        "test.csv - The test split of the dataset. Contains user and movie IDs with no rating data.\n",
        "train.csv - The training split of the dataset. Contains user and movie IDs with associated rating data.\n",
        "Description of the data that is given to us\n",
        "\n",
        "## Viewing Our Data"
      ]
    },
    {
      "cell_type": "code",
      "execution_count": null,
      "id": "c65b7b46",
      "metadata": {
        "id": "c65b7b46"
      },
      "outputs": [],
      "source": [
        "#Function to display all data\n",
        "def data_overview_display(dataframe_list,column_names=[]):\n",
        "    \"\"\"\n",
        "    Displays multiple dataframes in one cell.\n",
        "\n",
        "    Parameter(s):\n",
        "    -------------\n",
        "    dataframe_list(DataFrame(s)): an input of dataframe(s) as list.\n",
        "    column_names(string): list of string.\n",
        "    \n",
        "    Return\n",
        "    ------\n",
        "    display_html(DataFrame(s)): returns multiple of dataframes in one cell.\n",
        "    \n",
        "    \"\"\"\n",
        "    html_string = ''\n",
        "    html_string += ('<tr>' + ''.join(f'<td style=\"text-align:center\">{name}</td>' for name in column_names) + '</tr>')\n",
        "    html_string += ('<tr>' + ''.join(f'<td style=\"vertical-align:top\"> {df.to_html(index=True)}</td>' for df in dataframe_list) + '</tr>')\n",
        "    html_string = f'<table>{html_string}</table>'\n",
        "    html_string = html_string.replace('table','table style=\"display:inline\"')\n",
        "    display_html(html_string, raw=True)"
      ]
    },
    {
      "cell_type": "code",
      "execution_count": null,
      "id": "150ca7a9",
      "metadata": {
        "id": "150ca7a9",
        "outputId": "55a8badb-5e86-40df-879a-bb34e1a05c82"
      },
      "outputs": [
        {
          "data": {
            "text/html": [
              "<table style=\"display:inline\"><tr><td style=\"text-align:center\">Movies dataframe</td><td style=\"text-align:center\">genome tags df</td><td style=\"text-align:center\">genome scores df</td></tr><tr><td style=\"vertical-align:top\"> <table style=\"display:inline\" border=\"1\" class=\"dataframe\">\n",
              "  <thead>\n",
              "    <tr style=\"text-align: right;\">\n",
              "      <th></th>\n",
              "      <th>movieId</th>\n",
              "      <th>title</th>\n",
              "      <th>genres</th>\n",
              "    </tr>\n",
              "  </thead>\n",
              "  <tbody>\n",
              "    <tr>\n",
              "      <th>0</th>\n",
              "      <td>1</td>\n",
              "      <td>Toy Story (1995)</td>\n",
              "      <td>Adventure|Animation|Children|Comedy|Fantasy</td>\n",
              "    </tr>\n",
              "    <tr>\n",
              "      <th>1</th>\n",
              "      <td>2</td>\n",
              "      <td>Jumanji (1995)</td>\n",
              "      <td>Adventure|Children|Fantasy</td>\n",
              "    </tr>\n",
              "    <tr>\n",
              "      <th>2</th>\n",
              "      <td>3</td>\n",
              "      <td>Grumpier Old Men (1995)</td>\n",
              "      <td>Comedy|Romance</td>\n",
              "    </tr>\n",
              "    <tr>\n",
              "      <th>3</th>\n",
              "      <td>4</td>\n",
              "      <td>Waiting to Exhale (1995)</td>\n",
              "      <td>Comedy|Drama|Romance</td>\n",
              "    </tr>\n",
              "    <tr>\n",
              "      <th>4</th>\n",
              "      <td>5</td>\n",
              "      <td>Father of the Bride Part II (1995)</td>\n",
              "      <td>Comedy</td>\n",
              "    </tr>\n",
              "  </tbody>\n",
              "</table style=\"display:inline\"></td><td style=\"vertical-align:top\"> <table style=\"display:inline\" border=\"1\" class=\"dataframe\">\n",
              "  <thead>\n",
              "    <tr style=\"text-align: right;\">\n",
              "      <th></th>\n",
              "      <th>tagId</th>\n",
              "      <th>tag</th>\n",
              "    </tr>\n",
              "  </thead>\n",
              "  <tbody>\n",
              "    <tr>\n",
              "      <th>0</th>\n",
              "      <td>1</td>\n",
              "      <td>007</td>\n",
              "    </tr>\n",
              "    <tr>\n",
              "      <th>1</th>\n",
              "      <td>2</td>\n",
              "      <td>007 (series)</td>\n",
              "    </tr>\n",
              "    <tr>\n",
              "      <th>2</th>\n",
              "      <td>3</td>\n",
              "      <td>18th century</td>\n",
              "    </tr>\n",
              "    <tr>\n",
              "      <th>3</th>\n",
              "      <td>4</td>\n",
              "      <td>1920s</td>\n",
              "    </tr>\n",
              "    <tr>\n",
              "      <th>4</th>\n",
              "      <td>5</td>\n",
              "      <td>1930s</td>\n",
              "    </tr>\n",
              "  </tbody>\n",
              "</table style=\"display:inline\"></td><td style=\"vertical-align:top\"> <table style=\"display:inline\" border=\"1\" class=\"dataframe\">\n",
              "  <thead>\n",
              "    <tr style=\"text-align: right;\">\n",
              "      <th></th>\n",
              "      <th>movieId</th>\n",
              "      <th>tagId</th>\n",
              "      <th>relevance</th>\n",
              "    </tr>\n",
              "  </thead>\n",
              "  <tbody>\n",
              "    <tr>\n",
              "      <th>0</th>\n",
              "      <td>1</td>\n",
              "      <td>1</td>\n",
              "      <td>0.02875</td>\n",
              "    </tr>\n",
              "    <tr>\n",
              "      <th>1</th>\n",
              "      <td>1</td>\n",
              "      <td>2</td>\n",
              "      <td>0.02375</td>\n",
              "    </tr>\n",
              "    <tr>\n",
              "      <th>2</th>\n",
              "      <td>1</td>\n",
              "      <td>3</td>\n",
              "      <td>0.06250</td>\n",
              "    </tr>\n",
              "    <tr>\n",
              "      <th>3</th>\n",
              "      <td>1</td>\n",
              "      <td>4</td>\n",
              "      <td>0.07575</td>\n",
              "    </tr>\n",
              "    <tr>\n",
              "      <th>4</th>\n",
              "      <td>1</td>\n",
              "      <td>5</td>\n",
              "      <td>0.14075</td>\n",
              "    </tr>\n",
              "  </tbody>\n",
              "</table style=\"display:inline\"></td></tr></table style=\"display:inline\">"
            ]
          },
          "metadata": {},
          "output_type": "display_data"
        },
        {
          "data": {
            "text/html": [
              "<table style=\"display:inline\"><tr><td style=\"text-align:center\">Train df</td><td style=\"text-align:center\">Test df</td><td style=\"text-align:center\">Links df</td><td style=\"text-align:center\">Tags df</td></tr><tr><td style=\"vertical-align:top\"> <table style=\"display:inline\" border=\"1\" class=\"dataframe\">\n",
              "  <thead>\n",
              "    <tr style=\"text-align: right;\">\n",
              "      <th></th>\n",
              "      <th>userId</th>\n",
              "      <th>movieId</th>\n",
              "      <th>rating</th>\n",
              "      <th>timestamp</th>\n",
              "    </tr>\n",
              "  </thead>\n",
              "  <tbody>\n",
              "    <tr>\n",
              "      <th>0</th>\n",
              "      <td>5163</td>\n",
              "      <td>57669</td>\n",
              "      <td>4.0</td>\n",
              "      <td>1518349992</td>\n",
              "    </tr>\n",
              "    <tr>\n",
              "      <th>1</th>\n",
              "      <td>106343</td>\n",
              "      <td>5</td>\n",
              "      <td>4.5</td>\n",
              "      <td>1206238739</td>\n",
              "    </tr>\n",
              "    <tr>\n",
              "      <th>2</th>\n",
              "      <td>146790</td>\n",
              "      <td>5459</td>\n",
              "      <td>5.0</td>\n",
              "      <td>1076215539</td>\n",
              "    </tr>\n",
              "    <tr>\n",
              "      <th>3</th>\n",
              "      <td>106362</td>\n",
              "      <td>32296</td>\n",
              "      <td>2.0</td>\n",
              "      <td>1423042565</td>\n",
              "    </tr>\n",
              "    <tr>\n",
              "      <th>4</th>\n",
              "      <td>9041</td>\n",
              "      <td>366</td>\n",
              "      <td>3.0</td>\n",
              "      <td>833375837</td>\n",
              "    </tr>\n",
              "  </tbody>\n",
              "</table style=\"display:inline\"></td><td style=\"vertical-align:top\"> <table style=\"display:inline\" border=\"1\" class=\"dataframe\">\n",
              "  <thead>\n",
              "    <tr style=\"text-align: right;\">\n",
              "      <th></th>\n",
              "      <th>userId</th>\n",
              "      <th>movieId</th>\n",
              "    </tr>\n",
              "  </thead>\n",
              "  <tbody>\n",
              "    <tr>\n",
              "      <th>0</th>\n",
              "      <td>1</td>\n",
              "      <td>2011</td>\n",
              "    </tr>\n",
              "    <tr>\n",
              "      <th>1</th>\n",
              "      <td>1</td>\n",
              "      <td>4144</td>\n",
              "    </tr>\n",
              "    <tr>\n",
              "      <th>2</th>\n",
              "      <td>1</td>\n",
              "      <td>5767</td>\n",
              "    </tr>\n",
              "    <tr>\n",
              "      <th>3</th>\n",
              "      <td>1</td>\n",
              "      <td>6711</td>\n",
              "    </tr>\n",
              "    <tr>\n",
              "      <th>4</th>\n",
              "      <td>1</td>\n",
              "      <td>7318</td>\n",
              "    </tr>\n",
              "  </tbody>\n",
              "</table style=\"display:inline\"></td><td style=\"vertical-align:top\"> <table style=\"display:inline\" border=\"1\" class=\"dataframe\">\n",
              "  <thead>\n",
              "    <tr style=\"text-align: right;\">\n",
              "      <th></th>\n",
              "      <th>movieId</th>\n",
              "      <th>imdbId</th>\n",
              "      <th>tmdbId</th>\n",
              "    </tr>\n",
              "  </thead>\n",
              "  <tbody>\n",
              "    <tr>\n",
              "      <th>0</th>\n",
              "      <td>1</td>\n",
              "      <td>114709</td>\n",
              "      <td>862.0</td>\n",
              "    </tr>\n",
              "    <tr>\n",
              "      <th>1</th>\n",
              "      <td>2</td>\n",
              "      <td>113497</td>\n",
              "      <td>8844.0</td>\n",
              "    </tr>\n",
              "    <tr>\n",
              "      <th>2</th>\n",
              "      <td>3</td>\n",
              "      <td>113228</td>\n",
              "      <td>15602.0</td>\n",
              "    </tr>\n",
              "    <tr>\n",
              "      <th>3</th>\n",
              "      <td>4</td>\n",
              "      <td>114885</td>\n",
              "      <td>31357.0</td>\n",
              "    </tr>\n",
              "    <tr>\n",
              "      <th>4</th>\n",
              "      <td>5</td>\n",
              "      <td>113041</td>\n",
              "      <td>11862.0</td>\n",
              "    </tr>\n",
              "  </tbody>\n",
              "</table style=\"display:inline\"></td><td style=\"vertical-align:top\"> <table style=\"display:inline\" border=\"1\" class=\"dataframe\">\n",
              "  <thead>\n",
              "    <tr style=\"text-align: right;\">\n",
              "      <th></th>\n",
              "      <th>userId</th>\n",
              "      <th>movieId</th>\n",
              "      <th>tag</th>\n",
              "      <th>timestamp</th>\n",
              "    </tr>\n",
              "  </thead>\n",
              "  <tbody>\n",
              "    <tr>\n",
              "      <th>0</th>\n",
              "      <td>3</td>\n",
              "      <td>260</td>\n",
              "      <td>classic</td>\n",
              "      <td>1439472355</td>\n",
              "    </tr>\n",
              "    <tr>\n",
              "      <th>1</th>\n",
              "      <td>3</td>\n",
              "      <td>260</td>\n",
              "      <td>sci-fi</td>\n",
              "      <td>1439472256</td>\n",
              "    </tr>\n",
              "    <tr>\n",
              "      <th>2</th>\n",
              "      <td>4</td>\n",
              "      <td>1732</td>\n",
              "      <td>dark comedy</td>\n",
              "      <td>1573943598</td>\n",
              "    </tr>\n",
              "    <tr>\n",
              "      <th>3</th>\n",
              "      <td>4</td>\n",
              "      <td>1732</td>\n",
              "      <td>great dialogue</td>\n",
              "      <td>1573943604</td>\n",
              "    </tr>\n",
              "    <tr>\n",
              "      <th>4</th>\n",
              "      <td>4</td>\n",
              "      <td>7569</td>\n",
              "      <td>so bad it's good</td>\n",
              "      <td>1573943455</td>\n",
              "    </tr>\n",
              "  </tbody>\n",
              "</table style=\"display:inline\"></td></tr></table style=\"display:inline\">"
            ]
          },
          "metadata": {},
          "output_type": "display_data"
        },
        {
          "data": {
            "text/html": [
              "<table style=\"display:inline\"><tr><td style=\"text-align:center\">Imdb df</td></tr><tr><td style=\"vertical-align:top\"> <table style=\"display:inline\" border=\"1\" class=\"dataframe\">\n",
              "  <thead>\n",
              "    <tr style=\"text-align: right;\">\n",
              "      <th></th>\n",
              "      <th>movieId</th>\n",
              "      <th>title_cast</th>\n",
              "      <th>director</th>\n",
              "      <th>runtime</th>\n",
              "      <th>budget</th>\n",
              "      <th>plot_keywords</th>\n",
              "    </tr>\n",
              "  </thead>\n",
              "  <tbody>\n",
              "    <tr>\n",
              "      <th>0</th>\n",
              "      <td>1</td>\n",
              "      <td>Tom Hanks|Tim Allen|Don Rickles|Jim Varney|Wallace Shawn|John Ratzenberger|Annie Potts|John Morris|Erik von Detten|Laurie Metcalf|R. Lee Ermey|Sarah Freeman|Penn Jillette|Jack Angel|Spencer Aste</td>\n",
              "      <td>John Lasseter</td>\n",
              "      <td>81.0</td>\n",
              "      <td>$30,000,000</td>\n",
              "      <td>toy|rivalry|cowboy|cgi animation</td>\n",
              "    </tr>\n",
              "    <tr>\n",
              "      <th>1</th>\n",
              "      <td>2</td>\n",
              "      <td>Robin Williams|Jonathan Hyde|Kirsten Dunst|Bradley Pierce|Bonnie Hunt|Bebe Neuwirth|David Alan Grier|Patricia Clarkson|Adam Hann-Byrd|Laura Bell Bundy|James Handy|Gillian Barber|Brandon Obray|Cyrus Thiedeke|Gary Joseph Thorup</td>\n",
              "      <td>Jonathan Hensleigh</td>\n",
              "      <td>104.0</td>\n",
              "      <td>$65,000,000</td>\n",
              "      <td>board game|adventurer|fight|game</td>\n",
              "    </tr>\n",
              "    <tr>\n",
              "      <th>2</th>\n",
              "      <td>3</td>\n",
              "      <td>Walter Matthau|Jack Lemmon|Sophia Loren|Ann-Margret|Burgess Meredith|Daryl Hannah|Kevin Pollak|Katie Sagona|Ann Morgan Guilbert|James Andelin|Marcus Klemp|Max Wright|Cheryl Hawker|Wayne A. Evenson|Allison Levine</td>\n",
              "      <td>Mark Steven Johnson</td>\n",
              "      <td>101.0</td>\n",
              "      <td>$25,000,000</td>\n",
              "      <td>boat|lake|neighbor|rivalry</td>\n",
              "    </tr>\n",
              "    <tr>\n",
              "      <th>3</th>\n",
              "      <td>4</td>\n",
              "      <td>Whitney Houston|Angela Bassett|Loretta Devine|Lela Rochon|Gregory Hines|Dennis Haysbert|Mykelti Williamson|Michael Beach|Leon|Wendell Pierce|Donald Faison|Jeffrey D. Sams|Jazz Raycole|Brandon Hammond|Kenya Moore</td>\n",
              "      <td>Terry McMillan</td>\n",
              "      <td>124.0</td>\n",
              "      <td>$16,000,000</td>\n",
              "      <td>black american|husband wife relationship|betrayal|mother son relationship</td>\n",
              "    </tr>\n",
              "    <tr>\n",
              "      <th>4</th>\n",
              "      <td>5</td>\n",
              "      <td>Steve Martin|Diane Keaton|Martin Short|Kimberly Williams-Paisley|George Newbern|Kieran Culkin|BD Wong|Peter Michael Goetz|Kate McGregor-Stewart|Jane Adams|Eugene Levy|Rebecca Chambers|April Ortiz|Dulcy Rogers|Kathy Anthony</td>\n",
              "      <td>Albert Hackett</td>\n",
              "      <td>106.0</td>\n",
              "      <td>$30,000,000</td>\n",
              "      <td>fatherhood|doberman|dog|mansion</td>\n",
              "    </tr>\n",
              "  </tbody>\n",
              "</table style=\"display:inline\"></td></tr></table style=\"display:inline\">"
            ]
          },
          "metadata": {},
          "output_type": "display_data"
        }
      ],
      "source": [
        "#Generate the overview\n",
        "data_overview_display([df_movies.head(),df_genome_tags.head(),df_genome_scores.head()], column_names=['Movies dataframe','genome tags df','genome scores df'])\n",
        "data_overview_display([df_train.head(),df_test.head(),df_links.head(),df_tags.head()], column_names=['Train df','Test df','Links df','Tags df'])\n",
        "data_overview_display([df_imdb.head()], column_names=['Imdb df'])"
      ]
    },
    {
      "cell_type": "markdown",
      "id": "8bf944f7",
      "metadata": {
        "id": "8bf944f7"
      },
      "source": [
        "## Checking for duplicates"
      ]
    },
    {
      "cell_type": "code",
      "execution_count": null,
      "id": "cd3f0a2a",
      "metadata": {
        "id": "cd3f0a2a"
      },
      "outputs": [],
      "source": [
        "#Create the duplicates values dataframes of all the given data\n",
        "train_duplicates = pd.DataFrame({\"Duplicate Values\":df_train.duplicated(['userId', 'movieId', 'rating', 'timestamp']).sum()}, index=[0])\n",
        "train_duplicates = pd.DataFrame({\"Duplicate Values\":df_test.duplicated(['userId', 'movieId']).sum()}, index=[0])\n",
        "movies_duplicates = pd.DataFrame({\"Duplicate Values\":df_movies.duplicated(['movieId', 'title', 'genres']).sum()}, index=[0])\n",
        "links_duplicates = pd.DataFrame({\"Duplicate Values\":df_links.duplicated(['movieId', 'imdbId', 'tmdbId']).sum()}, index=[0])\n",
        "imdb_duplicates = pd.DataFrame({\"Duplicate Values\":df_imdb.duplicated(['movieId', 'title_cast', 'director', 'runtime', 'budget', 'plot_keywords']).sum()}, index=[0])\n",
        "tags_duplicates = pd.DataFrame({\"Duplicate Values\":df_tags.duplicated(['userId', 'movieId', 'tag', 'timestamp']).sum()}, index=[0])\n",
        "genome_tags_duplicates = pd.DataFrame({\"Duplicate Values\":df_genome_tags.duplicated(['tagId', 'tag']).sum()}, index=[0])\n",
        "genome_scores_duplicates = pd.DataFrame({\"Duplicate Values\":df_genome_scores.duplicated(['movieId', 'tagId', 'relevance']).sum()}, index=[0])"
      ]
    },
    {
      "cell_type": "code",
      "execution_count": null,
      "id": "2800d03d",
      "metadata": {
        "id": "2800d03d",
        "outputId": "9afecdab-875a-4e89-ec99-a237117d07cf"
      },
      "outputs": [
        {
          "data": {
            "text/html": [
              "<table style=\"display:inline\"><tr><td style=\"text-align:center\">Train df</td><td style=\"text-align:center\">Test df</td><td style=\"text-align:center\">Movies df</td><td style=\"text-align:center\">link df</td><td style=\"text-align:center\">genome scores df</td><td style=\"text-align:center\">tags df</td><td style=\"text-align:center\">genome tags df</td><td style=\"text-align:center\">imdb df</td></tr><tr><td style=\"vertical-align:top\"> <table style=\"display:inline\" border=\"1\" class=\"dataframe\">\n",
              "  <thead>\n",
              "    <tr style=\"text-align: right;\">\n",
              "      <th></th>\n",
              "      <th>Duplicate Values</th>\n",
              "    </tr>\n",
              "  </thead>\n",
              "  <tbody>\n",
              "    <tr>\n",
              "      <th>0</th>\n",
              "      <td>0</td>\n",
              "    </tr>\n",
              "  </tbody>\n",
              "</table style=\"display:inline\"></td><td style=\"vertical-align:top\"> <table style=\"display:inline\" border=\"1\" class=\"dataframe\">\n",
              "  <thead>\n",
              "    <tr style=\"text-align: right;\">\n",
              "      <th></th>\n",
              "      <th>Duplicate Values</th>\n",
              "    </tr>\n",
              "  </thead>\n",
              "  <tbody>\n",
              "    <tr>\n",
              "      <th>0</th>\n",
              "      <td>0</td>\n",
              "    </tr>\n",
              "  </tbody>\n",
              "</table style=\"display:inline\"></td><td style=\"vertical-align:top\"> <table style=\"display:inline\" border=\"1\" class=\"dataframe\">\n",
              "  <thead>\n",
              "    <tr style=\"text-align: right;\">\n",
              "      <th></th>\n",
              "      <th>Duplicate Values</th>\n",
              "    </tr>\n",
              "  </thead>\n",
              "  <tbody>\n",
              "    <tr>\n",
              "      <th>0</th>\n",
              "      <td>0</td>\n",
              "    </tr>\n",
              "  </tbody>\n",
              "</table style=\"display:inline\"></td><td style=\"vertical-align:top\"> <table style=\"display:inline\" border=\"1\" class=\"dataframe\">\n",
              "  <thead>\n",
              "    <tr style=\"text-align: right;\">\n",
              "      <th></th>\n",
              "      <th>Duplicate Values</th>\n",
              "    </tr>\n",
              "  </thead>\n",
              "  <tbody>\n",
              "    <tr>\n",
              "      <th>0</th>\n",
              "      <td>0</td>\n",
              "    </tr>\n",
              "  </tbody>\n",
              "</table style=\"display:inline\"></td><td style=\"vertical-align:top\"> <table style=\"display:inline\" border=\"1\" class=\"dataframe\">\n",
              "  <thead>\n",
              "    <tr style=\"text-align: right;\">\n",
              "      <th></th>\n",
              "      <th>Duplicate Values</th>\n",
              "    </tr>\n",
              "  </thead>\n",
              "  <tbody>\n",
              "    <tr>\n",
              "      <th>0</th>\n",
              "      <td>0</td>\n",
              "    </tr>\n",
              "  </tbody>\n",
              "</table style=\"display:inline\"></td><td style=\"vertical-align:top\"> <table style=\"display:inline\" border=\"1\" class=\"dataframe\">\n",
              "  <thead>\n",
              "    <tr style=\"text-align: right;\">\n",
              "      <th></th>\n",
              "      <th>Duplicate Values</th>\n",
              "    </tr>\n",
              "  </thead>\n",
              "  <tbody>\n",
              "    <tr>\n",
              "      <th>0</th>\n",
              "      <td>0</td>\n",
              "    </tr>\n",
              "  </tbody>\n",
              "</table style=\"display:inline\"></td><td style=\"vertical-align:top\"> <table style=\"display:inline\" border=\"1\" class=\"dataframe\">\n",
              "  <thead>\n",
              "    <tr style=\"text-align: right;\">\n",
              "      <th></th>\n",
              "      <th>Duplicate Values</th>\n",
              "    </tr>\n",
              "  </thead>\n",
              "  <tbody>\n",
              "    <tr>\n",
              "      <th>0</th>\n",
              "      <td>0</td>\n",
              "    </tr>\n",
              "  </tbody>\n",
              "</table style=\"display:inline\"></td><td style=\"vertical-align:top\"> <table style=\"display:inline\" border=\"1\" class=\"dataframe\">\n",
              "  <thead>\n",
              "    <tr style=\"text-align: right;\">\n",
              "      <th></th>\n",
              "      <th>Duplicate Values</th>\n",
              "    </tr>\n",
              "  </thead>\n",
              "  <tbody>\n",
              "    <tr>\n",
              "      <th>0</th>\n",
              "      <td>0</td>\n",
              "    </tr>\n",
              "  </tbody>\n",
              "</table style=\"display:inline\"></td></tr></table style=\"display:inline\">"
            ]
          },
          "metadata": {},
          "output_type": "display_data"
        }
      ],
      "source": [
        "data_overview_display([train_duplicates, train_duplicates, movies_duplicates, links_duplicates, imdb_duplicates, tags_duplicates, genome_tags_duplicates, genome_scores_duplicates], column_names=['Train df','Test df','Movies df', 'link df', 'genome scores df', 'tags df', 'genome tags df', 'imdb df'])\n"
      ]
    },
    {
      "cell_type": "markdown",
      "id": "5b68f508",
      "metadata": {
        "id": "5b68f508"
      },
      "source": [
        "# Checking for null values"
      ]
    },
    {
      "cell_type": "code",
      "execution_count": null,
      "id": "2996c984",
      "metadata": {
        "id": "2996c984"
      },
      "outputs": [],
      "source": [
        "#Create the null values dataframes of all the given data\n",
        "train_null = pd.DataFrame({\"Null Values\":df_train.isnull().sum()})\n",
        "test_null = pd.DataFrame({\"Null Values\":df_test.isnull().sum()})\n",
        "movies_null = pd.DataFrame({\"Null Values\":df_movies.isnull().sum()})\n",
        "links_null = pd.DataFrame({\"Null Values\":df_links.isnull().sum()})\n",
        "imdb_null = pd.DataFrame({\"Null Values\":df_imdb.isnull().sum()})\n",
        "tags_null = pd.DataFrame({\"Null Values\":df_tags.isnull().sum()})\n",
        "genome_tags_null = pd.DataFrame({\"Null Values\":df_genome_tags.isnull().sum()})\n",
        "genome_scores_null = pd.DataFrame({\"Null Values\":df_genome_scores.isnull().sum()})"
      ]
    },
    {
      "cell_type": "code",
      "execution_count": null,
      "id": "db743748",
      "metadata": {
        "id": "db743748",
        "outputId": "c21edaed-fb6f-402c-c6ad-0a11b1ed5e20"
      },
      "outputs": [
        {
          "data": {
            "text/html": [
              "<table style=\"display:inline\"><tr><td style=\"text-align:center\">Train df</td><td style=\"text-align:center\">Test df</td><td style=\"text-align:center\">Movies df</td><td style=\"text-align:center\">link df</td><td style=\"text-align:center\">genome scores df</td><td style=\"text-align:center\">tags df</td><td style=\"text-align:center\">genome tags df</td><td style=\"text-align:center\">imdb df</td></tr><tr><td style=\"vertical-align:top\"> <table style=\"display:inline\" border=\"1\" class=\"dataframe\">\n",
              "  <thead>\n",
              "    <tr style=\"text-align: right;\">\n",
              "      <th></th>\n",
              "      <th>Null Values</th>\n",
              "    </tr>\n",
              "  </thead>\n",
              "  <tbody>\n",
              "    <tr>\n",
              "      <th>userId</th>\n",
              "      <td>0</td>\n",
              "    </tr>\n",
              "    <tr>\n",
              "      <th>movieId</th>\n",
              "      <td>0</td>\n",
              "    </tr>\n",
              "    <tr>\n",
              "      <th>rating</th>\n",
              "      <td>0</td>\n",
              "    </tr>\n",
              "    <tr>\n",
              "      <th>timestamp</th>\n",
              "      <td>0</td>\n",
              "    </tr>\n",
              "  </tbody>\n",
              "</table style=\"display:inline\"></td><td style=\"vertical-align:top\"> <table style=\"display:inline\" border=\"1\" class=\"dataframe\">\n",
              "  <thead>\n",
              "    <tr style=\"text-align: right;\">\n",
              "      <th></th>\n",
              "      <th>Null Values</th>\n",
              "    </tr>\n",
              "  </thead>\n",
              "  <tbody>\n",
              "    <tr>\n",
              "      <th>userId</th>\n",
              "      <td>0</td>\n",
              "    </tr>\n",
              "    <tr>\n",
              "      <th>movieId</th>\n",
              "      <td>0</td>\n",
              "    </tr>\n",
              "  </tbody>\n",
              "</table style=\"display:inline\"></td><td style=\"vertical-align:top\"> <table style=\"display:inline\" border=\"1\" class=\"dataframe\">\n",
              "  <thead>\n",
              "    <tr style=\"text-align: right;\">\n",
              "      <th></th>\n",
              "      <th>Null Values</th>\n",
              "    </tr>\n",
              "  </thead>\n",
              "  <tbody>\n",
              "    <tr>\n",
              "      <th>movieId</th>\n",
              "      <td>0</td>\n",
              "    </tr>\n",
              "    <tr>\n",
              "      <th>title</th>\n",
              "      <td>0</td>\n",
              "    </tr>\n",
              "    <tr>\n",
              "      <th>genres</th>\n",
              "      <td>0</td>\n",
              "    </tr>\n",
              "  </tbody>\n",
              "</table style=\"display:inline\"></td><td style=\"vertical-align:top\"> <table style=\"display:inline\" border=\"1\" class=\"dataframe\">\n",
              "  <thead>\n",
              "    <tr style=\"text-align: right;\">\n",
              "      <th></th>\n",
              "      <th>Null Values</th>\n",
              "    </tr>\n",
              "  </thead>\n",
              "  <tbody>\n",
              "    <tr>\n",
              "      <th>movieId</th>\n",
              "      <td>0</td>\n",
              "    </tr>\n",
              "    <tr>\n",
              "      <th>imdbId</th>\n",
              "      <td>0</td>\n",
              "    </tr>\n",
              "    <tr>\n",
              "      <th>tmdbId</th>\n",
              "      <td>107</td>\n",
              "    </tr>\n",
              "  </tbody>\n",
              "</table style=\"display:inline\"></td><td style=\"vertical-align:top\"> <table style=\"display:inline\" border=\"1\" class=\"dataframe\">\n",
              "  <thead>\n",
              "    <tr style=\"text-align: right;\">\n",
              "      <th></th>\n",
              "      <th>Null Values</th>\n",
              "    </tr>\n",
              "  </thead>\n",
              "  <tbody>\n",
              "    <tr>\n",
              "      <th>movieId</th>\n",
              "      <td>0</td>\n",
              "    </tr>\n",
              "    <tr>\n",
              "      <th>tagId</th>\n",
              "      <td>0</td>\n",
              "    </tr>\n",
              "    <tr>\n",
              "      <th>relevance</th>\n",
              "      <td>0</td>\n",
              "    </tr>\n",
              "  </tbody>\n",
              "</table style=\"display:inline\"></td><td style=\"vertical-align:top\"> <table style=\"display:inline\" border=\"1\" class=\"dataframe\">\n",
              "  <thead>\n",
              "    <tr style=\"text-align: right;\">\n",
              "      <th></th>\n",
              "      <th>Null Values</th>\n",
              "    </tr>\n",
              "  </thead>\n",
              "  <tbody>\n",
              "    <tr>\n",
              "      <th>userId</th>\n",
              "      <td>0</td>\n",
              "    </tr>\n",
              "    <tr>\n",
              "      <th>movieId</th>\n",
              "      <td>0</td>\n",
              "    </tr>\n",
              "    <tr>\n",
              "      <th>tag</th>\n",
              "      <td>16</td>\n",
              "    </tr>\n",
              "    <tr>\n",
              "      <th>timestamp</th>\n",
              "      <td>0</td>\n",
              "    </tr>\n",
              "  </tbody>\n",
              "</table style=\"display:inline\"></td><td style=\"vertical-align:top\"> <table style=\"display:inline\" border=\"1\" class=\"dataframe\">\n",
              "  <thead>\n",
              "    <tr style=\"text-align: right;\">\n",
              "      <th></th>\n",
              "      <th>Null Values</th>\n",
              "    </tr>\n",
              "  </thead>\n",
              "  <tbody>\n",
              "    <tr>\n",
              "      <th>tagId</th>\n",
              "      <td>0</td>\n",
              "    </tr>\n",
              "    <tr>\n",
              "      <th>tag</th>\n",
              "      <td>0</td>\n",
              "    </tr>\n",
              "  </tbody>\n",
              "</table style=\"display:inline\"></td><td style=\"vertical-align:top\"> <table style=\"display:inline\" border=\"1\" class=\"dataframe\">\n",
              "  <thead>\n",
              "    <tr style=\"text-align: right;\">\n",
              "      <th></th>\n",
              "      <th>Null Values</th>\n",
              "    </tr>\n",
              "  </thead>\n",
              "  <tbody>\n",
              "    <tr>\n",
              "      <th>movieId</th>\n",
              "      <td>0</td>\n",
              "    </tr>\n",
              "    <tr>\n",
              "      <th>title_cast</th>\n",
              "      <td>10068</td>\n",
              "    </tr>\n",
              "    <tr>\n",
              "      <th>director</th>\n",
              "      <td>9874</td>\n",
              "    </tr>\n",
              "    <tr>\n",
              "      <th>runtime</th>\n",
              "      <td>12089</td>\n",
              "    </tr>\n",
              "    <tr>\n",
              "      <th>budget</th>\n",
              "      <td>19372</td>\n",
              "    </tr>\n",
              "    <tr>\n",
              "      <th>plot_keywords</th>\n",
              "      <td>11078</td>\n",
              "    </tr>\n",
              "  </tbody>\n",
              "</table style=\"display:inline\"></td></tr></table style=\"display:inline\">"
            ]
          },
          "metadata": {},
          "output_type": "display_data"
        }
      ],
      "source": [
        "data_overview_display([train_null,test_null,movies_null,links_null,genome_scores_null,tags_null,genome_tags_null, imdb_null], column_names=['Train df','Test df','Movies df', 'link df', 'genome scores df', 'tags df', 'genome tags df', 'imdb df'])\n"
      ]
    },
    {
      "cell_type": "code",
      "execution_count": null,
      "id": "cd243934",
      "metadata": {
        "id": "cd243934",
        "outputId": "b010b0f8-e0f3-4076-8c67-8105a67304af"
      },
      "outputs": [
        {
          "data": {
            "text/html": [
              "<div>\n",
              "<style scoped>\n",
              "    .dataframe tbody tr th:only-of-type {\n",
              "        vertical-align: middle;\n",
              "    }\n",
              "\n",
              "    .dataframe tbody tr th {\n",
              "        vertical-align: top;\n",
              "    }\n",
              "\n",
              "    .dataframe thead th {\n",
              "        text-align: right;\n",
              "    }\n",
              "</style>\n",
              "<table border=\"1\" class=\"dataframe\">\n",
              "  <thead>\n",
              "    <tr style=\"text-align: right;\">\n",
              "      <th></th>\n",
              "      <th>userId</th>\n",
              "      <th>movieId</th>\n",
              "      <th>rating</th>\n",
              "      <th>timestamp</th>\n",
              "    </tr>\n",
              "  </thead>\n",
              "  <tbody>\n",
              "    <tr>\n",
              "      <th>0</th>\n",
              "      <td>5163</td>\n",
              "      <td>57669</td>\n",
              "      <td>4.0</td>\n",
              "      <td>1518349992</td>\n",
              "    </tr>\n",
              "    <tr>\n",
              "      <th>1</th>\n",
              "      <td>106343</td>\n",
              "      <td>5</td>\n",
              "      <td>4.5</td>\n",
              "      <td>1206238739</td>\n",
              "    </tr>\n",
              "    <tr>\n",
              "      <th>2</th>\n",
              "      <td>146790</td>\n",
              "      <td>5459</td>\n",
              "      <td>5.0</td>\n",
              "      <td>1076215539</td>\n",
              "    </tr>\n",
              "    <tr>\n",
              "      <th>3</th>\n",
              "      <td>106362</td>\n",
              "      <td>32296</td>\n",
              "      <td>2.0</td>\n",
              "      <td>1423042565</td>\n",
              "    </tr>\n",
              "    <tr>\n",
              "      <th>4</th>\n",
              "      <td>9041</td>\n",
              "      <td>366</td>\n",
              "      <td>3.0</td>\n",
              "      <td>833375837</td>\n",
              "    </tr>\n",
              "  </tbody>\n",
              "</table>\n",
              "</div>"
            ],
            "text/plain": [
              "   userId  movieId  rating   timestamp\n",
              "0    5163    57669     4.0  1518349992\n",
              "1  106343        5     4.5  1206238739\n",
              "2  146790     5459     5.0  1076215539\n",
              "3  106362    32296     2.0  1423042565\n",
              "4    9041      366     3.0   833375837"
            ]
          },
          "execution_count": 10,
          "metadata": {},
          "output_type": "execute_result"
        }
      ],
      "source": [
        "#Make a copy of the train data\n",
        "train = df_train.copy()\n",
        "train.head()"
      ]
    },
    {
      "cell_type": "markdown",
      "id": "20bc619a",
      "metadata": {
        "id": "20bc619a"
      },
      "source": [
        "# Normalising and Combining the Data"
      ]
    },
    {
      "cell_type": "code",
      "execution_count": null,
      "id": "9a389c98",
      "metadata": {
        "id": "9a389c98",
        "outputId": "0f6bb25a-040e-40dd-9653-5847c624a201"
      },
      "outputs": [
        {
          "data": {
            "text/html": [
              "<div>\n",
              "<style scoped>\n",
              "    .dataframe tbody tr th:only-of-type {\n",
              "        vertical-align: middle;\n",
              "    }\n",
              "\n",
              "    .dataframe tbody tr th {\n",
              "        vertical-align: top;\n",
              "    }\n",
              "\n",
              "    .dataframe thead th {\n",
              "        text-align: right;\n",
              "    }\n",
              "</style>\n",
              "<table border=\"1\" class=\"dataframe\">\n",
              "  <thead>\n",
              "    <tr style=\"text-align: right;\">\n",
              "      <th></th>\n",
              "      <th>movieId</th>\n",
              "      <th>title</th>\n",
              "      <th>genres</th>\n",
              "      <th>release_year</th>\n",
              "      <th>rating</th>\n",
              "    </tr>\n",
              "  </thead>\n",
              "  <tbody>\n",
              "    <tr>\n",
              "      <th>0</th>\n",
              "      <td>1.0</td>\n",
              "      <td>Toy Story (1995)</td>\n",
              "      <td>[Adventure, Animation, Children, Comedy, Fantasy]</td>\n",
              "      <td>1995</td>\n",
              "      <td>4.0</td>\n",
              "    </tr>\n",
              "    <tr>\n",
              "      <th>1</th>\n",
              "      <td>2.0</td>\n",
              "      <td>Jumanji (1995)</td>\n",
              "      <td>[Adventure, Children, Fantasy]</td>\n",
              "      <td>1995</td>\n",
              "      <td>4.5</td>\n",
              "    </tr>\n",
              "    <tr>\n",
              "      <th>2</th>\n",
              "      <td>3.0</td>\n",
              "      <td>Grumpier Old Men (1995)</td>\n",
              "      <td>[Comedy, Romance]</td>\n",
              "      <td>1995</td>\n",
              "      <td>5.0</td>\n",
              "    </tr>\n",
              "    <tr>\n",
              "      <th>3</th>\n",
              "      <td>4.0</td>\n",
              "      <td>Waiting to Exhale (1995)</td>\n",
              "      <td>[Comedy, Drama, Romance]</td>\n",
              "      <td>1995</td>\n",
              "      <td>2.0</td>\n",
              "    </tr>\n",
              "    <tr>\n",
              "      <th>4</th>\n",
              "      <td>5.0</td>\n",
              "      <td>Father of the Bride Part II (1995)</td>\n",
              "      <td>[Comedy]</td>\n",
              "      <td>1995</td>\n",
              "      <td>3.0</td>\n",
              "    </tr>\n",
              "  </tbody>\n",
              "</table>\n",
              "</div>"
            ],
            "text/plain": [
              "   movieId                               title  \\\n",
              "0      1.0                    Toy Story (1995)   \n",
              "1      2.0                      Jumanji (1995)   \n",
              "2      3.0             Grumpier Old Men (1995)   \n",
              "3      4.0            Waiting to Exhale (1995)   \n",
              "4      5.0  Father of the Bride Part II (1995)   \n",
              "\n",
              "                                              genres release_year  rating  \n",
              "0  [Adventure, Animation, Children, Comedy, Fantasy]         1995     4.0  \n",
              "1                     [Adventure, Children, Fantasy]         1995     4.5  \n",
              "2                                  [Comedy, Romance]         1995     5.0  \n",
              "3                           [Comedy, Drama, Romance]         1995     2.0  \n",
              "4                                           [Comedy]         1995     3.0  "
            ]
          },
          "execution_count": 11,
          "metadata": {},
          "output_type": "execute_result"
        }
      ],
      "source": [
        "#extracting released year\n",
        "df_movies['release_year']=df_movies['title'].str[-5:-1] \n",
        "#spliting the genres into a list\n",
        "df_movies['genres']=df_movies['genres'].str.split('|') \n",
        "#concatinate ratings with movies dataframe\n",
        "df_movies=pd.concat([df_movies,df_train['rating']],axis=1).dropna() \n",
        "df_movies.head()"
      ]
    },
    {
      "cell_type": "code",
      "execution_count": null,
      "id": "a4b27c20",
      "metadata": {
        "id": "a4b27c20",
        "outputId": "e96c94e7-9c96-492b-fac4-1240408e7759"
      },
      "outputs": [
        {
          "data": {
            "text/html": [
              "<div>\n",
              "<style scoped>\n",
              "    .dataframe tbody tr th:only-of-type {\n",
              "        vertical-align: middle;\n",
              "    }\n",
              "\n",
              "    .dataframe tbody tr th {\n",
              "        vertical-align: top;\n",
              "    }\n",
              "\n",
              "    .dataframe thead th {\n",
              "        text-align: right;\n",
              "    }\n",
              "</style>\n",
              "<table border=\"1\" class=\"dataframe\">\n",
              "  <thead>\n",
              "    <tr style=\"text-align: right;\">\n",
              "      <th></th>\n",
              "      <th>movieId</th>\n",
              "      <th>title_cast</th>\n",
              "      <th>director</th>\n",
              "      <th>runtime</th>\n",
              "      <th>budget</th>\n",
              "      <th>plot_keywords</th>\n",
              "    </tr>\n",
              "  </thead>\n",
              "  <tbody>\n",
              "    <tr>\n",
              "      <th>0</th>\n",
              "      <td>1</td>\n",
              "      <td>[Tom Hanks, Tim Allen, Don Rickles, Jim Varney...</td>\n",
              "      <td>John Lasseter</td>\n",
              "      <td>81.0</td>\n",
              "      <td>$30,000,000</td>\n",
              "      <td>[toy, rivalry, cowboy, cgi animation]</td>\n",
              "    </tr>\n",
              "    <tr>\n",
              "      <th>1</th>\n",
              "      <td>2</td>\n",
              "      <td>[Robin Williams, Jonathan Hyde, Kirsten Dunst,...</td>\n",
              "      <td>Jonathan Hensleigh</td>\n",
              "      <td>104.0</td>\n",
              "      <td>$65,000,000</td>\n",
              "      <td>[board game, adventurer, fight, game]</td>\n",
              "    </tr>\n",
              "    <tr>\n",
              "      <th>2</th>\n",
              "      <td>3</td>\n",
              "      <td>[Walter Matthau, Jack Lemmon, Sophia Loren, An...</td>\n",
              "      <td>Mark Steven Johnson</td>\n",
              "      <td>101.0</td>\n",
              "      <td>$25,000,000</td>\n",
              "      <td>[boat, lake, neighbor, rivalry]</td>\n",
              "    </tr>\n",
              "    <tr>\n",
              "      <th>3</th>\n",
              "      <td>4</td>\n",
              "      <td>[Whitney Houston, Angela Bassett, Loretta Devi...</td>\n",
              "      <td>Terry McMillan</td>\n",
              "      <td>124.0</td>\n",
              "      <td>$16,000,000</td>\n",
              "      <td>[black american, husband wife relationship, be...</td>\n",
              "    </tr>\n",
              "    <tr>\n",
              "      <th>4</th>\n",
              "      <td>5</td>\n",
              "      <td>[Steve Martin, Diane Keaton, Martin Short, Kim...</td>\n",
              "      <td>Albert Hackett</td>\n",
              "      <td>106.0</td>\n",
              "      <td>$30,000,000</td>\n",
              "      <td>[fatherhood, doberman, dog, mansion]</td>\n",
              "    </tr>\n",
              "  </tbody>\n",
              "</table>\n",
              "</div>"
            ],
            "text/plain": [
              "   movieId                                         title_cast  \\\n",
              "0        1  [Tom Hanks, Tim Allen, Don Rickles, Jim Varney...   \n",
              "1        2  [Robin Williams, Jonathan Hyde, Kirsten Dunst,...   \n",
              "2        3  [Walter Matthau, Jack Lemmon, Sophia Loren, An...   \n",
              "3        4  [Whitney Houston, Angela Bassett, Loretta Devi...   \n",
              "4        5  [Steve Martin, Diane Keaton, Martin Short, Kim...   \n",
              "\n",
              "              director  runtime       budget  \\\n",
              "0        John Lasseter     81.0  $30,000,000   \n",
              "1   Jonathan Hensleigh    104.0  $65,000,000   \n",
              "2  Mark Steven Johnson    101.0  $25,000,000   \n",
              "3       Terry McMillan    124.0  $16,000,000   \n",
              "4       Albert Hackett    106.0  $30,000,000   \n",
              "\n",
              "                                       plot_keywords  \n",
              "0              [toy, rivalry, cowboy, cgi animation]  \n",
              "1              [board game, adventurer, fight, game]  \n",
              "2                    [boat, lake, neighbor, rivalry]  \n",
              "3  [black american, husband wife relationship, be...  \n",
              "4               [fatherhood, doberman, dog, mansion]  "
            ]
          },
          "execution_count": 12,
          "metadata": {},
          "output_type": "execute_result"
        }
      ],
      "source": [
        "#spliting the title cast into a list\n",
        "df_imdb['title_cast']=df_imdb['title_cast'].str.split('|') \n",
        "#spliting the Key words into a list\n",
        "df_imdb['plot_keywords']=df_imdb['plot_keywords'].str.split('|') \n",
        "df_imdb.head()"
      ]
    },
    {
      "cell_type": "markdown",
      "id": "16b54d9b",
      "metadata": {
        "id": "16b54d9b"
      },
      "source": [
        "## Latest Popular Movies by ratings (Top 20) from 2000 to date"
      ]
    },
    {
      "cell_type": "code",
      "execution_count": null,
      "id": "2a420337",
      "metadata": {
        "id": "2a420337"
      },
      "outputs": [],
      "source": [
        "#Below is the function that extract porpular movies\n",
        "\n",
        "def extract_popular_movies(df1,df2):\n",
        "    \"\"\"\n",
        "    Retruns porpular movies from based on avarage ratings and total ratings count.\n",
        "\n",
        "    Parameters\n",
        "    ----------\n",
        "    df1: DataFrame from train_df.\n",
        "    df2: DataFrame from movies_df.\n",
        "    \n",
        "    Return\n",
        "    ------\n",
        "    Porpular_movies(DataFrame): returns dataframe of porpular movies.\n",
        "    \n",
        "    Example\n",
        "    -------\n",
        "    >>> train = pd.read_csv('train.csv')\n",
        "    >>> movie = pd.read_csv('train.csv')\n",
        "    \n",
        "    >>> extract_popular_movies(train, movie).head(2)\n",
        "    \n",
        "    -----------------------------------------------\n",
        "           title| rating|rating_counts|release_year\n",
        "    -----------------------------------------------\n",
        "    0 |abc(2001)| 3.2341|        2435 |       2001\n",
        "    1 |def(2002)| 5.2343|        534  |       2002    \n",
        "      \n",
        "    \"\"\"\n",
        "    #Calculating the avarage rating and storing the results as a DataFrame\n",
        "    rating = pd.DataFrame(df1.groupby('movieId')['rating'].mean())\n",
        "    #Calculating the total ratings count and storing the results as a DataFrame\n",
        "    rating['ratings_count'] = pd.DataFrame(df1.groupby('movieId')['rating'].count())\n",
        "    rating=rating.sort_values(by=['ratings_count','ratings_count'],ascending=False).reset_index()\n",
        "    \n",
        "    #Joining the Two DataFrames\n",
        "    inner_join = pd.merge(rating,df2,on ='movieId',how ='inner')\n",
        "    popular_movies=inner_join[['title','rating_x','ratings_count','release_year']].rename(columns={\"rating_x\": \"rating\"})\n",
        "    \n",
        "    return popular_movies"
      ]
    },
    {
      "cell_type": "code",
      "execution_count": null,
      "id": "7130bf7a",
      "metadata": {
        "id": "7130bf7a"
      },
      "outputs": [],
      "source": [
        "#Create the variable \"data\"\n",
        "data=extract_popular_movies(train,df_movies)\n",
        "\n",
        "#Extracting latest movies from 2000 till to date\n",
        "latest_movies=data[data['release_year']>'2000'][['rating','ratings_count','title']]"
      ]
    },
    {
      "cell_type": "code",
      "execution_count": null,
      "id": "fbf36cfe",
      "metadata": {
        "id": "fbf36cfe",
        "outputId": "23eaf267-8570-4f64-cdf4-5c211e09bf26"
      },
      "outputs": [
        {
          "data": {
            "image/png": "[encoded data removed]",
            "text/plain": [
              "<Figure size 720x432 with 1 Axes>"
            ]
          },
          "metadata": {
            "needs_background": "light"
          },
          "output_type": "display_data"
        }
      ],
      "source": [
        "#Plotting the latest movies from 2000 using bar-plots\n",
        "plt.figure(figsize = (10,6))\n",
        "ax=sns.barplot(y='title', x='ratings_count', data=latest_movies.head(20),color='red')\n",
        "ax.set_title('Top 20 porpular movies by ratings from 2000',fontsize=15)\n",
        "plt.xticks(rotation=90)\n",
        "plt.show()"
      ]
    },
    {
      "cell_type": "markdown",
      "id": "ad40c0c1",
      "metadata": {
        "id": "ad40c0c1"
      },
      "source": [
        "From the above plot, we observe that the based on average rating and the total count of ratings, the movie Lord of the Rings: The Fellowship of the Ring (2001) had the most rating counts of over 21 000 when we considered movies from 2000 till date.\n",
        "\n",
        "# Popular Cast"
      ]
    },
    {
      "cell_type": "code",
      "execution_count": null,
      "id": "6cc91d4b",
      "metadata": {
        "id": "6cc91d4b",
        "outputId": "a31a96f5-e684-4a90-c31b-fe24971801a9"
      },
      "outputs": [
        {
          "data": {
            "image/png": "[encoded data removed]",
            "text/plain": [
              "<Figure size 720x432 with 1 Axes>"
            ]
          },
          "metadata": {
            "needs_background": "light"
          },
          "output_type": "display_data"
        }
      ],
      "source": [
        "#Plotting popular cast using count-plot\n",
        "\n",
        "plt.figure(figsize = (10,6))\n",
        "title_cast=df_imdb['title_cast'].explode()\n",
        "ax=sns.countplot(x= title_cast, order = title_cast.value_counts().index[:20],color='red')\n",
        "ax.set_title('Cast per Apearence in movie ',fontsize=15)\n",
        "plt.xticks(rotation=90)\n",
        "plt.show()"
      ]
    },
    {
      "cell_type": "markdown",
      "id": "b3765374",
      "metadata": {
        "id": "b3765374"
      },
      "source": [
        "Observation: Samuel L Jackson was the popular cast as he appeared in over 80 movies from our database."
      ]
    },
    {
      "cell_type": "code",
      "execution_count": null,
      "id": "906b09fa",
      "metadata": {
        "id": "906b09fa",
        "outputId": "bff8b824-a524-4580-a4fd-fb5097938e2e"
      },
      "outputs": [
        {
          "data": {
            "image/png": "[encoded data removed]",
            "text/plain": [
              "<Figure size 720x432 with 1 Axes>"
            ]
          },
          "metadata": {
            "needs_background": "light"
          },
          "output_type": "display_data"
        }
      ],
      "source": [
        "#Plotting popular cast using count-plot\n",
        "plt.figure(figsize = (10,6))\n",
        "director=df_imdb['director'].explode()\n",
        "ax=sns.countplot(x= director, order = director.value_counts().index[:20],color='red')\n",
        "ax.set_title(' Popular Directors ',fontsize=15)\n",
        "plt.xticks(rotation=90)\n",
        "plt.show()"
      ]
    },
    {
      "cell_type": "markdown",
      "id": "02c9e21c",
      "metadata": {
        "id": "02c9e21c"
      },
      "source": [
        "Observation: Luc Besson was the popular director as he directed over 25 movies from our database."
      ]
    },
    {
      "cell_type": "code",
      "execution_count": null,
      "id": "97c90f26",
      "metadata": {
        "id": "97c90f26",
        "outputId": "ae60dbea-b3ea-4a06-f758-2f79a552cc26"
      },
      "outputs": [
        {
          "name": "stdout",
          "output_type": "stream",
          "text": [
            "Requirement already satisfied: squarify in c:\\users\\thandazani\\anaconda3\\lib\\site-packages (0.4.3)\n",
            "Note: you may need to restart the kernel to use updated packages.\n"
          ]
        }
      ],
      "source": [
        "pip install squarify"
      ]
    },
    {
      "cell_type": "code",
      "execution_count": null,
      "id": "fd7102b8",
      "metadata": {
        "id": "fd7102b8",
        "outputId": "d9ad280d-fcab-4766-9706-b2c00c5e8f87"
      },
      "outputs": [
        {
          "data": {
            "image/png": "[encoded data removed]",
            "text/plain": [
              "<Figure size 1200x800 with 1 Axes>"
            ]
          },
          "metadata": {
            "needs_background": "light"
          },
          "output_type": "display_data"
        }
      ],
      "source": [
        "import squarify\n",
        "#Create variable \"temp_df\"\n",
        "temp_df = df_movies['genres'].explode().value_counts().reset_index()\n",
        "\n",
        "#Plotting popular genres using Treemap\n",
        "sizes=np.array(temp_df['genres'])\n",
        "labels=temp_df['index']\n",
        "colors = [plt.cm.Paired(i/float(len(labels))) for i in range(len(labels))]\n",
        "plt.figure(figsize=(12,8), dpi= 100)\n",
        "squarify.plot(sizes=sizes, label=labels, color = colors, alpha=.5, edgecolor=\"black\", linewidth=3, text_kwargs={'fontsize':10})\n",
        "plt.title('Treemap of Movie Genres', fontsize = 15)\n",
        "plt.axis('off')\n",
        "plt.show()"
      ]
    },
    {
      "cell_type": "markdown",
      "id": "846abb91",
      "metadata": {
        "id": "846abb91"
      },
      "source": [
        "The top 5 genres are, in that respect order: Drama, Comedy, Action, Thriller, and Romance.\n",
        "\n",
        "## Average budget per genre"
      ]
    },
    {
      "cell_type": "code",
      "execution_count": null,
      "id": "6f3476de",
      "metadata": {
        "id": "6f3476de"
      },
      "outputs": [],
      "source": [
        "#Merging the imdb_df and movies_df\n",
        "movies_imdb_df = pd.merge(df_imdb,df_movies,on ='movieId',how ='inner')"
      ]
    },
    {
      "cell_type": "code",
      "execution_count": null,
      "id": "b2fc0bef",
      "metadata": {
        "id": "b2fc0bef"
      },
      "outputs": [],
      "source": [
        "#Create variable \"budget_genre\"\n",
        "budget_genre=movies_imdb_df[['genres','budget']].explode('genres')\n",
        "budget_genre['budget']=budget_genre['budget'].str.replace(',', \"\").str.extract('(\\d+)', expand=False).astype('float')"
      ]
    },
    {
      "cell_type": "code",
      "execution_count": null,
      "id": "ce6aae87",
      "metadata": {
        "id": "ce6aae87",
        "outputId": "b7a0b368-dbff-49e5-b727-a38651f75c6d"
      },
      "outputs": [
        {
          "data": {
            "image/png": "[encoded data removed]",
            "text/plain": [
              "<Figure size 720x432 with 1 Axes>"
            ]
          },
          "metadata": {
            "needs_background": "light"
          },
          "output_type": "display_data"
        }
      ],
      "source": [
        "#Plotting an average budget per genre using line-plot\n",
        "plt.figure(figsize=(10,6))\n",
        "ax=sns.lineplot(x=\"genres\", y=\"budget\", palette = [\"red\"],  data=budget_genre)\n",
        "ax.set_title('Average budget per genre',fontsize=15)\n",
        "plt.xticks(rotation=90)\n",
        "plt.show()"
      ]
    },
    {
      "cell_type": "markdown",
      "id": "8a9faf7e",
      "metadata": {
        "id": "8a9faf7e"
      },
      "source": [
        "Observation: Movies with the genre War had the biggest budget according to our database\n",
        "\n",
        "## Data Preprocessing"
      ]
    },
    {
      "cell_type": "code",
      "execution_count": null,
      "id": "78e41e26",
      "metadata": {
        "id": "78e41e26"
      },
      "outputs": [],
      "source": [
        "df_movies1 = df_movies.copy()\n",
        "\n",
        "df_imdb1 = df_imdb.copy()"
      ]
    },
    {
      "cell_type": "code",
      "execution_count": null,
      "id": "a2bcee61",
      "metadata": {
        "id": "a2bcee61",
        "outputId": "cdb716aa-4fb6-4867-a0b5-309bf7b53eab"
      },
      "outputs": [
        {
          "data": {
            "text/html": [
              "<div>\n",
              "<style scoped>\n",
              "    .dataframe tbody tr th:only-of-type {\n",
              "        vertical-align: middle;\n",
              "    }\n",
              "\n",
              "    .dataframe tbody tr th {\n",
              "        vertical-align: top;\n",
              "    }\n",
              "\n",
              "    .dataframe thead th {\n",
              "        text-align: right;\n",
              "    }\n",
              "</style>\n",
              "<table border=\"1\" class=\"dataframe\">\n",
              "  <thead>\n",
              "    <tr style=\"text-align: right;\">\n",
              "      <th></th>\n",
              "      <th>movieId</th>\n",
              "      <th>title</th>\n",
              "      <th>genres</th>\n",
              "      <th>release_year</th>\n",
              "      <th>rating</th>\n",
              "      <th>title_cast</th>\n",
              "      <th>director</th>\n",
              "      <th>runtime</th>\n",
              "      <th>budget</th>\n",
              "      <th>plot_keywords</th>\n",
              "    </tr>\n",
              "  </thead>\n",
              "  <tbody>\n",
              "    <tr>\n",
              "      <th>0</th>\n",
              "      <td>1.0</td>\n",
              "      <td>Toy Story (1995)</td>\n",
              "      <td>[Adventure, Animation, Children, Comedy, Fantasy]</td>\n",
              "      <td>1995</td>\n",
              "      <td>4.0</td>\n",
              "      <td>[Tom Hanks, Tim Allen, Don Rickles, Jim Varney...</td>\n",
              "      <td>John Lasseter</td>\n",
              "      <td>81.0</td>\n",
              "      <td>$30,000,000</td>\n",
              "      <td>[toy, rivalry, cowboy, cgi animation]</td>\n",
              "    </tr>\n",
              "    <tr>\n",
              "      <th>1</th>\n",
              "      <td>2.0</td>\n",
              "      <td>Jumanji (1995)</td>\n",
              "      <td>[Adventure, Children, Fantasy]</td>\n",
              "      <td>1995</td>\n",
              "      <td>4.5</td>\n",
              "      <td>[Robin Williams, Jonathan Hyde, Kirsten Dunst,...</td>\n",
              "      <td>Jonathan Hensleigh</td>\n",
              "      <td>104.0</td>\n",
              "      <td>$65,000,000</td>\n",
              "      <td>[board game, adventurer, fight, game]</td>\n",
              "    </tr>\n",
              "    <tr>\n",
              "      <th>2</th>\n",
              "      <td>3.0</td>\n",
              "      <td>Grumpier Old Men (1995)</td>\n",
              "      <td>[Comedy, Romance]</td>\n",
              "      <td>1995</td>\n",
              "      <td>5.0</td>\n",
              "      <td>[Walter Matthau, Jack Lemmon, Sophia Loren, An...</td>\n",
              "      <td>Mark Steven Johnson</td>\n",
              "      <td>101.0</td>\n",
              "      <td>$25,000,000</td>\n",
              "      <td>[boat, lake, neighbor, rivalry]</td>\n",
              "    </tr>\n",
              "    <tr>\n",
              "      <th>3</th>\n",
              "      <td>4.0</td>\n",
              "      <td>Waiting to Exhale (1995)</td>\n",
              "      <td>[Comedy, Drama, Romance]</td>\n",
              "      <td>1995</td>\n",
              "      <td>2.0</td>\n",
              "      <td>[Whitney Houston, Angela Bassett, Loretta Devi...</td>\n",
              "      <td>Terry McMillan</td>\n",
              "      <td>124.0</td>\n",
              "      <td>$16,000,000</td>\n",
              "      <td>[black american, husband wife relationship, be...</td>\n",
              "    </tr>\n",
              "    <tr>\n",
              "      <th>4</th>\n",
              "      <td>5.0</td>\n",
              "      <td>Father of the Bride Part II (1995)</td>\n",
              "      <td>[Comedy]</td>\n",
              "      <td>1995</td>\n",
              "      <td>3.0</td>\n",
              "      <td>[Steve Martin, Diane Keaton, Martin Short, Kim...</td>\n",
              "      <td>Albert Hackett</td>\n",
              "      <td>106.0</td>\n",
              "      <td>$30,000,000</td>\n",
              "      <td>[fatherhood, doberman, dog, mansion]</td>\n",
              "    </tr>\n",
              "  </tbody>\n",
              "</table>\n",
              "</div>"
            ],
            "text/plain": [
              "   movieId                               title  \\\n",
              "0      1.0                    Toy Story (1995)   \n",
              "1      2.0                      Jumanji (1995)   \n",
              "2      3.0             Grumpier Old Men (1995)   \n",
              "3      4.0            Waiting to Exhale (1995)   \n",
              "4      5.0  Father of the Bride Part II (1995)   \n",
              "\n",
              "                                              genres release_year  rating  \\\n",
              "0  [Adventure, Animation, Children, Comedy, Fantasy]         1995     4.0   \n",
              "1                     [Adventure, Children, Fantasy]         1995     4.5   \n",
              "2                                  [Comedy, Romance]         1995     5.0   \n",
              "3                           [Comedy, Drama, Romance]         1995     2.0   \n",
              "4                                           [Comedy]         1995     3.0   \n",
              "\n",
              "                                          title_cast             director  \\\n",
              "0  [Tom Hanks, Tim Allen, Don Rickles, Jim Varney...        John Lasseter   \n",
              "1  [Robin Williams, Jonathan Hyde, Kirsten Dunst,...   Jonathan Hensleigh   \n",
              "2  [Walter Matthau, Jack Lemmon, Sophia Loren, An...  Mark Steven Johnson   \n",
              "3  [Whitney Houston, Angela Bassett, Loretta Devi...       Terry McMillan   \n",
              "4  [Steve Martin, Diane Keaton, Martin Short, Kim...       Albert Hackett   \n",
              "\n",
              "   runtime       budget                                      plot_keywords  \n",
              "0     81.0  $30,000,000              [toy, rivalry, cowboy, cgi animation]  \n",
              "1    104.0  $65,000,000              [board game, adventurer, fight, game]  \n",
              "2    101.0  $25,000,000                    [boat, lake, neighbor, rivalry]  \n",
              "3    124.0  $16,000,000  [black american, husband wife relationship, be...  \n",
              "4    106.0  $30,000,000               [fatherhood, doberman, dog, mansion]  "
            ]
          },
          "metadata": {},
          "output_type": "display_data"
        },
        {
          "data": {
            "text/plain": [
              "movieId              0\n",
              "title                0\n",
              "genres               0\n",
              "release_year         0\n",
              "rating               0\n",
              "title_cast        9665\n",
              "director          9519\n",
              "runtime          11345\n",
              "budget           17583\n",
              "plot_keywords    10482\n",
              "dtype: int64"
            ]
          },
          "metadata": {},
          "output_type": "display_data"
        }
      ],
      "source": [
        "# Merge the df_merge and df_imdb\n",
        "df_merge = df_movies1.merge(df_imdb1, on='movieId')\n",
        "\n",
        "#Checking df_merge dataset head\n",
        "display(df_merge.head())\n",
        "\n",
        "#Checking for null values\n",
        "display(df_merge.isnull().sum())"
      ]
    },
    {
      "cell_type": "code",
      "execution_count": null,
      "id": "dc83a02a",
      "metadata": {
        "id": "dc83a02a",
        "outputId": "a4c43a1d-df97-476a-8135-9ed0fa5373fe"
      },
      "outputs": [
        {
          "data": {
            "text/html": [
              "<div>\n",
              "<style scoped>\n",
              "    .dataframe tbody tr th:only-of-type {\n",
              "        vertical-align: middle;\n",
              "    }\n",
              "\n",
              "    .dataframe tbody tr th {\n",
              "        vertical-align: top;\n",
              "    }\n",
              "\n",
              "    .dataframe thead th {\n",
              "        text-align: right;\n",
              "    }\n",
              "</style>\n",
              "<table border=\"1\" class=\"dataframe\">\n",
              "  <thead>\n",
              "    <tr style=\"text-align: right;\">\n",
              "      <th></th>\n",
              "      <th>title</th>\n",
              "      <th>genres</th>\n",
              "      <th>title_cast</th>\n",
              "      <th>director</th>\n",
              "      <th>plot_keywords</th>\n",
              "    </tr>\n",
              "  </thead>\n",
              "  <tbody>\n",
              "    <tr>\n",
              "      <th>0</th>\n",
              "      <td>Toy Story (1995)</td>\n",
              "      <td>[Adventure, Animation, Children, Comedy, Fantasy]</td>\n",
              "      <td>[Tom Hanks, Tim Allen, Don Rickles, Jim Varney...</td>\n",
              "      <td>John Lasseter</td>\n",
              "      <td>[toy, rivalry, cowboy, cgi animation]</td>\n",
              "    </tr>\n",
              "    <tr>\n",
              "      <th>1</th>\n",
              "      <td>Jumanji (1995)</td>\n",
              "      <td>[Adventure, Children, Fantasy]</td>\n",
              "      <td>[Robin Williams, Jonathan Hyde, Kirsten Dunst,...</td>\n",
              "      <td>Jonathan Hensleigh</td>\n",
              "      <td>[board game, adventurer, fight, game]</td>\n",
              "    </tr>\n",
              "    <tr>\n",
              "      <th>2</th>\n",
              "      <td>Grumpier Old Men (1995)</td>\n",
              "      <td>[Comedy, Romance]</td>\n",
              "      <td>[Walter Matthau, Jack Lemmon, Sophia Loren, An...</td>\n",
              "      <td>Mark Steven Johnson</td>\n",
              "      <td>[boat, lake, neighbor, rivalry]</td>\n",
              "    </tr>\n",
              "    <tr>\n",
              "      <th>3</th>\n",
              "      <td>Waiting to Exhale (1995)</td>\n",
              "      <td>[Comedy, Drama, Romance]</td>\n",
              "      <td>[Whitney Houston, Angela Bassett, Loretta Devi...</td>\n",
              "      <td>Terry McMillan</td>\n",
              "      <td>[black american, husband wife relationship, be...</td>\n",
              "    </tr>\n",
              "    <tr>\n",
              "      <th>4</th>\n",
              "      <td>Father of the Bride Part II (1995)</td>\n",
              "      <td>[Comedy]</td>\n",
              "      <td>[Steve Martin, Diane Keaton, Martin Short, Kim...</td>\n",
              "      <td>Albert Hackett</td>\n",
              "      <td>[fatherhood, doberman, dog, mansion]</td>\n",
              "    </tr>\n",
              "  </tbody>\n",
              "</table>\n",
              "</div>"
            ],
            "text/plain": [
              "                                title  \\\n",
              "0                    Toy Story (1995)   \n",
              "1                      Jumanji (1995)   \n",
              "2             Grumpier Old Men (1995)   \n",
              "3            Waiting to Exhale (1995)   \n",
              "4  Father of the Bride Part II (1995)   \n",
              "\n",
              "                                              genres  \\\n",
              "0  [Adventure, Animation, Children, Comedy, Fantasy]   \n",
              "1                     [Adventure, Children, Fantasy]   \n",
              "2                                  [Comedy, Romance]   \n",
              "3                           [Comedy, Drama, Romance]   \n",
              "4                                           [Comedy]   \n",
              "\n",
              "                                          title_cast             director  \\\n",
              "0  [Tom Hanks, Tim Allen, Don Rickles, Jim Varney...        John Lasseter   \n",
              "1  [Robin Williams, Jonathan Hyde, Kirsten Dunst,...   Jonathan Hensleigh   \n",
              "2  [Walter Matthau, Jack Lemmon, Sophia Loren, An...  Mark Steven Johnson   \n",
              "3  [Whitney Houston, Angela Bassett, Loretta Devi...       Terry McMillan   \n",
              "4  [Steve Martin, Diane Keaton, Martin Short, Kim...       Albert Hackett   \n",
              "\n",
              "                                       plot_keywords  \n",
              "0              [toy, rivalry, cowboy, cgi animation]  \n",
              "1              [board game, adventurer, fight, game]  \n",
              "2                    [boat, lake, neighbor, rivalry]  \n",
              "3  [black american, husband wife relationship, be...  \n",
              "4               [fatherhood, doberman, dog, mansion]  "
            ]
          },
          "execution_count": 25,
          "metadata": {},
          "output_type": "execute_result"
        }
      ],
      "source": [
        "df_merge = df_merge[['title','genres', 'title_cast', 'director', 'plot_keywords']]\n",
        "df_merge.head()"
      ]
    },
    {
      "cell_type": "code",
      "execution_count": null,
      "id": "b3042d4b",
      "metadata": {
        "id": "b3042d4b"
      },
      "outputs": [],
      "source": [
        "# convert data types to strings for string handling\n",
        "df_merge['genres'] = df_merge.genres.astype(str)\n",
        "df_merge['title_cast'] = df_merge.title_cast.astype(str)\n",
        "df_merge['director'] = df_merge.director.astype(str)\n",
        "df_merge['plot_keywords'] = df_merge.plot_keywords.astype(str)\n",
        "\n",
        "# discarding the line between genres and putting the genres in a list of words\n",
        "df_merge['genres'] = df_merge['genres'].map(lambda x: x.lower().split('|'))\n",
        "\n",
        "# discarding the liness between the actors full names and getting only the first three names\n",
        "df_merge['title_cast'] = df_merge['title_cast'].map(lambda x: x.split('|')[:3])\n",
        "\n",
        "#converting name and surname of directors to lowercase\n",
        "df_merge['director'] = df_merge['director'].apply(lambda x: \"\".join(x.lower() for x in x.split()))\n",
        "\n",
        "# discarding the line between plot_keywords and putting the plot_keywords in a list of words\n",
        "df_merge['plot_keywords'] = df_merge['plot_keywords'].map(lambda x: x.lower().split('|'))\n",
        "\n",
        "\n",
        "# merging together first and last name for each title_cast and director, so it's considered as one word \n",
        "for index, row in df_merge.iterrows():\n",
        "    row['title_cast'] = [x.lower().replace(' ','') for x in row['title_cast']]\n",
        "    row['director'] = ''.join(row['director']).lower()"
      ]
    },
    {
      "cell_type": "code",
      "execution_count": null,
      "id": "774b8fed",
      "metadata": {
        "id": "774b8fed",
        "outputId": "2591a148-ba7e-45c8-e3d0-f59a58d60ad9"
      },
      "outputs": [
        {
          "data": {
            "text/html": [
              "<div>\n",
              "<style scoped>\n",
              "    .dataframe tbody tr th:only-of-type {\n",
              "        vertical-align: middle;\n",
              "    }\n",
              "\n",
              "    .dataframe tbody tr th {\n",
              "        vertical-align: top;\n",
              "    }\n",
              "\n",
              "    .dataframe thead th {\n",
              "        text-align: right;\n",
              "    }\n",
              "</style>\n",
              "<table border=\"1\" class=\"dataframe\">\n",
              "  <thead>\n",
              "    <tr style=\"text-align: right;\">\n",
              "      <th></th>\n",
              "      <th>genres</th>\n",
              "      <th>title_cast</th>\n",
              "      <th>director</th>\n",
              "      <th>plot_keywords</th>\n",
              "    </tr>\n",
              "    <tr>\n",
              "      <th>title</th>\n",
              "      <th></th>\n",
              "      <th></th>\n",
              "      <th></th>\n",
              "      <th></th>\n",
              "    </tr>\n",
              "  </thead>\n",
              "  <tbody>\n",
              "    <tr>\n",
              "      <th>Toy Story (1995)</th>\n",
              "      <td>[['adventure', 'animation', 'children', 'comed...</td>\n",
              "      <td>[['tomhanks','timallen','donrickles','jimvarne...</td>\n",
              "      <td>johnlasseter</td>\n",
              "      <td>[['toy', 'rivalry', 'cowboy', 'cgi animation']]</td>\n",
              "    </tr>\n",
              "    <tr>\n",
              "      <th>Jumanji (1995)</th>\n",
              "      <td>[['adventure', 'children', 'fantasy']]</td>\n",
              "      <td>[['robinwilliams','jonathanhyde','kirstendunst...</td>\n",
              "      <td>jonathanhensleigh</td>\n",
              "      <td>[['board game', 'adventurer', 'fight', 'game']]</td>\n",
              "    </tr>\n",
              "    <tr>\n",
              "      <th>Grumpier Old Men (1995)</th>\n",
              "      <td>[['comedy', 'romance']]</td>\n",
              "      <td>[['waltermatthau','jacklemmon','sophialoren','...</td>\n",
              "      <td>markstevenjohnson</td>\n",
              "      <td>[['boat', 'lake', 'neighbor', 'rivalry']]</td>\n",
              "    </tr>\n",
              "    <tr>\n",
              "      <th>Waiting to Exhale (1995)</th>\n",
              "      <td>[['comedy', 'drama', 'romance']]</td>\n",
              "      <td>[['whitneyhouston','angelabassett','lorettadev...</td>\n",
              "      <td>terrymcmillan</td>\n",
              "      <td>[['black american', 'husband wife relationship...</td>\n",
              "    </tr>\n",
              "    <tr>\n",
              "      <th>Father of the Bride Part II (1995)</th>\n",
              "      <td>[['comedy']]</td>\n",
              "      <td>[['stevemartin','dianekeaton','martinshort','k...</td>\n",
              "      <td>alberthackett</td>\n",
              "      <td>[['fatherhood', 'doberman', 'dog', 'mansion']]</td>\n",
              "    </tr>\n",
              "  </tbody>\n",
              "</table>\n",
              "</div>"
            ],
            "text/plain": [
              "                                                                               genres  \\\n",
              "title                                                                                   \n",
              "Toy Story (1995)                    [['adventure', 'animation', 'children', 'comed...   \n",
              "Jumanji (1995)                                 [['adventure', 'children', 'fantasy']]   \n",
              "Grumpier Old Men (1995)                                       [['comedy', 'romance']]   \n",
              "Waiting to Exhale (1995)                             [['comedy', 'drama', 'romance']]   \n",
              "Father of the Bride Part II (1995)                                       [['comedy']]   \n",
              "\n",
              "                                                                           title_cast  \\\n",
              "title                                                                                   \n",
              "Toy Story (1995)                    [['tomhanks','timallen','donrickles','jimvarne...   \n",
              "Jumanji (1995)                      [['robinwilliams','jonathanhyde','kirstendunst...   \n",
              "Grumpier Old Men (1995)             [['waltermatthau','jacklemmon','sophialoren','...   \n",
              "Waiting to Exhale (1995)            [['whitneyhouston','angelabassett','lorettadev...   \n",
              "Father of the Bride Part II (1995)  [['stevemartin','dianekeaton','martinshort','k...   \n",
              "\n",
              "                                             director  \\\n",
              "title                                                   \n",
              "Toy Story (1995)                         johnlasseter   \n",
              "Jumanji (1995)                      jonathanhensleigh   \n",
              "Grumpier Old Men (1995)             markstevenjohnson   \n",
              "Waiting to Exhale (1995)                terrymcmillan   \n",
              "Father of the Bride Part II (1995)      alberthackett   \n",
              "\n",
              "                                                                        plot_keywords  \n",
              "title                                                                                  \n",
              "Toy Story (1995)                      [['toy', 'rivalry', 'cowboy', 'cgi animation']]  \n",
              "Jumanji (1995)                        [['board game', 'adventurer', 'fight', 'game']]  \n",
              "Grumpier Old Men (1995)                     [['boat', 'lake', 'neighbor', 'rivalry']]  \n",
              "Waiting to Exhale (1995)            [['black american', 'husband wife relationship...  \n",
              "Father of the Bride Part II (1995)     [['fatherhood', 'doberman', 'dog', 'mansion']]  "
            ]
          },
          "execution_count": 27,
          "metadata": {},
          "output_type": "execute_result"
        }
      ],
      "source": [
        "df_merge.set_index('title', inplace = True)\n",
        "df_merge.head()"
      ]
    },
    {
      "cell_type": "markdown",
      "id": "eda81620",
      "metadata": {
        "id": "eda81620"
      },
      "source": [
        "# Build a Movie Recommendation System\n",
        "\n",
        "### What is a Recommendation System?\n",
        "\n",
        "Recommendation systems are computer programs that suggest recommendations to users depending on a variety of criteria.\n",
        "\n",
        "These systems estimate the most likely product that consumers will buy and that they will be interested in. Netflix, Amazon, and other companies use recommender systems to help their users find the right product or movie for them.\n",
        "\n",
        "In this problem we want to predict the “rating” or “preference” of a user towards a domain-specific item or item. In our case, this domain-specific item is a movie, therefore the main focus of our recommendation system is to filter and predict only those movies which a user would prefer given some data about the user him or herself.\n",
        "\n",
        "We are going to look both *Content-based Filtering* and *Collaborative filtering* and then do a comparison and conclusion about their perfomance and our preferences"
      ]
    },
    {
      "cell_type": "code",
      "execution_count": null,
      "id": "45af859f",
      "metadata": {
        "id": "45af859f"
      },
      "outputs": [],
      "source": [
        ""
      ]
    },
    {
      "cell_type": "markdown",
      "id": "5a55ccdc",
      "metadata": {
        "id": "5a55ccdc"
      },
      "source": [
        "# Content-Based Recommender System\n",
        "\n",
        "Content based recommender is a recommendation model that returns a list of items based on a specific item. A nice example of this recommenders are Netflix, YouTube, Disney+ and more. For example, Netflix recommends similar shows that you watched before and liked more."
      ]
    },
    {
      "cell_type": "code",
      "execution_count": null,
      "id": "5e40ddf4",
      "metadata": {
        "id": "5e40ddf4"
      },
      "outputs": [],
      "source": [
        "df_merge['bag_of_words'] = ''\n",
        "columns = df_merge.columns\n",
        "for index, row in df_merge.iterrows():\n",
        "    words = ''\n",
        "    for col in columns:\n",
        "        if col != 'director':\n",
        "            words = words + ' '.join(row[col])+ ' '\n",
        "        else:\n",
        "            words = words + row[col]+ ' '\n",
        "    row['bag_of_words'] = words\n",
        "    \n",
        "df_merge.drop(columns = [col for col in df_merge.columns if col!= 'bag_of_words'], inplace = True)"
      ]
    },
    {
      "cell_type": "code",
      "execution_count": null,
      "id": "b9c3d0e0",
      "metadata": {
        "id": "b9c3d0e0"
      },
      "outputs": [],
      "source": [
        "# instantiating and generating the count matrix\n",
        "\n",
        "from sklearn.metrics.pairwise import cosine_similarity\n",
        "\n",
        "from sklearn.feature_extraction.text import CountVectorizer\n",
        "\n",
        "count_vect = CountVectorizer()\n",
        "count_vect_matrix = count_vect.fit_transform(df_merge['bag_of_words'])"
      ]
    },
    {
      "cell_type": "code",
      "execution_count": null,
      "id": "26b3fab7",
      "metadata": {
        "id": "26b3fab7"
      },
      "outputs": [],
      "source": [
        "indices = pd.Series(df_merge.index)"
      ]
    },
    {
      "cell_type": "code",
      "execution_count": null,
      "id": "c5a61d42",
      "metadata": {
        "id": "c5a61d42"
      },
      "outputs": [],
      "source": [
        "# generating the cosine similarity matrix\n",
        "sim_score = cosine_similarity(count_vect_matrix, count_vect_matrix)"
      ]
    },
    {
      "cell_type": "code",
      "execution_count": null,
      "id": "7fc18c6d",
      "metadata": {
        "id": "7fc18c6d"
      },
      "outputs": [],
      "source": [
        "# function that takes in movie title as input and returns the top 10 recommended movies\n",
        "def recommendations(title, sim_score = sim_score):\n",
        "    \n",
        "    recommended_movies = []\n",
        "    \n",
        "    # getting the index of the movie that matches the title\n",
        "    idx = indices[indices == title].index[0]\n",
        "\n",
        "    # creating a Series with the similarity scores in descending order\n",
        "    score_series = pd.Series(sim_score[idx]).sort_values(ascending = False)\n",
        "\n",
        "    # getting the indexes of the 10 most similar movies\n",
        "    top_10_indexes = list(score_series.iloc[1:11].index)\n",
        "    \n",
        "    # populating the list with the titles of the best 10 matching movies\n",
        "    for i in top_10_indexes:\n",
        "        recommended_movies.append(list(df_merge.index)[i])\n",
        "        \n",
        "    return recommended_movies"
      ]
    },
    {
      "cell_type": "markdown",
      "id": "999b6d1a",
      "metadata": {
        "id": "999b6d1a"
      },
      "source": [
        "### Test the functionality of Content-Based Recommender System"
      ]
    },
    {
      "cell_type": "code",
      "execution_count": null,
      "id": "7b771668",
      "metadata": {
        "id": "7b771668",
        "outputId": "afa5cf2a-698d-4d4c-afd8-a8623e84eac1"
      },
      "outputs": [
        {
          "data": {
            "text/plain": [
              "['Toy Story 2 (1999)',\n",
              " 'Toy Story 3 (2010)',\n",
              " 'Toy Story Toons: Small Fry (2011)',\n",
              " 'Toy Story Toons: Hawaiian Vacation (2011)',\n",
              " \"Dug's Special Mission (2009)\",\n",
              " 'Toy Story Toons: Partysaurus Rex (2012)',\n",
              " 'Toy Story of Terror (2013)',\n",
              " 'Madame Tutli-Putli (2007)',\n",
              " 'Gone Nutty (2002)',\n",
              " 'DuckTales: The Movie - Treasure of the Lost Lamp (1990)']"
            ]
          },
          "execution_count": 33,
          "metadata": {},
          "output_type": "execute_result"
        }
      ],
      "source": [
        "recommendations('Toy Story (1995)')"
      ]
    },
    {
      "cell_type": "markdown",
      "id": "920e1317",
      "metadata": {
        "id": "920e1317"
      },
      "source": [
        "## Complete content-Based recommender system"
      ]
    },
    {
      "cell_type": "code",
      "execution_count": null,
      "id": "a90cb5e0",
      "metadata": {
        "id": "a90cb5e0"
      },
      "outputs": [],
      "source": [
        ""
      ]
    },
    {
      "cell_type": "code",
      "execution_count": null,
      "id": "6d6fbd10",
      "metadata": {
        "id": "6d6fbd10"
      },
      "outputs": [],
      "source": [
        ""
      ]
    },
    {
      "cell_type": "code",
      "execution_count": null,
      "id": "9a5876db",
      "metadata": {
        "id": "9a5876db"
      },
      "outputs": [],
      "source": [
        ""
      ]
    },
    {
      "cell_type": "code",
      "execution_count": null,
      "id": "f4c7f952",
      "metadata": {
        "id": "f4c7f952"
      },
      "outputs": [],
      "source": [
        ""
      ]
    },
    {
      "cell_type": "code",
      "execution_count": null,
      "id": "205fa409",
      "metadata": {
        "id": "205fa409"
      },
      "outputs": [],
      "source": [
        ""
      ]
    },
    {
      "cell_type": "code",
      "execution_count": null,
      "id": "5f875624",
      "metadata": {
        "id": "5f875624"
      },
      "outputs": [],
      "source": [
        ""
      ]
    },
    {
      "cell_type": "code",
      "execution_count": null,
      "id": "8a918b7c",
      "metadata": {
        "id": "8a918b7c",
        "outputId": "a36c45c1-bf57-48f4-d631-0b69f750e489"
      },
      "outputs": [
        {
          "data": {
            "text/html": [
              "<div>\n",
              "<style scoped>\n",
              "    .dataframe tbody tr th:only-of-type {\n",
              "        vertical-align: middle;\n",
              "    }\n",
              "\n",
              "    .dataframe tbody tr th {\n",
              "        vertical-align: top;\n",
              "    }\n",
              "\n",
              "    .dataframe thead th {\n",
              "        text-align: right;\n",
              "    }\n",
              "</style>\n",
              "<table border=\"1\" class=\"dataframe\">\n",
              "  <thead>\n",
              "    <tr style=\"text-align: right;\">\n",
              "      <th></th>\n",
              "      <th>userId</th>\n",
              "      <th>movieId</th>\n",
              "      <th>rating</th>\n",
              "      <th>timestamp</th>\n",
              "    </tr>\n",
              "  </thead>\n",
              "  <tbody>\n",
              "    <tr>\n",
              "      <th>0</th>\n",
              "      <td>5163</td>\n",
              "      <td>57669</td>\n",
              "      <td>4.0</td>\n",
              "      <td>1518349992</td>\n",
              "    </tr>\n",
              "    <tr>\n",
              "      <th>1</th>\n",
              "      <td>106343</td>\n",
              "      <td>5</td>\n",
              "      <td>4.5</td>\n",
              "      <td>1206238739</td>\n",
              "    </tr>\n",
              "    <tr>\n",
              "      <th>2</th>\n",
              "      <td>146790</td>\n",
              "      <td>5459</td>\n",
              "      <td>5.0</td>\n",
              "      <td>1076215539</td>\n",
              "    </tr>\n",
              "    <tr>\n",
              "      <th>3</th>\n",
              "      <td>106362</td>\n",
              "      <td>32296</td>\n",
              "      <td>2.0</td>\n",
              "      <td>1423042565</td>\n",
              "    </tr>\n",
              "    <tr>\n",
              "      <th>4</th>\n",
              "      <td>9041</td>\n",
              "      <td>366</td>\n",
              "      <td>3.0</td>\n",
              "      <td>833375837</td>\n",
              "    </tr>\n",
              "  </tbody>\n",
              "</table>\n",
              "</div>"
            ],
            "text/plain": [
              "   userId  movieId  rating   timestamp\n",
              "0    5163    57669     4.0  1518349992\n",
              "1  106343        5     4.5  1206238739\n",
              "2  146790     5459     5.0  1076215539\n",
              "3  106362    32296     2.0  1423042565\n",
              "4    9041      366     3.0   833375837"
            ]
          },
          "execution_count": 34,
          "metadata": {},
          "output_type": "execute_result"
        }
      ],
      "source": [
        "#Make a copy of the train data\n",
        "train = df_train.copy()\n",
        "train.head()"
      ]
    },
    {
      "cell_type": "code",
      "execution_count": null,
      "id": "849c5492",
      "metadata": {
        "id": "849c5492"
      },
      "outputs": [],
      "source": [
        "train = pd.read_csv(\"C:/Users/Thandazani/Movie Recommender System/train.csv\", usecols=['userId', 'movieId', 'rating','timestamp'],dtype={'userId': 'int32', 'movieId': 'int32', 'rating': 'float32'})\n",
        "movies = pd.read_csv(\"C:/Users/Thandazani/Movie Recommender System/movies.csv\", usecols=['movieId','title'], dtype={'movieId':'int32','title':'str'})"
      ]
    },
    {
      "cell_type": "code",
      "execution_count": null,
      "id": "2325609f",
      "metadata": {
        "id": "2325609f",
        "outputId": "c33ffc99-1886-4d8d-a869-8ebbc33faff7"
      },
      "outputs": [
        {
          "data": {
            "text/html": [
              "<div>\n",
              "<style scoped>\n",
              "    .dataframe tbody tr th:only-of-type {\n",
              "        vertical-align: middle;\n",
              "    }\n",
              "\n",
              "    .dataframe tbody tr th {\n",
              "        vertical-align: top;\n",
              "    }\n",
              "\n",
              "    .dataframe thead th {\n",
              "        text-align: right;\n",
              "    }\n",
              "</style>\n",
              "<table border=\"1\" class=\"dataframe\">\n",
              "  <thead>\n",
              "    <tr style=\"text-align: right;\">\n",
              "      <th></th>\n",
              "      <th>userId</th>\n",
              "      <th>movieId</th>\n",
              "      <th>rating</th>\n",
              "      <th>timestamp</th>\n",
              "    </tr>\n",
              "  </thead>\n",
              "  <tbody>\n",
              "    <tr>\n",
              "      <th>0</th>\n",
              "      <td>5163</td>\n",
              "      <td>57669</td>\n",
              "      <td>4.0</td>\n",
              "      <td>1518349992</td>\n",
              "    </tr>\n",
              "    <tr>\n",
              "      <th>1</th>\n",
              "      <td>106343</td>\n",
              "      <td>5</td>\n",
              "      <td>4.5</td>\n",
              "      <td>1206238739</td>\n",
              "    </tr>\n",
              "    <tr>\n",
              "      <th>2</th>\n",
              "      <td>146790</td>\n",
              "      <td>5459</td>\n",
              "      <td>5.0</td>\n",
              "      <td>1076215539</td>\n",
              "    </tr>\n",
              "    <tr>\n",
              "      <th>3</th>\n",
              "      <td>106362</td>\n",
              "      <td>32296</td>\n",
              "      <td>2.0</td>\n",
              "      <td>1423042565</td>\n",
              "    </tr>\n",
              "    <tr>\n",
              "      <th>4</th>\n",
              "      <td>9041</td>\n",
              "      <td>366</td>\n",
              "      <td>3.0</td>\n",
              "      <td>833375837</td>\n",
              "    </tr>\n",
              "  </tbody>\n",
              "</table>\n",
              "</div>"
            ],
            "text/plain": [
              "   userId  movieId  rating   timestamp\n",
              "0    5163    57669     4.0  1518349992\n",
              "1  106343        5     4.5  1206238739\n",
              "2  146790     5459     5.0  1076215539\n",
              "3  106362    32296     2.0  1423042565\n",
              "4    9041      366     3.0   833375837"
            ]
          },
          "execution_count": 36,
          "metadata": {},
          "output_type": "execute_result"
        }
      ],
      "source": [
        "train.head()"
      ]
    },
    {
      "cell_type": "code",
      "execution_count": null,
      "id": "79a4384e",
      "metadata": {
        "id": "79a4384e",
        "outputId": "5ec35cd9-a97c-4978-9a45-c5c5a1bbfef7"
      },
      "outputs": [
        {
          "data": {
            "text/html": [
              "<div>\n",
              "<style scoped>\n",
              "    .dataframe tbody tr th:only-of-type {\n",
              "        vertical-align: middle;\n",
              "    }\n",
              "\n",
              "    .dataframe tbody tr th {\n",
              "        vertical-align: top;\n",
              "    }\n",
              "\n",
              "    .dataframe thead th {\n",
              "        text-align: right;\n",
              "    }\n",
              "</style>\n",
              "<table border=\"1\" class=\"dataframe\">\n",
              "  <thead>\n",
              "    <tr style=\"text-align: right;\">\n",
              "      <th></th>\n",
              "      <th>movieId</th>\n",
              "      <th>title</th>\n",
              "    </tr>\n",
              "  </thead>\n",
              "  <tbody>\n",
              "    <tr>\n",
              "      <th>0</th>\n",
              "      <td>1</td>\n",
              "      <td>Toy Story (1995)</td>\n",
              "    </tr>\n",
              "    <tr>\n",
              "      <th>1</th>\n",
              "      <td>2</td>\n",
              "      <td>Jumanji (1995)</td>\n",
              "    </tr>\n",
              "    <tr>\n",
              "      <th>2</th>\n",
              "      <td>3</td>\n",
              "      <td>Grumpier Old Men (1995)</td>\n",
              "    </tr>\n",
              "    <tr>\n",
              "      <th>3</th>\n",
              "      <td>4</td>\n",
              "      <td>Waiting to Exhale (1995)</td>\n",
              "    </tr>\n",
              "    <tr>\n",
              "      <th>4</th>\n",
              "      <td>5</td>\n",
              "      <td>Father of the Bride Part II (1995)</td>\n",
              "    </tr>\n",
              "  </tbody>\n",
              "</table>\n",
              "</div>"
            ],
            "text/plain": [
              "   movieId                               title\n",
              "0        1                    Toy Story (1995)\n",
              "1        2                      Jumanji (1995)\n",
              "2        3             Grumpier Old Men (1995)\n",
              "3        4            Waiting to Exhale (1995)\n",
              "4        5  Father of the Bride Part II (1995)"
            ]
          },
          "execution_count": 37,
          "metadata": {},
          "output_type": "execute_result"
        }
      ],
      "source": [
        "movies.head()"
      ]
    },
    {
      "cell_type": "code",
      "execution_count": null,
      "id": "6371c5a1",
      "metadata": {
        "id": "6371c5a1",
        "outputId": "dedb6cf2-0606-4566-e2c1-dfc0c89cf8a5"
      },
      "outputs": [
        {
          "data": {
            "text/plain": [
              "userId       0\n",
              "movieId      0\n",
              "rating       0\n",
              "timestamp    0\n",
              "dtype: int64"
            ]
          },
          "execution_count": 38,
          "metadata": {},
          "output_type": "execute_result"
        }
      ],
      "source": [
        "ratings_df = train\n",
        "ratings_df.isnull().sum()"
      ]
    },
    {
      "cell_type": "code",
      "execution_count": null,
      "id": "d8be80c8",
      "metadata": {
        "id": "d8be80c8",
        "outputId": "17ebfb2f-c2c9-44f5-cbae-c5ed4a778471"
      },
      "outputs": [
        {
          "data": {
            "text/plain": [
              "movieId    0\n",
              "title      0\n",
              "dtype: int64"
            ]
          },
          "execution_count": 39,
          "metadata": {},
          "output_type": "execute_result"
        }
      ],
      "source": [
        "movies_df = movies\n",
        "movies_df.isnull().sum()"
      ]
    },
    {
      "cell_type": "code",
      "execution_count": null,
      "id": "10d648f9",
      "metadata": {
        "id": "10d648f9",
        "outputId": "2eba8216-7234-41e7-8fab-1f6c767cbdcf"
      },
      "outputs": [
        {
          "name": "stdout",
          "output_type": "stream",
          "text": [
            "Movies: (62423, 2)\n",
            "Ratings: (10000038, 4)\n"
          ]
        }
      ],
      "source": [
        "print(\"Movies:\",movies_df.shape)\n",
        "print(\"Ratings:\",ratings_df.shape)"
      ]
    },
    {
      "cell_type": "markdown",
      "id": "f7d33582",
      "metadata": {
        "id": "f7d33582"
      },
      "source": [
        "# COLLABORATIVE FILTERING\n",
        "\n",
        "### Creating kNN Model "
      ]
    },
    {
      "cell_type": "markdown",
      "id": "9c5c79c6",
      "metadata": {
        "id": "9c5c79c6"
      },
      "source": [
        "Selecting only 200000 rows from train dataset for ratings"
      ]
    },
    {
      "cell_type": "code",
      "execution_count": null,
      "id": "6a42fd08",
      "metadata": {
        "id": "6a42fd08",
        "outputId": "e0253449-e168-450f-d593-9b49a2ae52bb"
      },
      "outputs": [
        {
          "data": {
            "text/plain": [
              "(200000, 4)"
            ]
          },
          "execution_count": 41,
          "metadata": {},
          "output_type": "execute_result"
        }
      ],
      "source": [
        "ratings = train.head(200000)\n",
        "ratings.shape"
      ]
    },
    {
      "cell_type": "markdown",
      "id": "9ba76929",
      "metadata": {
        "id": "9ba76929"
      },
      "source": [
        "After creating a new DF where we select only 200000 Dataset, now we creating a Pivot Table with users as indices and movies as columns\n",
        "\n",
        "For the purpose of parsing data to our model later, we need to create a Pivot Table. For this, we set 'MovieId' as the index, our columns will be 'userId' and the values in our table will be 'rating'"
      ]
    },
    {
      "cell_type": "code",
      "execution_count": null,
      "id": "0ab87455",
      "metadata": {
        "id": "0ab87455",
        "outputId": "7f253d76-241b-4f60-c2f8-e0fe8cd5b689"
      },
      "outputs": [
        {
          "data": {
            "text/html": [
              "<div>\n",
              "<style scoped>\n",
              "    .dataframe tbody tr th:only-of-type {\n",
              "        vertical-align: middle;\n",
              "    }\n",
              "\n",
              "    .dataframe tbody tr th {\n",
              "        vertical-align: top;\n",
              "    }\n",
              "\n",
              "    .dataframe thead th {\n",
              "        text-align: right;\n",
              "    }\n",
              "</style>\n",
              "<table border=\"1\" class=\"dataframe\">\n",
              "  <thead>\n",
              "    <tr style=\"text-align: right;\">\n",
              "      <th>userId</th>\n",
              "      <th>1</th>\n",
              "      <th>2</th>\n",
              "      <th>3</th>\n",
              "      <th>4</th>\n",
              "      <th>8</th>\n",
              "      <th>9</th>\n",
              "      <th>12</th>\n",
              "      <th>13</th>\n",
              "      <th>15</th>\n",
              "      <th>18</th>\n",
              "      <th>...</th>\n",
              "      <th>162522</th>\n",
              "      <th>162524</th>\n",
              "      <th>162529</th>\n",
              "      <th>162533</th>\n",
              "      <th>162534</th>\n",
              "      <th>162535</th>\n",
              "      <th>162536</th>\n",
              "      <th>162537</th>\n",
              "      <th>162538</th>\n",
              "      <th>162541</th>\n",
              "    </tr>\n",
              "    <tr>\n",
              "      <th>movieId</th>\n",
              "      <th></th>\n",
              "      <th></th>\n",
              "      <th></th>\n",
              "      <th></th>\n",
              "      <th></th>\n",
              "      <th></th>\n",
              "      <th></th>\n",
              "      <th></th>\n",
              "      <th></th>\n",
              "      <th></th>\n",
              "      <th></th>\n",
              "      <th></th>\n",
              "      <th></th>\n",
              "      <th></th>\n",
              "      <th></th>\n",
              "      <th></th>\n",
              "      <th></th>\n",
              "      <th></th>\n",
              "      <th></th>\n",
              "      <th></th>\n",
              "      <th></th>\n",
              "    </tr>\n",
              "  </thead>\n",
              "  <tbody>\n",
              "    <tr>\n",
              "      <th>1</th>\n",
              "      <td>0.0</td>\n",
              "      <td>0.0</td>\n",
              "      <td>0.0</td>\n",
              "      <td>0.0</td>\n",
              "      <td>0.0</td>\n",
              "      <td>0.0</td>\n",
              "      <td>0.0</td>\n",
              "      <td>0.0</td>\n",
              "      <td>0.0</td>\n",
              "      <td>0.0</td>\n",
              "      <td>...</td>\n",
              "      <td>0.0</td>\n",
              "      <td>0.0</td>\n",
              "      <td>0.0</td>\n",
              "      <td>0.0</td>\n",
              "      <td>0.0</td>\n",
              "      <td>0.0</td>\n",
              "      <td>0.0</td>\n",
              "      <td>0.0</td>\n",
              "      <td>0.0</td>\n",
              "      <td>0.0</td>\n",
              "    </tr>\n",
              "    <tr>\n",
              "      <th>2</th>\n",
              "      <td>0.0</td>\n",
              "      <td>0.0</td>\n",
              "      <td>0.0</td>\n",
              "      <td>0.0</td>\n",
              "      <td>0.0</td>\n",
              "      <td>0.0</td>\n",
              "      <td>0.0</td>\n",
              "      <td>0.0</td>\n",
              "      <td>0.0</td>\n",
              "      <td>0.0</td>\n",
              "      <td>...</td>\n",
              "      <td>0.0</td>\n",
              "      <td>0.0</td>\n",
              "      <td>0.0</td>\n",
              "      <td>0.0</td>\n",
              "      <td>0.0</td>\n",
              "      <td>0.0</td>\n",
              "      <td>0.0</td>\n",
              "      <td>0.0</td>\n",
              "      <td>0.0</td>\n",
              "      <td>0.0</td>\n",
              "    </tr>\n",
              "    <tr>\n",
              "      <th>3</th>\n",
              "      <td>0.0</td>\n",
              "      <td>0.0</td>\n",
              "      <td>0.0</td>\n",
              "      <td>0.0</td>\n",
              "      <td>0.0</td>\n",
              "      <td>0.0</td>\n",
              "      <td>0.0</td>\n",
              "      <td>0.0</td>\n",
              "      <td>0.0</td>\n",
              "      <td>0.0</td>\n",
              "      <td>...</td>\n",
              "      <td>0.0</td>\n",
              "      <td>0.0</td>\n",
              "      <td>0.0</td>\n",
              "      <td>0.0</td>\n",
              "      <td>0.0</td>\n",
              "      <td>0.0</td>\n",
              "      <td>0.0</td>\n",
              "      <td>0.0</td>\n",
              "      <td>0.0</td>\n",
              "      <td>0.0</td>\n",
              "    </tr>\n",
              "    <tr>\n",
              "      <th>4</th>\n",
              "      <td>0.0</td>\n",
              "      <td>0.0</td>\n",
              "      <td>0.0</td>\n",
              "      <td>0.0</td>\n",
              "      <td>0.0</td>\n",
              "      <td>0.0</td>\n",
              "      <td>0.0</td>\n",
              "      <td>0.0</td>\n",
              "      <td>0.0</td>\n",
              "      <td>0.0</td>\n",
              "      <td>...</td>\n",
              "      <td>0.0</td>\n",
              "      <td>0.0</td>\n",
              "      <td>0.0</td>\n",
              "      <td>0.0</td>\n",
              "      <td>0.0</td>\n",
              "      <td>0.0</td>\n",
              "      <td>0.0</td>\n",
              "      <td>0.0</td>\n",
              "      <td>0.0</td>\n",
              "      <td>0.0</td>\n",
              "    </tr>\n",
              "    <tr>\n",
              "      <th>5</th>\n",
              "      <td>0.0</td>\n",
              "      <td>0.0</td>\n",
              "      <td>0.0</td>\n",
              "      <td>0.0</td>\n",
              "      <td>0.0</td>\n",
              "      <td>0.0</td>\n",
              "      <td>0.0</td>\n",
              "      <td>0.0</td>\n",
              "      <td>0.0</td>\n",
              "      <td>0.0</td>\n",
              "      <td>...</td>\n",
              "      <td>0.0</td>\n",
              "      <td>0.0</td>\n",
              "      <td>0.0</td>\n",
              "      <td>0.0</td>\n",
              "      <td>0.0</td>\n",
              "      <td>0.0</td>\n",
              "      <td>0.0</td>\n",
              "      <td>0.0</td>\n",
              "      <td>0.0</td>\n",
              "      <td>0.0</td>\n",
              "    </tr>\n",
              "  </tbody>\n",
              "</table>\n",
              "<p>5 rows × 80801 columns</p>\n",
              "</div>"
            ],
            "text/plain": [
              "userId   1       2       3       4       8       9       12      13      \\\n",
              "movieId                                                                   \n",
              "1           0.0     0.0     0.0     0.0     0.0     0.0     0.0     0.0   \n",
              "2           0.0     0.0     0.0     0.0     0.0     0.0     0.0     0.0   \n",
              "3           0.0     0.0     0.0     0.0     0.0     0.0     0.0     0.0   \n",
              "4           0.0     0.0     0.0     0.0     0.0     0.0     0.0     0.0   \n",
              "5           0.0     0.0     0.0     0.0     0.0     0.0     0.0     0.0   \n",
              "\n",
              "userId   15      18      ...  162522  162524  162529  162533  162534  162535  \\\n",
              "movieId                  ...                                                   \n",
              "1           0.0     0.0  ...     0.0     0.0     0.0     0.0     0.0     0.0   \n",
              "2           0.0     0.0  ...     0.0     0.0     0.0     0.0     0.0     0.0   \n",
              "3           0.0     0.0  ...     0.0     0.0     0.0     0.0     0.0     0.0   \n",
              "4           0.0     0.0  ...     0.0     0.0     0.0     0.0     0.0     0.0   \n",
              "5           0.0     0.0  ...     0.0     0.0     0.0     0.0     0.0     0.0   \n",
              "\n",
              "userId   162536  162537  162538  162541  \n",
              "movieId                                  \n",
              "1           0.0     0.0     0.0     0.0  \n",
              "2           0.0     0.0     0.0     0.0  \n",
              "3           0.0     0.0     0.0     0.0  \n",
              "4           0.0     0.0     0.0     0.0  \n",
              "5           0.0     0.0     0.0     0.0  \n",
              "\n",
              "[5 rows x 80801 columns]"
            ]
          },
          "execution_count": 42,
          "metadata": {},
          "output_type": "execute_result"
        }
      ],
      "source": [
        "data = ratings.pivot_table(index = 'movieId',columns = 'userId',values ='rating').fillna(0)\n",
        "data.head()"
      ]
    },
    {
      "cell_type": "code",
      "execution_count": null,
      "id": "e4587a10",
      "metadata": {
        "id": "e4587a10"
      },
      "outputs": [],
      "source": [
        "no_user_voted = ratings.groupby('movieId')['rating'].agg('count')\n",
        "no_movies_voted = ratings.groupby('userId')['rating'].agg('count')"
      ]
    },
    {
      "cell_type": "code",
      "execution_count": null,
      "id": "2b69e7fa",
      "metadata": {
        "id": "2b69e7fa",
        "outputId": "6acc04a7-ba24-448a-f18e-e43a0ff5d120"
      },
      "outputs": [
        {
          "data": {
            "image/png": "[encoded data removed]",
            "text/plain": [
              "<Figure size 1152x288 with 1 Axes>"
            ]
          },
          "metadata": {
            "needs_background": "light"
          },
          "output_type": "display_data"
        }
      ],
      "source": [
        "f,ax = plt.subplots(1,1,figsize=(16,4))\n",
        "# ratings['rating'].plot(kind='hist')\n",
        "plt.scatter(no_user_voted.index,no_user_voted,color='mediumseagreen')\n",
        "plt.axhline(y=10,color='r')\n",
        "plt.xlabel('MovieId')\n",
        "plt.ylabel('No. of users voted')\n",
        "plt.show()"
      ]
    },
    {
      "cell_type": "code",
      "execution_count": null,
      "id": "f1f1e775",
      "metadata": {
        "id": "f1f1e775"
      },
      "outputs": [],
      "source": [
        "final_dataset =data.loc[no_user_voted[no_user_voted > 10].index,:]"
      ]
    },
    {
      "cell_type": "code",
      "execution_count": null,
      "id": "c4701273",
      "metadata": {
        "id": "c4701273",
        "outputId": "80a1b34c-0311-4e0c-935c-a85f693935ce"
      },
      "outputs": [
        {
          "data": {
            "image/png": "[encoded data removed]",
            "text/plain": [
              "<Figure size 1152x288 with 1 Axes>"
            ]
          },
          "metadata": {
            "needs_background": "light"
          },
          "output_type": "display_data"
        }
      ],
      "source": [
        "f,ax = plt.subplots(1,1,figsize=(16,4))\n",
        "plt.scatter(no_movies_voted.index,no_movies_voted,color='mediumseagreen')\n",
        "plt.axhline(y=10,color='r')\n",
        "plt.xlabel('UserId')\n",
        "plt.ylabel('No. of votes by user')\n",
        "plt.show()"
      ]
    },
    {
      "cell_type": "code",
      "execution_count": null,
      "id": "a1908549",
      "metadata": {
        "id": "a1908549",
        "outputId": "10f60f7d-0a3c-4a3d-d1e4-5894d5d27182"
      },
      "outputs": [
        {
          "data": {
            "text/html": [
              "<div>\n",
              "<style scoped>\n",
              "    .dataframe tbody tr th:only-of-type {\n",
              "        vertical-align: middle;\n",
              "    }\n",
              "\n",
              "    .dataframe tbody tr th {\n",
              "        vertical-align: top;\n",
              "    }\n",
              "\n",
              "    .dataframe thead th {\n",
              "        text-align: right;\n",
              "    }\n",
              "</style>\n",
              "<table border=\"1\" class=\"dataframe\">\n",
              "  <thead>\n",
              "    <tr style=\"text-align: right;\">\n",
              "      <th>userId</th>\n",
              "      <th>548</th>\n",
              "      <th>606</th>\n",
              "      <th>626</th>\n",
              "      <th>653</th>\n",
              "      <th>757</th>\n",
              "      <th>803</th>\n",
              "      <th>847</th>\n",
              "      <th>997</th>\n",
              "      <th>1228</th>\n",
              "      <th>1477</th>\n",
              "      <th>...</th>\n",
              "      <th>161091</th>\n",
              "      <th>161342</th>\n",
              "      <th>161383</th>\n",
              "      <th>161544</th>\n",
              "      <th>161586</th>\n",
              "      <th>161826</th>\n",
              "      <th>162047</th>\n",
              "      <th>162271</th>\n",
              "      <th>162445</th>\n",
              "      <th>162516</th>\n",
              "    </tr>\n",
              "    <tr>\n",
              "      <th>movieId</th>\n",
              "      <th></th>\n",
              "      <th></th>\n",
              "      <th></th>\n",
              "      <th></th>\n",
              "      <th></th>\n",
              "      <th></th>\n",
              "      <th></th>\n",
              "      <th></th>\n",
              "      <th></th>\n",
              "      <th></th>\n",
              "      <th></th>\n",
              "      <th></th>\n",
              "      <th></th>\n",
              "      <th></th>\n",
              "      <th></th>\n",
              "      <th></th>\n",
              "      <th></th>\n",
              "      <th></th>\n",
              "      <th></th>\n",
              "      <th></th>\n",
              "      <th></th>\n",
              "    </tr>\n",
              "  </thead>\n",
              "  <tbody>\n",
              "    <tr>\n",
              "      <th>1</th>\n",
              "      <td>0.0</td>\n",
              "      <td>0.0</td>\n",
              "      <td>0.0</td>\n",
              "      <td>0.0</td>\n",
              "      <td>0.0</td>\n",
              "      <td>0.0</td>\n",
              "      <td>0.0</td>\n",
              "      <td>0.0</td>\n",
              "      <td>0.0</td>\n",
              "      <td>0.0</td>\n",
              "      <td>...</td>\n",
              "      <td>0.0</td>\n",
              "      <td>0.0</td>\n",
              "      <td>0.0</td>\n",
              "      <td>0.0</td>\n",
              "      <td>0.0</td>\n",
              "      <td>0.0</td>\n",
              "      <td>0.0</td>\n",
              "      <td>0.0</td>\n",
              "      <td>0.0</td>\n",
              "      <td>0.0</td>\n",
              "    </tr>\n",
              "    <tr>\n",
              "      <th>2</th>\n",
              "      <td>0.0</td>\n",
              "      <td>0.0</td>\n",
              "      <td>0.0</td>\n",
              "      <td>0.0</td>\n",
              "      <td>0.0</td>\n",
              "      <td>0.0</td>\n",
              "      <td>0.0</td>\n",
              "      <td>0.0</td>\n",
              "      <td>0.0</td>\n",
              "      <td>0.0</td>\n",
              "      <td>...</td>\n",
              "      <td>0.0</td>\n",
              "      <td>0.0</td>\n",
              "      <td>0.0</td>\n",
              "      <td>0.0</td>\n",
              "      <td>0.0</td>\n",
              "      <td>0.0</td>\n",
              "      <td>0.0</td>\n",
              "      <td>0.0</td>\n",
              "      <td>0.0</td>\n",
              "      <td>0.0</td>\n",
              "    </tr>\n",
              "    <tr>\n",
              "      <th>3</th>\n",
              "      <td>0.0</td>\n",
              "      <td>0.0</td>\n",
              "      <td>0.0</td>\n",
              "      <td>0.0</td>\n",
              "      <td>0.0</td>\n",
              "      <td>0.0</td>\n",
              "      <td>0.0</td>\n",
              "      <td>0.0</td>\n",
              "      <td>0.0</td>\n",
              "      <td>0.0</td>\n",
              "      <td>...</td>\n",
              "      <td>0.0</td>\n",
              "      <td>0.0</td>\n",
              "      <td>0.0</td>\n",
              "      <td>0.0</td>\n",
              "      <td>0.0</td>\n",
              "      <td>0.0</td>\n",
              "      <td>0.0</td>\n",
              "      <td>0.0</td>\n",
              "      <td>0.0</td>\n",
              "      <td>0.0</td>\n",
              "    </tr>\n",
              "    <tr>\n",
              "      <th>4</th>\n",
              "      <td>0.0</td>\n",
              "      <td>0.0</td>\n",
              "      <td>0.0</td>\n",
              "      <td>0.0</td>\n",
              "      <td>0.0</td>\n",
              "      <td>0.0</td>\n",
              "      <td>0.0</td>\n",
              "      <td>0.0</td>\n",
              "      <td>0.0</td>\n",
              "      <td>0.0</td>\n",
              "      <td>...</td>\n",
              "      <td>0.0</td>\n",
              "      <td>0.0</td>\n",
              "      <td>0.0</td>\n",
              "      <td>0.0</td>\n",
              "      <td>0.0</td>\n",
              "      <td>0.0</td>\n",
              "      <td>0.0</td>\n",
              "      <td>0.0</td>\n",
              "      <td>0.0</td>\n",
              "      <td>0.0</td>\n",
              "    </tr>\n",
              "    <tr>\n",
              "      <th>5</th>\n",
              "      <td>0.0</td>\n",
              "      <td>0.0</td>\n",
              "      <td>0.0</td>\n",
              "      <td>0.0</td>\n",
              "      <td>0.0</td>\n",
              "      <td>0.0</td>\n",
              "      <td>0.0</td>\n",
              "      <td>0.0</td>\n",
              "      <td>0.0</td>\n",
              "      <td>0.0</td>\n",
              "      <td>...</td>\n",
              "      <td>0.0</td>\n",
              "      <td>0.0</td>\n",
              "      <td>0.0</td>\n",
              "      <td>0.0</td>\n",
              "      <td>0.0</td>\n",
              "      <td>0.0</td>\n",
              "      <td>0.0</td>\n",
              "      <td>0.0</td>\n",
              "      <td>0.0</td>\n",
              "      <td>0.0</td>\n",
              "    </tr>\n",
              "    <tr>\n",
              "      <th>...</th>\n",
              "      <td>...</td>\n",
              "      <td>...</td>\n",
              "      <td>...</td>\n",
              "      <td>...</td>\n",
              "      <td>...</td>\n",
              "      <td>...</td>\n",
              "      <td>...</td>\n",
              "      <td>...</td>\n",
              "      <td>...</td>\n",
              "      <td>...</td>\n",
              "      <td>...</td>\n",
              "      <td>...</td>\n",
              "      <td>...</td>\n",
              "      <td>...</td>\n",
              "      <td>...</td>\n",
              "      <td>...</td>\n",
              "      <td>...</td>\n",
              "      <td>...</td>\n",
              "      <td>...</td>\n",
              "      <td>...</td>\n",
              "      <td>...</td>\n",
              "    </tr>\n",
              "    <tr>\n",
              "      <th>189333</th>\n",
              "      <td>0.0</td>\n",
              "      <td>0.0</td>\n",
              "      <td>0.0</td>\n",
              "      <td>0.0</td>\n",
              "      <td>0.0</td>\n",
              "      <td>0.0</td>\n",
              "      <td>0.0</td>\n",
              "      <td>0.0</td>\n",
              "      <td>0.0</td>\n",
              "      <td>0.0</td>\n",
              "      <td>...</td>\n",
              "      <td>0.0</td>\n",
              "      <td>0.0</td>\n",
              "      <td>0.0</td>\n",
              "      <td>0.0</td>\n",
              "      <td>0.0</td>\n",
              "      <td>0.0</td>\n",
              "      <td>0.0</td>\n",
              "      <td>0.0</td>\n",
              "      <td>0.0</td>\n",
              "      <td>0.0</td>\n",
              "    </tr>\n",
              "    <tr>\n",
              "      <th>192803</th>\n",
              "      <td>0.0</td>\n",
              "      <td>0.0</td>\n",
              "      <td>0.0</td>\n",
              "      <td>0.0</td>\n",
              "      <td>0.0</td>\n",
              "      <td>0.0</td>\n",
              "      <td>0.0</td>\n",
              "      <td>0.0</td>\n",
              "      <td>0.0</td>\n",
              "      <td>0.0</td>\n",
              "      <td>...</td>\n",
              "      <td>0.0</td>\n",
              "      <td>0.0</td>\n",
              "      <td>0.0</td>\n",
              "      <td>0.0</td>\n",
              "      <td>0.0</td>\n",
              "      <td>0.0</td>\n",
              "      <td>0.0</td>\n",
              "      <td>0.0</td>\n",
              "      <td>0.0</td>\n",
              "      <td>0.0</td>\n",
              "    </tr>\n",
              "    <tr>\n",
              "      <th>194448</th>\n",
              "      <td>0.0</td>\n",
              "      <td>0.0</td>\n",
              "      <td>0.0</td>\n",
              "      <td>0.0</td>\n",
              "      <td>0.0</td>\n",
              "      <td>0.0</td>\n",
              "      <td>0.0</td>\n",
              "      <td>0.0</td>\n",
              "      <td>0.0</td>\n",
              "      <td>0.0</td>\n",
              "      <td>...</td>\n",
              "      <td>0.0</td>\n",
              "      <td>0.0</td>\n",
              "      <td>0.0</td>\n",
              "      <td>0.0</td>\n",
              "      <td>0.0</td>\n",
              "      <td>0.0</td>\n",
              "      <td>0.0</td>\n",
              "      <td>0.0</td>\n",
              "      <td>0.0</td>\n",
              "      <td>0.0</td>\n",
              "    </tr>\n",
              "    <tr>\n",
              "      <th>195159</th>\n",
              "      <td>0.0</td>\n",
              "      <td>0.0</td>\n",
              "      <td>0.0</td>\n",
              "      <td>0.0</td>\n",
              "      <td>0.0</td>\n",
              "      <td>0.0</td>\n",
              "      <td>0.0</td>\n",
              "      <td>0.0</td>\n",
              "      <td>0.0</td>\n",
              "      <td>0.0</td>\n",
              "      <td>...</td>\n",
              "      <td>0.0</td>\n",
              "      <td>0.0</td>\n",
              "      <td>0.0</td>\n",
              "      <td>0.0</td>\n",
              "      <td>0.0</td>\n",
              "      <td>0.0</td>\n",
              "      <td>0.0</td>\n",
              "      <td>0.0</td>\n",
              "      <td>0.0</td>\n",
              "      <td>0.0</td>\n",
              "    </tr>\n",
              "    <tr>\n",
              "      <th>202429</th>\n",
              "      <td>0.0</td>\n",
              "      <td>0.0</td>\n",
              "      <td>0.0</td>\n",
              "      <td>0.0</td>\n",
              "      <td>0.0</td>\n",
              "      <td>0.0</td>\n",
              "      <td>0.0</td>\n",
              "      <td>0.0</td>\n",
              "      <td>0.0</td>\n",
              "      <td>0.0</td>\n",
              "      <td>...</td>\n",
              "      <td>0.0</td>\n",
              "      <td>0.0</td>\n",
              "      <td>0.0</td>\n",
              "      <td>0.0</td>\n",
              "      <td>0.0</td>\n",
              "      <td>0.0</td>\n",
              "      <td>0.0</td>\n",
              "      <td>0.0</td>\n",
              "      <td>0.0</td>\n",
              "      <td>0.0</td>\n",
              "    </tr>\n",
              "  </tbody>\n",
              "</table>\n",
              "<p>3234 rows × 1674 columns</p>\n",
              "</div>"
            ],
            "text/plain": [
              "userId   548     606     626     653     757     803     847     997     \\\n",
              "movieId                                                                   \n",
              "1           0.0     0.0     0.0     0.0     0.0     0.0     0.0     0.0   \n",
              "2           0.0     0.0     0.0     0.0     0.0     0.0     0.0     0.0   \n",
              "3           0.0     0.0     0.0     0.0     0.0     0.0     0.0     0.0   \n",
              "4           0.0     0.0     0.0     0.0     0.0     0.0     0.0     0.0   \n",
              "5           0.0     0.0     0.0     0.0     0.0     0.0     0.0     0.0   \n",
              "...         ...     ...     ...     ...     ...     ...     ...     ...   \n",
              "189333      0.0     0.0     0.0     0.0     0.0     0.0     0.0     0.0   \n",
              "192803      0.0     0.0     0.0     0.0     0.0     0.0     0.0     0.0   \n",
              "194448      0.0     0.0     0.0     0.0     0.0     0.0     0.0     0.0   \n",
              "195159      0.0     0.0     0.0     0.0     0.0     0.0     0.0     0.0   \n",
              "202429      0.0     0.0     0.0     0.0     0.0     0.0     0.0     0.0   \n",
              "\n",
              "userId   1228    1477    ...  161091  161342  161383  161544  161586  161826  \\\n",
              "movieId                  ...                                                   \n",
              "1           0.0     0.0  ...     0.0     0.0     0.0     0.0     0.0     0.0   \n",
              "2           0.0     0.0  ...     0.0     0.0     0.0     0.0     0.0     0.0   \n",
              "3           0.0     0.0  ...     0.0     0.0     0.0     0.0     0.0     0.0   \n",
              "4           0.0     0.0  ...     0.0     0.0     0.0     0.0     0.0     0.0   \n",
              "5           0.0     0.0  ...     0.0     0.0     0.0     0.0     0.0     0.0   \n",
              "...         ...     ...  ...     ...     ...     ...     ...     ...     ...   \n",
              "189333      0.0     0.0  ...     0.0     0.0     0.0     0.0     0.0     0.0   \n",
              "192803      0.0     0.0  ...     0.0     0.0     0.0     0.0     0.0     0.0   \n",
              "194448      0.0     0.0  ...     0.0     0.0     0.0     0.0     0.0     0.0   \n",
              "195159      0.0     0.0  ...     0.0     0.0     0.0     0.0     0.0     0.0   \n",
              "202429      0.0     0.0  ...     0.0     0.0     0.0     0.0     0.0     0.0   \n",
              "\n",
              "userId   162047  162271  162445  162516  \n",
              "movieId                                  \n",
              "1           0.0     0.0     0.0     0.0  \n",
              "2           0.0     0.0     0.0     0.0  \n",
              "3           0.0     0.0     0.0     0.0  \n",
              "4           0.0     0.0     0.0     0.0  \n",
              "5           0.0     0.0     0.0     0.0  \n",
              "...         ...     ...     ...     ...  \n",
              "189333      0.0     0.0     0.0     0.0  \n",
              "192803      0.0     0.0     0.0     0.0  \n",
              "194448      0.0     0.0     0.0     0.0  \n",
              "195159      0.0     0.0     0.0     0.0  \n",
              "202429      0.0     0.0     0.0     0.0  \n",
              "\n",
              "[3234 rows x 1674 columns]"
            ]
          },
          "execution_count": 47,
          "metadata": {},
          "output_type": "execute_result"
        }
      ],
      "source": [
        "final_dataset=final_dataset.loc[:,no_movies_voted[no_movies_voted > 10].index]\n",
        "final_dataset"
      ]
    },
    {
      "cell_type": "markdown",
      "id": "9e84d5b6",
      "metadata": {
        "id": "9e84d5b6"
      },
      "source": [
        "Our final_dataset has dimensions of 3234 rows × 1674 columns where most of the values are sparse. We took only small dataset but for original large dataset of movie lens which has more than 1000000 features, this will sure hang our system when this has feed to model. To reduce the sparsity we use csr_matric scipy lib."
      ]
    },
    {
      "cell_type": "code",
      "execution_count": null,
      "id": "8d0e526c",
      "metadata": {
        "id": "8d0e526c",
        "outputId": "efdafba6-f6a9-42a2-c62f-d5a4e90e9cb0"
      },
      "outputs": [
        {
          "name": "stdout",
          "output_type": "stream",
          "text": [
            "0.7333333333333334\n"
          ]
        }
      ],
      "source": [
        "sample = np.array([[0,0,3,0,0],[4,0,0,0,2],[0,0,0,0,1]])\n",
        "sparsity = 1.0 - ( np.count_nonzero(sample) / float(sample.size) )\n",
        "print(sparsity)"
      ]
    },
    {
      "cell_type": "markdown",
      "id": "dcf29e47",
      "metadata": {
        "id": "dcf29e47"
      },
      "source": [
        "Creating a kNN model to print 10 movies recommendations similar to each other\n",
        "We use the csr_matrix from scipy.sparse to convert our pivot table into a matrix of arrays that we will use to fit our model."
      ]
    },
    {
      "cell_type": "code",
      "execution_count": null,
      "id": "b22b2cfb",
      "metadata": {
        "id": "b22b2cfb",
        "outputId": "8de8ce72-b661-4ad4-b8a6-5fea537aecc0"
      },
      "outputs": [
        {
          "name": "stdout",
          "output_type": "stream",
          "text": [
            "  (0, 2)\t3\n",
            "  (1, 0)\t4\n",
            "  (1, 4)\t2\n",
            "  (2, 4)\t1\n"
          ]
        }
      ],
      "source": [
        "from scipy.sparse import csr_matrix\n",
        "\n",
        "csr_sample = csr_matrix(sample)\n",
        "print(csr_sample)"
      ]
    },
    {
      "cell_type": "code",
      "execution_count": null,
      "id": "694356ad",
      "metadata": {
        "id": "694356ad"
      },
      "outputs": [],
      "source": [
        "csr_data = csr_matrix(final_dataset.values)\n",
        "final_dataset.reset_index(inplace=True)"
      ]
    },
    {
      "cell_type": "markdown",
      "id": "adc9c426",
      "metadata": {
        "id": "adc9c426"
      },
      "source": [
        "We use cosine distance metric which is very fast and preferable than pearson coefficient.\n",
        "\n",
        "Finally, we fit the NearestNeighbors from sklearn.neighbors to our previously generated matrix data. We set the metric to 'cosine' and algorithm 'brute'."
      ]
    },
    {
      "cell_type": "code",
      "execution_count": null,
      "id": "94ed8b31",
      "metadata": {
        "id": "94ed8b31",
        "outputId": "fc56120d-d2c3-4bdc-914c-5dadc20cecfe"
      },
      "outputs": [
        {
          "data": {
            "text/plain": [
              "NearestNeighbors(algorithm='brute', metric='cosine', n_jobs=-1, n_neighbors=20)"
            ]
          },
          "execution_count": 51,
          "metadata": {},
          "output_type": "execute_result"
        }
      ],
      "source": [
        "from sklearn.neighbors import NearestNeighbors\n",
        "\n",
        "knn = NearestNeighbors(metric='cosine', algorithm='brute', n_neighbors=20, n_jobs=-1)\n",
        "knn.fit(csr_data)"
      ]
    },
    {
      "cell_type": "code",
      "execution_count": null,
      "id": "f4f1f737",
      "metadata": {
        "id": "f4f1f737"
      },
      "outputs": [],
      "source": [
        "def get_movie_recommendation(movie_name):\n",
        "    n_movies_to_reccomend = 10\n",
        "    movie_list = movies[movies['title'].str.contains(movie_name)]  \n",
        "    if len(movie_list):        \n",
        "        movie_idx= movie_list.iloc[0]['movieId']\n",
        "        movie_idx = final_dataset[final_dataset['movieId'] == movie_idx].index[0]\n",
        "        distances , indices = knn.kneighbors(csr_data[movie_idx],n_neighbors=n_movies_to_reccomend+1)    \n",
        "        rec_movie_indices = sorted(list(zip(indices.squeeze().tolist(),distances.squeeze().tolist())),key=lambda x: x[1])[:0:-1]\n",
        "        recommend_frame = []\n",
        "        for val in rec_movie_indices:\n",
        "            movie_idx = final_dataset.iloc[val[0]]['movieId']\n",
        "            idx = movies[movies['movieId'] == movie_idx].index\n",
        "            recommend_frame.append({'Title':movies.iloc[idx]['title'].values[0],'Distance':val[1]})\n",
        "        df = pd.DataFrame(recommend_frame,index=range(1,n_movies_to_reccomend+1))\n",
        "        return df\n",
        "    else:\n",
        "        return \"No movies found. Please check your input\""
      ]
    },
    {
      "cell_type": "markdown",
      "id": "8b97cf40",
      "metadata": {
        "id": "8b97cf40"
      },
      "source": [
        "### Test the functionality of Collaborative Filtering Recommender System"
      ]
    },
    {
      "cell_type": "code",
      "execution_count": null,
      "id": "e8c87cdd",
      "metadata": {
        "id": "e8c87cdd",
        "outputId": "a74f4dec-4ed5-4e69-838b-c85e1186c925"
      },
      "outputs": [
        {
          "data": {
            "text/plain": [
              "'No movies found. Please check your input'"
            ]
          },
          "execution_count": 53,
          "metadata": {},
          "output_type": "execute_result"
        }
      ],
      "source": [
        "get_movie_recommendation('Captain Phillips (2013)')"
      ]
    },
    {
      "cell_type": "code",
      "execution_count": null,
      "id": "1855e43c",
      "metadata": {
        "id": "1855e43c",
        "outputId": "169817ae-d93b-42db-9d61-011b3b0d5f6f"
      },
      "outputs": [
        {
          "data": {
            "text/html": [
              "<div>\n",
              "<style scoped>\n",
              "    .dataframe tbody tr th:only-of-type {\n",
              "        vertical-align: middle;\n",
              "    }\n",
              "\n",
              "    .dataframe tbody tr th {\n",
              "        vertical-align: top;\n",
              "    }\n",
              "\n",
              "    .dataframe thead th {\n",
              "        text-align: right;\n",
              "    }\n",
              "</style>\n",
              "<table border=\"1\" class=\"dataframe\">\n",
              "  <thead>\n",
              "    <tr style=\"text-align: right;\">\n",
              "      <th></th>\n",
              "      <th>Title</th>\n",
              "      <th>Distance</th>\n",
              "    </tr>\n",
              "  </thead>\n",
              "  <tbody>\n",
              "    <tr>\n",
              "      <th>1</th>\n",
              "      <td>Lincoln (2012)</td>\n",
              "      <td>0.728886</td>\n",
              "    </tr>\n",
              "    <tr>\n",
              "      <th>2</th>\n",
              "      <td>Three Colors: Red (Trois couleurs: Rouge) (1994)</td>\n",
              "      <td>0.719098</td>\n",
              "    </tr>\n",
              "    <tr>\n",
              "      <th>3</th>\n",
              "      <td>¡Three Amigos! (1986)</td>\n",
              "      <td>0.717914</td>\n",
              "    </tr>\n",
              "    <tr>\n",
              "      <th>4</th>\n",
              "      <td>Madness of King George, The (1994)</td>\n",
              "      <td>0.700062</td>\n",
              "    </tr>\n",
              "    <tr>\n",
              "      <th>5</th>\n",
              "      <td>Walk to Remember, A (2002)</td>\n",
              "      <td>0.665748</td>\n",
              "    </tr>\n",
              "    <tr>\n",
              "      <th>6</th>\n",
              "      <td>Jane Eyre (1996)</td>\n",
              "      <td>0.631477</td>\n",
              "    </tr>\n",
              "    <tr>\n",
              "      <th>7</th>\n",
              "      <td>Mr. Holland's Opus (1995)</td>\n",
              "      <td>0.603373</td>\n",
              "    </tr>\n",
              "    <tr>\n",
              "      <th>8</th>\n",
              "      <td>Children of the Corn (1984)</td>\n",
              "      <td>0.603360</td>\n",
              "    </tr>\n",
              "    <tr>\n",
              "      <th>9</th>\n",
              "      <td>Winter's Bone (2010)</td>\n",
              "      <td>0.595958</td>\n",
              "    </tr>\n",
              "    <tr>\n",
              "      <th>10</th>\n",
              "      <td>Chocolat (1988)</td>\n",
              "      <td>0.571389</td>\n",
              "    </tr>\n",
              "  </tbody>\n",
              "</table>\n",
              "</div>"
            ],
            "text/plain": [
              "                                               Title  Distance\n",
              "1                                     Lincoln (2012)  0.728886\n",
              "2   Three Colors: Red (Trois couleurs: Rouge) (1994)  0.719098\n",
              "3                              ¡Three Amigos! (1986)  0.717914\n",
              "4                 Madness of King George, The (1994)  0.700062\n",
              "5                         Walk to Remember, A (2002)  0.665748\n",
              "6                                   Jane Eyre (1996)  0.631477\n",
              "7                          Mr. Holland's Opus (1995)  0.603373\n",
              "8                        Children of the Corn (1984)  0.603360\n",
              "9                               Winter's Bone (2010)  0.595958\n",
              "10                                   Chocolat (1988)  0.571389"
            ]
          },
          "execution_count": 54,
          "metadata": {},
          "output_type": "execute_result"
        }
      ],
      "source": [
        "get_movie_recommendation('Breaking Away')"
      ]
    },
    {
      "cell_type": "code",
      "execution_count": null,
      "id": "8133a878",
      "metadata": {
        "id": "8133a878",
        "outputId": "9be42412-a250-4a5a-da2b-272a9ebf5370"
      },
      "outputs": [
        {
          "data": {
            "text/html": [
              "<div>\n",
              "<style scoped>\n",
              "    .dataframe tbody tr th:only-of-type {\n",
              "        vertical-align: middle;\n",
              "    }\n",
              "\n",
              "    .dataframe tbody tr th {\n",
              "        vertical-align: top;\n",
              "    }\n",
              "\n",
              "    .dataframe thead th {\n",
              "        text-align: right;\n",
              "    }\n",
              "</style>\n",
              "<table border=\"1\" class=\"dataframe\">\n",
              "  <thead>\n",
              "    <tr style=\"text-align: right;\">\n",
              "      <th></th>\n",
              "      <th>Title</th>\n",
              "      <th>Distance</th>\n",
              "    </tr>\n",
              "  </thead>\n",
              "  <tbody>\n",
              "    <tr>\n",
              "      <th>1</th>\n",
              "      <td>Sleeping with the Enemy (1991)</td>\n",
              "      <td>0.724260</td>\n",
              "    </tr>\n",
              "    <tr>\n",
              "      <th>2</th>\n",
              "      <td>Father of the Bride (1991)</td>\n",
              "      <td>0.717816</td>\n",
              "    </tr>\n",
              "    <tr>\n",
              "      <th>3</th>\n",
              "      <td>Gosford Park (2001)</td>\n",
              "      <td>0.713935</td>\n",
              "    </tr>\n",
              "    <tr>\n",
              "      <th>4</th>\n",
              "      <td>Wild Strawberries (Smultronstället) (1957)</td>\n",
              "      <td>0.708270</td>\n",
              "    </tr>\n",
              "    <tr>\n",
              "      <th>5</th>\n",
              "      <td>Perfect Blue (1997)</td>\n",
              "      <td>0.696263</td>\n",
              "    </tr>\n",
              "    <tr>\n",
              "      <th>6</th>\n",
              "      <td>Captain Phillips (2013)</td>\n",
              "      <td>0.684193</td>\n",
              "    </tr>\n",
              "    <tr>\n",
              "      <th>7</th>\n",
              "      <td>Key Largo (1948)</td>\n",
              "      <td>0.675633</td>\n",
              "    </tr>\n",
              "    <tr>\n",
              "      <th>8</th>\n",
              "      <td>Talk to Her (Hable con Ella) (2002)</td>\n",
              "      <td>0.562405</td>\n",
              "    </tr>\n",
              "    <tr>\n",
              "      <th>9</th>\n",
              "      <td>Koyaanisqatsi (a.k.a. Koyaanisqatsi: Life Out ...</td>\n",
              "      <td>0.544394</td>\n",
              "    </tr>\n",
              "    <tr>\n",
              "      <th>10</th>\n",
              "      <td>Avengers, The (1998)</td>\n",
              "      <td>0.504132</td>\n",
              "    </tr>\n",
              "  </tbody>\n",
              "</table>\n",
              "</div>"
            ],
            "text/plain": [
              "                                                Title  Distance\n",
              "1                      Sleeping with the Enemy (1991)  0.724260\n",
              "2                          Father of the Bride (1991)  0.717816\n",
              "3                                 Gosford Park (2001)  0.713935\n",
              "4          Wild Strawberries (Smultronstället) (1957)  0.708270\n",
              "5                                 Perfect Blue (1997)  0.696263\n",
              "6                             Captain Phillips (2013)  0.684193\n",
              "7                                    Key Largo (1948)  0.675633\n",
              "8                 Talk to Her (Hable con Ella) (2002)  0.562405\n",
              "9   Koyaanisqatsi (a.k.a. Koyaanisqatsi: Life Out ...  0.544394\n",
              "10                               Avengers, The (1998)  0.504132"
            ]
          },
          "execution_count": 55,
          "metadata": {},
          "output_type": "execute_result"
        }
      ],
      "source": [
        "get_movie_recommendation('Invisible Man, The')"
      ]
    },
    {
      "cell_type": "code",
      "execution_count": null,
      "id": "e05c9fc6",
      "metadata": {
        "id": "e05c9fc6"
      },
      "outputs": [],
      "source": [
        ""
      ]
    },
    {
      "cell_type": "code",
      "execution_count": null,
      "id": "50b7aa8c",
      "metadata": {
        "id": "50b7aa8c"
      },
      "outputs": [],
      "source": [
        ""
      ]
    }
  ],
  "metadata": {
    "kernelspec": {
      "display_name": "Python 3",
      "language": "python",
      "name": "python3"
    },
    "language_info": {
      "codemirror_mode": {
        "name": "ipython",
        "version": 3
      },
      "file_extension": ".py",
      "mimetype": "text/x-python",
      "name": "python",
      "nbconvert_exporter": "python",
      "pygments_lexer": "ipython3",
      "version": "3.8.8"
    },
    "colab": {
      "name": "Movie Recommender System Content-Based & Collaborative new.ipynb",
      "provenance": [],
      "include_colab_link": true
    }
  },
  "nbformat": 4,
  "nbformat_minor": 5
}