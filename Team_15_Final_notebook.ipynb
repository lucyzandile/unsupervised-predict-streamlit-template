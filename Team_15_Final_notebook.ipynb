{
  "cells": [
    {
      "cell_type": "markdown",
      "metadata": {
        "id": "view-in-github",
        "colab_type": "text"
      },
      "source": [
        "<a href=\"https://colab.research.google.com/github/lucyzandile/unsupervised-predict-streamlit-template/blob/master/Team_15_Final_notebook.ipynb\" target=\"_parent\"><img src=\"https://colab.research.google.com/assets/colab-badge.svg\" alt=\"Open In Colab\"/></a>"
      ]
    },
    {
      "cell_type": "code",
      "execution_count": null,
      "id": "037931fa",
      "metadata": {
        "id": "037931fa"
      },
      "outputs": [],
      "source": [
        ""
      ]
    },
    {
      "cell_type": "markdown",
      "id": "pE75xHyOz3k-",
      "metadata": {
        "id": "pE75xHyOz3k-"
      },
      "source": [
        "# Introduction\n",
        "\n",
        "Media platforms such as Netflix, ShowMax, Amazon Prime offer a wide variety of content. In recent years the content available through these platforms has increased exponentially. This has presented the users with the problem of spending a lot of time trying to decide what to watch. For these organisations building or acquiring a good recommender system has become a priority as it will help their users find what they liked quickly. Express analytics define a recommender system as a compelling information filtering system running on machine learning (ML) algorithms that can predict a customer’s ratings or preferences for a product. A good recommender engine help to address the challenge of information overload."
      ]
    },
    {
      "cell_type": "markdown",
      "id": "fb8a498d",
      "metadata": {
        "id": "fb8a498d"
      },
      "source": [
        "### Types of Recommender Systems\n",
        "\n",
        "Recommender systems can be classified into three categories:\n",
        "- **Content based filtering** finds similarities between products based on attributes\n",
        "- **Collaborative filtering** finds out similar users based on user item interactions\n",
        "- **Hybrid** is a combination of the above mentions recommender systems.\n",
        "\n",
        "## Problem Statement\n",
        "\n",
        "Construct a recommendation algorithm based on content or collaborative filtering, capable of accurately predicting how a user will rate a movie they have not yet viewed, based on their historical preferences."
      ]
    },
    {
      "cell_type": "markdown",
      "id": "GzRENS52Caad",
      "metadata": {
        "id": "GzRENS52Caad"
      },
      "source": [
        "<a id=\"cont\"></a>\n",
        "\n",
        "# Table of Contents\n",
        "\n",
        "<a href=#one>1. Importing Packages</a>\n",
        "\n",
        "<a href=#two>2. Loading Data</a>\n",
        "\n",
        "<a href=#three>3. Exploratory Data Analysis (EDA)</a>\n",
        "\n",
        "<a href=#four>4. Data Preprocessing</a>\n",
        "\n",
        "<a href=#five>5. Building a movie recommender system</a>\n",
        "\n",
        "<a href=#six>6. Kaggle Submission</a>\n",
        "\n",
        "<a href=#seven>7. References</a>"
      ]
    },
    {
      "cell_type": "code",
      "source": [
        "!pip install comet_ml"
      ],
      "metadata": {
        "colab": {
          "base_uri": "https://localhost:8080/"
        },
        "id": "uhLHmkwOQrju",
        "outputId": "5b8a2230-4dae-4db8-e3a4-f3c6bcf8354a"
      },
      "id": "uhLHmkwOQrju",
      "execution_count": 5,
      "outputs": [
        {
          "output_type": "stream",
          "name": "stdout",
          "text": [
            "Requirement already satisfied: comet_ml in /usr/local/lib/python3.7/dist-packages (3.25.0)\n",
            "Requirement already satisfied: jsonschema!=3.1.0,>=2.6.0 in /usr/local/lib/python3.7/dist-packages (from comet_ml) (4.3.3)\n",
            "Requirement already satisfied: requests>=2.18.4 in /usr/local/lib/python3.7/dist-packages (from comet_ml) (2.23.0)\n",
            "Requirement already satisfied: wrapt>=1.11.2 in /usr/local/lib/python3.7/dist-packages (from comet_ml) (1.13.3)\n",
            "Requirement already satisfied: websocket-client>=0.55.0 in /usr/local/lib/python3.7/dist-packages (from comet_ml) (1.2.3)\n",
            "Requirement already satisfied: nvidia-ml-py3>=7.352.0 in /usr/local/lib/python3.7/dist-packages (from comet_ml) (7.352.0)\n",
            "Requirement already satisfied: six in /usr/local/lib/python3.7/dist-packages (from comet_ml) (1.15.0)\n",
            "Requirement already satisfied: dulwich>=0.20.6 in /usr/local/lib/python3.7/dist-packages (from comet_ml) (0.20.32)\n",
            "Requirement already satisfied: wurlitzer>=1.0.2 in /usr/local/lib/python3.7/dist-packages (from comet_ml) (3.0.2)\n",
            "Requirement already satisfied: requests-toolbelt>=0.8.0 in /usr/local/lib/python3.7/dist-packages (from comet_ml) (0.9.1)\n",
            "Requirement already satisfied: semantic-version>=2.8.0 in /usr/local/lib/python3.7/dist-packages (from comet_ml) (2.8.5)\n",
            "Requirement already satisfied: everett[ini]>=1.0.1 in /usr/local/lib/python3.7/dist-packages (from comet_ml) (3.0.0)\n",
            "Requirement already satisfied: certifi in /usr/local/lib/python3.7/dist-packages (from dulwich>=0.20.6->comet_ml) (2021.10.8)\n",
            "Requirement already satisfied: urllib3>=1.24.1 in /usr/local/lib/python3.7/dist-packages (from dulwich>=0.20.6->comet_ml) (1.24.3)\n",
            "Requirement already satisfied: configobj in /usr/local/lib/python3.7/dist-packages (from everett[ini]>=1.0.1->comet_ml) (5.0.6)\n",
            "Requirement already satisfied: importlib-resources>=1.4.0 in /usr/local/lib/python3.7/dist-packages (from jsonschema!=3.1.0,>=2.6.0->comet_ml) (5.4.0)\n",
            "Requirement already satisfied: typing-extensions in /usr/local/lib/python3.7/dist-packages (from jsonschema!=3.1.0,>=2.6.0->comet_ml) (3.10.0.2)\n",
            "Requirement already satisfied: pyrsistent!=0.17.0,!=0.17.1,!=0.17.2,>=0.14.0 in /usr/local/lib/python3.7/dist-packages (from jsonschema!=3.1.0,>=2.6.0->comet_ml) (0.18.1)\n",
            "Requirement already satisfied: importlib-metadata in /usr/local/lib/python3.7/dist-packages (from jsonschema!=3.1.0,>=2.6.0->comet_ml) (4.10.1)\n",
            "Requirement already satisfied: attrs>=17.4.0 in /usr/local/lib/python3.7/dist-packages (from jsonschema!=3.1.0,>=2.6.0->comet_ml) (21.4.0)\n",
            "Requirement already satisfied: zipp>=3.1.0 in /usr/local/lib/python3.7/dist-packages (from importlib-resources>=1.4.0->jsonschema!=3.1.0,>=2.6.0->comet_ml) (3.7.0)\n",
            "Requirement already satisfied: chardet<4,>=3.0.2 in /usr/local/lib/python3.7/dist-packages (from requests>=2.18.4->comet_ml) (3.0.4)\n",
            "Requirement already satisfied: idna<3,>=2.5 in /usr/local/lib/python3.7/dist-packages (from requests>=2.18.4->comet_ml) (2.10)\n"
          ]
        }
      ]
    },
    {
      "cell_type": "code",
      "source": [
        "# import comet_ml at the top of your file\n",
        "from comet_ml import Experiment\n",
        "\n",
        "# Create an experiment with your api key\n",
        "experiment = Experiment(\n",
        "    api_key=\"0ofyzwHwHad5VetSPVvkpg24M\",\n",
        "    project_name=\"team-15-unsupervised-predict\",\n",
        "    workspace=\"lucy-lushaba\",\n",
        ")"
      ],
      "metadata": {
        "colab": {
          "base_uri": "https://localhost:8080/"
        },
        "id": "2iREA5kOQr1P",
        "outputId": "7f1eb2b3-e638-4e13-eb0e-ce760d4f370e"
      },
      "id": "2iREA5kOQr1P",
      "execution_count": 6,
      "outputs": [
        {
          "output_type": "stream",
          "name": "stderr",
          "text": [
            "COMET WARNING: As you are running in a Jupyter environment, you will need to call `experiment.end()` when finished to ensure all metrics and code are logged before exiting.\n",
            "COMET INFO: Couldn't find a Git repository in '/content' nor in any parent directory. You can override where Comet is looking for a Git Patch by setting the configuration `COMET_GIT_DIRECTORY`\n",
            "COMET INFO: Experiment is live on comet.ml https://www.comet.ml/lucy-lushaba/team-15-unsupervised-predict/ebbf9e61ad05410da9350d8005ef48d8\n",
            "\n"
          ]
        }
      ]
    },
    {
      "cell_type": "markdown",
      "id": "4rDscSVMCqPD",
      "metadata": {
        "id": "4rDscSVMCqPD"
      },
      "source": [
        "<a id=\"one\"></a>\n",
        "# Importing packages"
      ]
    },
    {
      "cell_type": "code",
      "execution_count": 7,
      "id": "27885214",
      "metadata": {
        "id": "27885214",
        "outputId": "8cf299e2-3688-48bd-b2a0-825e68ca2e7e",
        "colab": {
          "base_uri": "https://localhost:8080/",
          "height": 69
        }
      },
      "outputs": [
        {
          "output_type": "display_data",
          "data": {
            "text/html": [
              "        <script type=\"text/javascript\">\n",
              "        window.PlotlyConfig = {MathJaxConfig: 'local'};\n",
              "        if (window.MathJax) {MathJax.Hub.Config({SVG: {font: \"STIX-Web\"}});}\n",
              "        if (typeof require !== 'undefined') {\n",
              "        require.undef(\"plotly\");\n",
              "        requirejs.config({\n",
              "            paths: {\n",
              "                'plotly': ['https://cdn.plot.ly/plotly-2.8.3.min']\n",
              "            }\n",
              "        });\n",
              "        require(['plotly'], function(Plotly) {\n",
              "            window._Plotly = Plotly;\n",
              "        });\n",
              "        }\n",
              "        </script>\n",
              "        "
            ]
          },
          "metadata": {}
        },
        {
          "output_type": "stream",
          "name": "stdout",
          "text": [
            "Requirement already satisfied: wordcloud in /usr/local/lib/python3.7/dist-packages (1.5.0)\n",
            "Requirement already satisfied: pillow in /usr/local/lib/python3.7/dist-packages (from wordcloud) (7.1.2)\n",
            "Requirement already satisfied: numpy>=1.6.1 in /usr/local/lib/python3.7/dist-packages (from wordcloud) (1.19.5)\n"
          ]
        }
      ],
      "source": [
        "# Libraries for data loading, data manipulation and data visulisation\n",
        "\n",
        "import pandas as pd\n",
        "\n",
        "import numpy as np\n",
        "\n",
        "import matplotlib.pyplot as plt\n",
        "import seaborn as sns\n",
        "\n",
        "import warnings\n",
        "warnings.filterwarnings('ignore')\n",
        "\n",
        "\n",
        "from plotly.offline import init_notebook_mode, plot, iplot\n",
        "import plotly.graph_objs as go\n",
        "init_notebook_mode(connected=True)\n",
        "\n",
        "#Wordcloud\n",
        "!pip install wordcloud\n",
        "from wordcloud import WordCloud, STOPWORDS, ImageColorGenerator\n",
        "\n",
        "#others\n",
        "import warnings\n",
        "warnings.filterwarnings('ignore')\n",
        "from IPython.display import display_html \n",
        "from IPython.core.display import HTML\n",
        "from collections import defaultdict\n",
        "import datetime\n",
        "import re"
      ]
    },
    {
      "cell_type": "markdown",
      "id": "BMZq5QvEyF5C",
      "metadata": {
        "id": "BMZq5QvEyF5C"
      },
      "source": [
        "<a id=\"two\"></a>\n",
        "## Loading the Data"
      ]
    },
    {
      "cell_type": "code",
      "execution_count": 8,
      "id": "fsMhz-bXCtT2",
      "metadata": {
        "id": "fsMhz-bXCtT2",
        "colab": {
          "base_uri": "https://localhost:8080/"
        },
        "outputId": "c0b49df7-8ec9-4880-a032-abbc02b3f3a8"
      },
      "outputs": [
        {
          "output_type": "stream",
          "name": "stdout",
          "text": [
            "Mounted at /content/drive\n"
          ]
        }
      ],
      "source": [
        "from google.colab import drive\n",
        "drive.mount('/content/drive')"
      ]
    },
    {
      "cell_type": "code",
      "execution_count": null,
      "id": "49fc562d",
      "metadata": {
        "id": "49fc562d"
      },
      "outputs": [],
      "source": [
        "#Loading the data\n",
        "df_train = pd.read_csv('C:/Users/Thandazani/Movie Recommender System/train.csv')\n",
        "df_test = pd.read_csv('C:/Users/Thandazani/Movie Recommender System/test.csv')\n",
        "df_links = pd.read_csv('C:/Users/Thandazani/Movie Recommender System/links.csv')\n",
        "df_movies = pd.read_csv('C:/Users/Thandazani/Movie Recommender System/movies.csv')\n",
        "df_imdb = pd.read_csv('C:/Users/Thandazani/Movie Recommender System/imdb_data.csv')\n",
        "df_tags = pd.read_csv('C:/Users/Thandazani/Movie Recommender System/tags.csv')\n",
        "df_genome_tags = pd.read_csv('C:/Users/Thandazani/Movie Recommender System/genome_tags.csv')\n",
        "df_genome_scores = pd.read_csv('C:/Users/Thandazani/Movie Recommender System/genome_scores.csv')\n",
        "df_sample_submission = pd.read_csv('C:/Users/Thandazani/Movie Recommender System/sample_submission.csv')"
      ]
    },
    {
      "cell_type": "markdown",
      "id": "wFkIBk-cywNe",
      "metadata": {
        "id": "wFkIBk-cywNe"
      },
      "source": [
        ""
      ]
    },
    {
      "cell_type": "markdown",
      "id": "FkQYKrfMDBKf",
      "metadata": {
        "id": "FkQYKrfMDBKf"
      },
      "source": [
        "### Overview of the datasets"
      ]
    },
    {
      "cell_type": "code",
      "execution_count": null,
      "id": "c65b7b46",
      "metadata": {
        "id": "c65b7b46"
      },
      "outputs": [],
      "source": [
        "#Function to display all data\n",
        "def data_overview_display(dataframe_list,column_names=[]):\n",
        "    \"\"\"\n",
        "    Displays multiple dataframes in one cell.\n",
        "\n",
        "    Parameter(s):\n",
        "    -------------\n",
        "    dataframe_list(DataFrame(s)): an input of dataframe(s) as list.\n",
        "    column_names(string): list of string.\n",
        "    \n",
        "    Return\n",
        "    ------\n",
        "    display_html(DataFrame(s)): returns multiple of dataframes in one cell.\n",
        "    \n",
        "    \"\"\"\n",
        "    html_string = ''\n",
        "    html_string += ('<tr>' + ''.join(f'<td style=\"text-align:center\">{name}</td>' for name in column_names) + '</tr>')\n",
        "    html_string += ('<tr>' + ''.join(f'<td style=\"vertical-align:top\"> {df.to_html(index=True)}</td>' for df in dataframe_list) + '</tr>')\n",
        "    html_string = f'<table>{html_string}</table>'\n",
        "    html_string = html_string.replace('table','table style=\"display:inline\"')\n",
        "    display_html(html_string, raw=True)"
      ]
    },
    {
      "cell_type": "code",
      "execution_count": null,
      "id": "150ca7a9",
      "metadata": {
        "id": "150ca7a9",
        "outputId": "55a8badb-5e86-40df-879a-bb34e1a05c82"
      },
      "outputs": [
        {
          "data": {
            "text/html": [
              "<table style=\"display:inline\"><tr><td style=\"text-align:center\">Movies dataframe</td><td style=\"text-align:center\">genome tags df</td><td style=\"text-align:center\">genome scores df</td></tr><tr><td style=\"vertical-align:top\"> <table style=\"display:inline\" border=\"1\" class=\"dataframe\">\n",
              "  <thead>\n",
              "    <tr style=\"text-align: right;\">\n",
              "      <th></th>\n",
              "      <th>movieId</th>\n",
              "      <th>title</th>\n",
              "      <th>genres</th>\n",
              "    </tr>\n",
              "  </thead>\n",
              "  <tbody>\n",
              "    <tr>\n",
              "      <th>0</th>\n",
              "      <td>1</td>\n",
              "      <td>Toy Story (1995)</td>\n",
              "      <td>Adventure|Animation|Children|Comedy|Fantasy</td>\n",
              "    </tr>\n",
              "    <tr>\n",
              "      <th>1</th>\n",
              "      <td>2</td>\n",
              "      <td>Jumanji (1995)</td>\n",
              "      <td>Adventure|Children|Fantasy</td>\n",
              "    </tr>\n",
              "    <tr>\n",
              "      <th>2</th>\n",
              "      <td>3</td>\n",
              "      <td>Grumpier Old Men (1995)</td>\n",
              "      <td>Comedy|Romance</td>\n",
              "    </tr>\n",
              "    <tr>\n",
              "      <th>3</th>\n",
              "      <td>4</td>\n",
              "      <td>Waiting to Exhale (1995)</td>\n",
              "      <td>Comedy|Drama|Romance</td>\n",
              "    </tr>\n",
              "    <tr>\n",
              "      <th>4</th>\n",
              "      <td>5</td>\n",
              "      <td>Father of the Bride Part II (1995)</td>\n",
              "      <td>Comedy</td>\n",
              "    </tr>\n",
              "  </tbody>\n",
              "</table style=\"display:inline\"></td><td style=\"vertical-align:top\"> <table style=\"display:inline\" border=\"1\" class=\"dataframe\">\n",
              "  <thead>\n",
              "    <tr style=\"text-align: right;\">\n",
              "      <th></th>\n",
              "      <th>tagId</th>\n",
              "      <th>tag</th>\n",
              "    </tr>\n",
              "  </thead>\n",
              "  <tbody>\n",
              "    <tr>\n",
              "      <th>0</th>\n",
              "      <td>1</td>\n",
              "      <td>007</td>\n",
              "    </tr>\n",
              "    <tr>\n",
              "      <th>1</th>\n",
              "      <td>2</td>\n",
              "      <td>007 (series)</td>\n",
              "    </tr>\n",
              "    <tr>\n",
              "      <th>2</th>\n",
              "      <td>3</td>\n",
              "      <td>18th century</td>\n",
              "    </tr>\n",
              "    <tr>\n",
              "      <th>3</th>\n",
              "      <td>4</td>\n",
              "      <td>1920s</td>\n",
              "    </tr>\n",
              "    <tr>\n",
              "      <th>4</th>\n",
              "      <td>5</td>\n",
              "      <td>1930s</td>\n",
              "    </tr>\n",
              "  </tbody>\n",
              "</table style=\"display:inline\"></td><td style=\"vertical-align:top\"> <table style=\"display:inline\" border=\"1\" class=\"dataframe\">\n",
              "  <thead>\n",
              "    <tr style=\"text-align: right;\">\n",
              "      <th></th>\n",
              "      <th>movieId</th>\n",
              "      <th>tagId</th>\n",
              "      <th>relevance</th>\n",
              "    </tr>\n",
              "  </thead>\n",
              "  <tbody>\n",
              "    <tr>\n",
              "      <th>0</th>\n",
              "      <td>1</td>\n",
              "      <td>1</td>\n",
              "      <td>0.02875</td>\n",
              "    </tr>\n",
              "    <tr>\n",
              "      <th>1</th>\n",
              "      <td>1</td>\n",
              "      <td>2</td>\n",
              "      <td>0.02375</td>\n",
              "    </tr>\n",
              "    <tr>\n",
              "      <th>2</th>\n",
              "      <td>1</td>\n",
              "      <td>3</td>\n",
              "      <td>0.06250</td>\n",
              "    </tr>\n",
              "    <tr>\n",
              "      <th>3</th>\n",
              "      <td>1</td>\n",
              "      <td>4</td>\n",
              "      <td>0.07575</td>\n",
              "    </tr>\n",
              "    <tr>\n",
              "      <th>4</th>\n",
              "      <td>1</td>\n",
              "      <td>5</td>\n",
              "      <td>0.14075</td>\n",
              "    </tr>\n",
              "  </tbody>\n",
              "</table style=\"display:inline\"></td></tr></table style=\"display:inline\">"
            ]
          },
          "metadata": {},
          "output_type": "display_data"
        },
        {
          "data": {
            "text/html": [
              "<table style=\"display:inline\"><tr><td style=\"text-align:center\">Train df</td><td style=\"text-align:center\">Test df</td><td style=\"text-align:center\">Links df</td><td style=\"text-align:center\">Tags df</td></tr><tr><td style=\"vertical-align:top\"> <table style=\"display:inline\" border=\"1\" class=\"dataframe\">\n",
              "  <thead>\n",
              "    <tr style=\"text-align: right;\">\n",
              "      <th></th>\n",
              "      <th>userId</th>\n",
              "      <th>movieId</th>\n",
              "      <th>rating</th>\n",
              "      <th>timestamp</th>\n",
              "    </tr>\n",
              "  </thead>\n",
              "  <tbody>\n",
              "    <tr>\n",
              "      <th>0</th>\n",
              "      <td>5163</td>\n",
              "      <td>57669</td>\n",
              "      <td>4.0</td>\n",
              "      <td>1518349992</td>\n",
              "    </tr>\n",
              "    <tr>\n",
              "      <th>1</th>\n",
              "      <td>106343</td>\n",
              "      <td>5</td>\n",
              "      <td>4.5</td>\n",
              "      <td>1206238739</td>\n",
              "    </tr>\n",
              "    <tr>\n",
              "      <th>2</th>\n",
              "      <td>146790</td>\n",
              "      <td>5459</td>\n",
              "      <td>5.0</td>\n",
              "      <td>1076215539</td>\n",
              "    </tr>\n",
              "    <tr>\n",
              "      <th>3</th>\n",
              "      <td>106362</td>\n",
              "      <td>32296</td>\n",
              "      <td>2.0</td>\n",
              "      <td>1423042565</td>\n",
              "    </tr>\n",
              "    <tr>\n",
              "      <th>4</th>\n",
              "      <td>9041</td>\n",
              "      <td>366</td>\n",
              "      <td>3.0</td>\n",
              "      <td>833375837</td>\n",
              "    </tr>\n",
              "  </tbody>\n",
              "</table style=\"display:inline\"></td><td style=\"vertical-align:top\"> <table style=\"display:inline\" border=\"1\" class=\"dataframe\">\n",
              "  <thead>\n",
              "    <tr style=\"text-align: right;\">\n",
              "      <th></th>\n",
              "      <th>userId</th>\n",
              "      <th>movieId</th>\n",
              "    </tr>\n",
              "  </thead>\n",
              "  <tbody>\n",
              "    <tr>\n",
              "      <th>0</th>\n",
              "      <td>1</td>\n",
              "      <td>2011</td>\n",
              "    </tr>\n",
              "    <tr>\n",
              "      <th>1</th>\n",
              "      <td>1</td>\n",
              "      <td>4144</td>\n",
              "    </tr>\n",
              "    <tr>\n",
              "      <th>2</th>\n",
              "      <td>1</td>\n",
              "      <td>5767</td>\n",
              "    </tr>\n",
              "    <tr>\n",
              "      <th>3</th>\n",
              "      <td>1</td>\n",
              "      <td>6711</td>\n",
              "    </tr>\n",
              "    <tr>\n",
              "      <th>4</th>\n",
              "      <td>1</td>\n",
              "      <td>7318</td>\n",
              "    </tr>\n",
              "  </tbody>\n",
              "</table style=\"display:inline\"></td><td style=\"vertical-align:top\"> <table style=\"display:inline\" border=\"1\" class=\"dataframe\">\n",
              "  <thead>\n",
              "    <tr style=\"text-align: right;\">\n",
              "      <th></th>\n",
              "      <th>movieId</th>\n",
              "      <th>imdbId</th>\n",
              "      <th>tmdbId</th>\n",
              "    </tr>\n",
              "  </thead>\n",
              "  <tbody>\n",
              "    <tr>\n",
              "      <th>0</th>\n",
              "      <td>1</td>\n",
              "      <td>114709</td>\n",
              "      <td>862.0</td>\n",
              "    </tr>\n",
              "    <tr>\n",
              "      <th>1</th>\n",
              "      <td>2</td>\n",
              "      <td>113497</td>\n",
              "      <td>8844.0</td>\n",
              "    </tr>\n",
              "    <tr>\n",
              "      <th>2</th>\n",
              "      <td>3</td>\n",
              "      <td>113228</td>\n",
              "      <td>15602.0</td>\n",
              "    </tr>\n",
              "    <tr>\n",
              "      <th>3</th>\n",
              "      <td>4</td>\n",
              "      <td>114885</td>\n",
              "      <td>31357.0</td>\n",
              "    </tr>\n",
              "    <tr>\n",
              "      <th>4</th>\n",
              "      <td>5</td>\n",
              "      <td>113041</td>\n",
              "      <td>11862.0</td>\n",
              "    </tr>\n",
              "  </tbody>\n",
              "</table style=\"display:inline\"></td><td style=\"vertical-align:top\"> <table style=\"display:inline\" border=\"1\" class=\"dataframe\">\n",
              "  <thead>\n",
              "    <tr style=\"text-align: right;\">\n",
              "      <th></th>\n",
              "      <th>userId</th>\n",
              "      <th>movieId</th>\n",
              "      <th>tag</th>\n",
              "      <th>timestamp</th>\n",
              "    </tr>\n",
              "  </thead>\n",
              "  <tbody>\n",
              "    <tr>\n",
              "      <th>0</th>\n",
              "      <td>3</td>\n",
              "      <td>260</td>\n",
              "      <td>classic</td>\n",
              "      <td>1439472355</td>\n",
              "    </tr>\n",
              "    <tr>\n",
              "      <th>1</th>\n",
              "      <td>3</td>\n",
              "      <td>260</td>\n",
              "      <td>sci-fi</td>\n",
              "      <td>1439472256</td>\n",
              "    </tr>\n",
              "    <tr>\n",
              "      <th>2</th>\n",
              "      <td>4</td>\n",
              "      <td>1732</td>\n",
              "      <td>dark comedy</td>\n",
              "      <td>1573943598</td>\n",
              "    </tr>\n",
              "    <tr>\n",
              "      <th>3</th>\n",
              "      <td>4</td>\n",
              "      <td>1732</td>\n",
              "      <td>great dialogue</td>\n",
              "      <td>1573943604</td>\n",
              "    </tr>\n",
              "    <tr>\n",
              "      <th>4</th>\n",
              "      <td>4</td>\n",
              "      <td>7569</td>\n",
              "      <td>so bad it's good</td>\n",
              "      <td>1573943455</td>\n",
              "    </tr>\n",
              "  </tbody>\n",
              "</table style=\"display:inline\"></td></tr></table style=\"display:inline\">"
            ]
          },
          "metadata": {},
          "output_type": "display_data"
        },
        {
          "data": {
            "text/html": [
              "<table style=\"display:inline\"><tr><td style=\"text-align:center\">Imdb df</td></tr><tr><td style=\"vertical-align:top\"> <table style=\"display:inline\" border=\"1\" class=\"dataframe\">\n",
              "  <thead>\n",
              "    <tr style=\"text-align: right;\">\n",
              "      <th></th>\n",
              "      <th>movieId</th>\n",
              "      <th>title_cast</th>\n",
              "      <th>director</th>\n",
              "      <th>runtime</th>\n",
              "      <th>budget</th>\n",
              "      <th>plot_keywords</th>\n",
              "    </tr>\n",
              "  </thead>\n",
              "  <tbody>\n",
              "    <tr>\n",
              "      <th>0</th>\n",
              "      <td>1</td>\n",
              "      <td>Tom Hanks|Tim Allen|Don Rickles|Jim Varney|Wallace Shawn|John Ratzenberger|Annie Potts|John Morris|Erik von Detten|Laurie Metcalf|R. Lee Ermey|Sarah Freeman|Penn Jillette|Jack Angel|Spencer Aste</td>\n",
              "      <td>John Lasseter</td>\n",
              "      <td>81.0</td>\n",
              "      <td>$30,000,000</td>\n",
              "      <td>toy|rivalry|cowboy|cgi animation</td>\n",
              "    </tr>\n",
              "    <tr>\n",
              "      <th>1</th>\n",
              "      <td>2</td>\n",
              "      <td>Robin Williams|Jonathan Hyde|Kirsten Dunst|Bradley Pierce|Bonnie Hunt|Bebe Neuwirth|David Alan Grier|Patricia Clarkson|Adam Hann-Byrd|Laura Bell Bundy|James Handy|Gillian Barber|Brandon Obray|Cyrus Thiedeke|Gary Joseph Thorup</td>\n",
              "      <td>Jonathan Hensleigh</td>\n",
              "      <td>104.0</td>\n",
              "      <td>$65,000,000</td>\n",
              "      <td>board game|adventurer|fight|game</td>\n",
              "    </tr>\n",
              "    <tr>\n",
              "      <th>2</th>\n",
              "      <td>3</td>\n",
              "      <td>Walter Matthau|Jack Lemmon|Sophia Loren|Ann-Margret|Burgess Meredith|Daryl Hannah|Kevin Pollak|Katie Sagona|Ann Morgan Guilbert|James Andelin|Marcus Klemp|Max Wright|Cheryl Hawker|Wayne A. Evenson|Allison Levine</td>\n",
              "      <td>Mark Steven Johnson</td>\n",
              "      <td>101.0</td>\n",
              "      <td>$25,000,000</td>\n",
              "      <td>boat|lake|neighbor|rivalry</td>\n",
              "    </tr>\n",
              "    <tr>\n",
              "      <th>3</th>\n",
              "      <td>4</td>\n",
              "      <td>Whitney Houston|Angela Bassett|Loretta Devine|Lela Rochon|Gregory Hines|Dennis Haysbert|Mykelti Williamson|Michael Beach|Leon|Wendell Pierce|Donald Faison|Jeffrey D. Sams|Jazz Raycole|Brandon Hammond|Kenya Moore</td>\n",
              "      <td>Terry McMillan</td>\n",
              "      <td>124.0</td>\n",
              "      <td>$16,000,000</td>\n",
              "      <td>black american|husband wife relationship|betrayal|mother son relationship</td>\n",
              "    </tr>\n",
              "    <tr>\n",
              "      <th>4</th>\n",
              "      <td>5</td>\n",
              "      <td>Steve Martin|Diane Keaton|Martin Short|Kimberly Williams-Paisley|George Newbern|Kieran Culkin|BD Wong|Peter Michael Goetz|Kate McGregor-Stewart|Jane Adams|Eugene Levy|Rebecca Chambers|April Ortiz|Dulcy Rogers|Kathy Anthony</td>\n",
              "      <td>Albert Hackett</td>\n",
              "      <td>106.0</td>\n",
              "      <td>$30,000,000</td>\n",
              "      <td>fatherhood|doberman|dog|mansion</td>\n",
              "    </tr>\n",
              "  </tbody>\n",
              "</table style=\"display:inline\"></td></tr></table style=\"display:inline\">"
            ]
          },
          "metadata": {},
          "output_type": "display_data"
        }
      ],
      "source": [
        "#Generate the overview\n",
        "data_overview_display([df_movies.head(),df_genome_tags.head(),df_genome_scores.head()], column_names=['Movies dataframe','genome tags df','genome scores df'])\n",
        "data_overview_display([df_train.head(),df_test.head(),df_links.head(),df_tags.head()], column_names=['Train df','Test df','Links df','Tags df'])\n",
        "data_overview_display([df_imdb.head()], column_names=['Imdb df'])"
      ]
    },
    {
      "cell_type": "markdown",
      "id": "8bf944f7",
      "metadata": {
        "id": "8bf944f7"
      },
      "source": [
        "### Checking for duplicates"
      ]
    },
    {
      "cell_type": "code",
      "execution_count": null,
      "id": "cd3f0a2a",
      "metadata": {
        "id": "cd3f0a2a"
      },
      "outputs": [],
      "source": [
        "#Create the duplicates values dataframes of all the given data\n",
        "train_duplicates = pd.DataFrame({\"Duplicate Values\":df_train.duplicated(['userId', 'movieId', 'rating', 'timestamp']).sum()}, index=[0])\n",
        "train_duplicates = pd.DataFrame({\"Duplicate Values\":df_test.duplicated(['userId', 'movieId']).sum()}, index=[0])\n",
        "movies_duplicates = pd.DataFrame({\"Duplicate Values\":df_movies.duplicated(['movieId', 'title', 'genres']).sum()}, index=[0])\n",
        "links_duplicates = pd.DataFrame({\"Duplicate Values\":df_links.duplicated(['movieId', 'imdbId', 'tmdbId']).sum()}, index=[0])\n",
        "imdb_duplicates = pd.DataFrame({\"Duplicate Values\":df_imdb.duplicated(['movieId', 'title_cast', 'director', 'runtime', 'budget', 'plot_keywords']).sum()}, index=[0])\n",
        "tags_duplicates = pd.DataFrame({\"Duplicate Values\":df_tags.duplicated(['userId', 'movieId', 'tag', 'timestamp']).sum()}, index=[0])\n",
        "genome_tags_duplicates = pd.DataFrame({\"Duplicate Values\":df_genome_tags.duplicated(['tagId', 'tag']).sum()}, index=[0])\n",
        "genome_scores_duplicates = pd.DataFrame({\"Duplicate Values\":df_genome_scores.duplicated(['movieId', 'tagId', 'relevance']).sum()}, index=[0])"
      ]
    },
    {
      "cell_type": "code",
      "execution_count": null,
      "id": "2800d03d",
      "metadata": {
        "id": "2800d03d",
        "outputId": "9afecdab-875a-4e89-ec99-a237117d07cf"
      },
      "outputs": [
        {
          "data": {
            "text/html": [
              "<table style=\"display:inline\"><tr><td style=\"text-align:center\">Train df</td><td style=\"text-align:center\">Test df</td><td style=\"text-align:center\">Movies df</td><td style=\"text-align:center\">link df</td><td style=\"text-align:center\">genome scores df</td><td style=\"text-align:center\">tags df</td><td style=\"text-align:center\">genome tags df</td><td style=\"text-align:center\">imdb df</td></tr><tr><td style=\"vertical-align:top\"> <table style=\"display:inline\" border=\"1\" class=\"dataframe\">\n",
              "  <thead>\n",
              "    <tr style=\"text-align: right;\">\n",
              "      <th></th>\n",
              "      <th>Duplicate Values</th>\n",
              "    </tr>\n",
              "  </thead>\n",
              "  <tbody>\n",
              "    <tr>\n",
              "      <th>0</th>\n",
              "      <td>0</td>\n",
              "    </tr>\n",
              "  </tbody>\n",
              "</table style=\"display:inline\"></td><td style=\"vertical-align:top\"> <table style=\"display:inline\" border=\"1\" class=\"dataframe\">\n",
              "  <thead>\n",
              "    <tr style=\"text-align: right;\">\n",
              "      <th></th>\n",
              "      <th>Duplicate Values</th>\n",
              "    </tr>\n",
              "  </thead>\n",
              "  <tbody>\n",
              "    <tr>\n",
              "      <th>0</th>\n",
              "      <td>0</td>\n",
              "    </tr>\n",
              "  </tbody>\n",
              "</table style=\"display:inline\"></td><td style=\"vertical-align:top\"> <table style=\"display:inline\" border=\"1\" class=\"dataframe\">\n",
              "  <thead>\n",
              "    <tr style=\"text-align: right;\">\n",
              "      <th></th>\n",
              "      <th>Duplicate Values</th>\n",
              "    </tr>\n",
              "  </thead>\n",
              "  <tbody>\n",
              "    <tr>\n",
              "      <th>0</th>\n",
              "      <td>0</td>\n",
              "    </tr>\n",
              "  </tbody>\n",
              "</table style=\"display:inline\"></td><td style=\"vertical-align:top\"> <table style=\"display:inline\" border=\"1\" class=\"dataframe\">\n",
              "  <thead>\n",
              "    <tr style=\"text-align: right;\">\n",
              "      <th></th>\n",
              "      <th>Duplicate Values</th>\n",
              "    </tr>\n",
              "  </thead>\n",
              "  <tbody>\n",
              "    <tr>\n",
              "      <th>0</th>\n",
              "      <td>0</td>\n",
              "    </tr>\n",
              "  </tbody>\n",
              "</table style=\"display:inline\"></td><td style=\"vertical-align:top\"> <table style=\"display:inline\" border=\"1\" class=\"dataframe\">\n",
              "  <thead>\n",
              "    <tr style=\"text-align: right;\">\n",
              "      <th></th>\n",
              "      <th>Duplicate Values</th>\n",
              "    </tr>\n",
              "  </thead>\n",
              "  <tbody>\n",
              "    <tr>\n",
              "      <th>0</th>\n",
              "      <td>0</td>\n",
              "    </tr>\n",
              "  </tbody>\n",
              "</table style=\"display:inline\"></td><td style=\"vertical-align:top\"> <table style=\"display:inline\" border=\"1\" class=\"dataframe\">\n",
              "  <thead>\n",
              "    <tr style=\"text-align: right;\">\n",
              "      <th></th>\n",
              "      <th>Duplicate Values</th>\n",
              "    </tr>\n",
              "  </thead>\n",
              "  <tbody>\n",
              "    <tr>\n",
              "      <th>0</th>\n",
              "      <td>0</td>\n",
              "    </tr>\n",
              "  </tbody>\n",
              "</table style=\"display:inline\"></td><td style=\"vertical-align:top\"> <table style=\"display:inline\" border=\"1\" class=\"dataframe\">\n",
              "  <thead>\n",
              "    <tr style=\"text-align: right;\">\n",
              "      <th></th>\n",
              "      <th>Duplicate Values</th>\n",
              "    </tr>\n",
              "  </thead>\n",
              "  <tbody>\n",
              "    <tr>\n",
              "      <th>0</th>\n",
              "      <td>0</td>\n",
              "    </tr>\n",
              "  </tbody>\n",
              "</table style=\"display:inline\"></td><td style=\"vertical-align:top\"> <table style=\"display:inline\" border=\"1\" class=\"dataframe\">\n",
              "  <thead>\n",
              "    <tr style=\"text-align: right;\">\n",
              "      <th></th>\n",
              "      <th>Duplicate Values</th>\n",
              "    </tr>\n",
              "  </thead>\n",
              "  <tbody>\n",
              "    <tr>\n",
              "      <th>0</th>\n",
              "      <td>0</td>\n",
              "    </tr>\n",
              "  </tbody>\n",
              "</table style=\"display:inline\"></td></tr></table style=\"display:inline\">"
            ]
          },
          "metadata": {},
          "output_type": "display_data"
        }
      ],
      "source": [
        "data_overview_display([train_duplicates, train_duplicates, movies_duplicates, links_duplicates, imdb_duplicates, tags_duplicates, genome_tags_duplicates, genome_scores_duplicates], column_names=['Train df','Test df','Movies df', 'link df', 'genome scores df', 'tags df', 'genome tags df', 'imdb df'])\n"
      ]
    },
    {
      "cell_type": "markdown",
      "id": "5b68f508",
      "metadata": {
        "id": "5b68f508"
      },
      "source": [
        "### Checking for null values"
      ]
    },
    {
      "cell_type": "code",
      "execution_count": null,
      "id": "2996c984",
      "metadata": {
        "id": "2996c984"
      },
      "outputs": [],
      "source": [
        "#Create the null values dataframes of all the given data\n",
        "train_null = pd.DataFrame({\"Null Values\":df_train.isnull().sum()})\n",
        "test_null = pd.DataFrame({\"Null Values\":df_test.isnull().sum()})\n",
        "movies_null = pd.DataFrame({\"Null Values\":df_movies.isnull().sum()})\n",
        "links_null = pd.DataFrame({\"Null Values\":df_links.isnull().sum()})\n",
        "imdb_null = pd.DataFrame({\"Null Values\":df_imdb.isnull().sum()})\n",
        "tags_null = pd.DataFrame({\"Null Values\":df_tags.isnull().sum()})\n",
        "genome_tags_null = pd.DataFrame({\"Null Values\":df_genome_tags.isnull().sum()})\n",
        "genome_scores_null = pd.DataFrame({\"Null Values\":df_genome_scores.isnull().sum()})"
      ]
    },
    {
      "cell_type": "code",
      "execution_count": null,
      "id": "db743748",
      "metadata": {
        "id": "db743748",
        "outputId": "c21edaed-fb6f-402c-c6ad-0a11b1ed5e20"
      },
      "outputs": [
        {
          "data": {
            "text/html": [
              "<table style=\"display:inline\"><tr><td style=\"text-align:center\">Train df</td><td style=\"text-align:center\">Test df</td><td style=\"text-align:center\">Movies df</td><td style=\"text-align:center\">link df</td><td style=\"text-align:center\">genome scores df</td><td style=\"text-align:center\">tags df</td><td style=\"text-align:center\">genome tags df</td><td style=\"text-align:center\">imdb df</td></tr><tr><td style=\"vertical-align:top\"> <table style=\"display:inline\" border=\"1\" class=\"dataframe\">\n",
              "  <thead>\n",
              "    <tr style=\"text-align: right;\">\n",
              "      <th></th>\n",
              "      <th>Null Values</th>\n",
              "    </tr>\n",
              "  </thead>\n",
              "  <tbody>\n",
              "    <tr>\n",
              "      <th>userId</th>\n",
              "      <td>0</td>\n",
              "    </tr>\n",
              "    <tr>\n",
              "      <th>movieId</th>\n",
              "      <td>0</td>\n",
              "    </tr>\n",
              "    <tr>\n",
              "      <th>rating</th>\n",
              "      <td>0</td>\n",
              "    </tr>\n",
              "    <tr>\n",
              "      <th>timestamp</th>\n",
              "      <td>0</td>\n",
              "    </tr>\n",
              "  </tbody>\n",
              "</table style=\"display:inline\"></td><td style=\"vertical-align:top\"> <table style=\"display:inline\" border=\"1\" class=\"dataframe\">\n",
              "  <thead>\n",
              "    <tr style=\"text-align: right;\">\n",
              "      <th></th>\n",
              "      <th>Null Values</th>\n",
              "    </tr>\n",
              "  </thead>\n",
              "  <tbody>\n",
              "    <tr>\n",
              "      <th>userId</th>\n",
              "      <td>0</td>\n",
              "    </tr>\n",
              "    <tr>\n",
              "      <th>movieId</th>\n",
              "      <td>0</td>\n",
              "    </tr>\n",
              "  </tbody>\n",
              "</table style=\"display:inline\"></td><td style=\"vertical-align:top\"> <table style=\"display:inline\" border=\"1\" class=\"dataframe\">\n",
              "  <thead>\n",
              "    <tr style=\"text-align: right;\">\n",
              "      <th></th>\n",
              "      <th>Null Values</th>\n",
              "    </tr>\n",
              "  </thead>\n",
              "  <tbody>\n",
              "    <tr>\n",
              "      <th>movieId</th>\n",
              "      <td>0</td>\n",
              "    </tr>\n",
              "    <tr>\n",
              "      <th>title</th>\n",
              "      <td>0</td>\n",
              "    </tr>\n",
              "    <tr>\n",
              "      <th>genres</th>\n",
              "      <td>0</td>\n",
              "    </tr>\n",
              "  </tbody>\n",
              "</table style=\"display:inline\"></td><td style=\"vertical-align:top\"> <table style=\"display:inline\" border=\"1\" class=\"dataframe\">\n",
              "  <thead>\n",
              "    <tr style=\"text-align: right;\">\n",
              "      <th></th>\n",
              "      <th>Null Values</th>\n",
              "    </tr>\n",
              "  </thead>\n",
              "  <tbody>\n",
              "    <tr>\n",
              "      <th>movieId</th>\n",
              "      <td>0</td>\n",
              "    </tr>\n",
              "    <tr>\n",
              "      <th>imdbId</th>\n",
              "      <td>0</td>\n",
              "    </tr>\n",
              "    <tr>\n",
              "      <th>tmdbId</th>\n",
              "      <td>107</td>\n",
              "    </tr>\n",
              "  </tbody>\n",
              "</table style=\"display:inline\"></td><td style=\"vertical-align:top\"> <table style=\"display:inline\" border=\"1\" class=\"dataframe\">\n",
              "  <thead>\n",
              "    <tr style=\"text-align: right;\">\n",
              "      <th></th>\n",
              "      <th>Null Values</th>\n",
              "    </tr>\n",
              "  </thead>\n",
              "  <tbody>\n",
              "    <tr>\n",
              "      <th>movieId</th>\n",
              "      <td>0</td>\n",
              "    </tr>\n",
              "    <tr>\n",
              "      <th>tagId</th>\n",
              "      <td>0</td>\n",
              "    </tr>\n",
              "    <tr>\n",
              "      <th>relevance</th>\n",
              "      <td>0</td>\n",
              "    </tr>\n",
              "  </tbody>\n",
              "</table style=\"display:inline\"></td><td style=\"vertical-align:top\"> <table style=\"display:inline\" border=\"1\" class=\"dataframe\">\n",
              "  <thead>\n",
              "    <tr style=\"text-align: right;\">\n",
              "      <th></th>\n",
              "      <th>Null Values</th>\n",
              "    </tr>\n",
              "  </thead>\n",
              "  <tbody>\n",
              "    <tr>\n",
              "      <th>userId</th>\n",
              "      <td>0</td>\n",
              "    </tr>\n",
              "    <tr>\n",
              "      <th>movieId</th>\n",
              "      <td>0</td>\n",
              "    </tr>\n",
              "    <tr>\n",
              "      <th>tag</th>\n",
              "      <td>16</td>\n",
              "    </tr>\n",
              "    <tr>\n",
              "      <th>timestamp</th>\n",
              "      <td>0</td>\n",
              "    </tr>\n",
              "  </tbody>\n",
              "</table style=\"display:inline\"></td><td style=\"vertical-align:top\"> <table style=\"display:inline\" border=\"1\" class=\"dataframe\">\n",
              "  <thead>\n",
              "    <tr style=\"text-align: right;\">\n",
              "      <th></th>\n",
              "      <th>Null Values</th>\n",
              "    </tr>\n",
              "  </thead>\n",
              "  <tbody>\n",
              "    <tr>\n",
              "      <th>tagId</th>\n",
              "      <td>0</td>\n",
              "    </tr>\n",
              "    <tr>\n",
              "      <th>tag</th>\n",
              "      <td>0</td>\n",
              "    </tr>\n",
              "  </tbody>\n",
              "</table style=\"display:inline\"></td><td style=\"vertical-align:top\"> <table style=\"display:inline\" border=\"1\" class=\"dataframe\">\n",
              "  <thead>\n",
              "    <tr style=\"text-align: right;\">\n",
              "      <th></th>\n",
              "      <th>Null Values</th>\n",
              "    </tr>\n",
              "  </thead>\n",
              "  <tbody>\n",
              "    <tr>\n",
              "      <th>movieId</th>\n",
              "      <td>0</td>\n",
              "    </tr>\n",
              "    <tr>\n",
              "      <th>title_cast</th>\n",
              "      <td>10068</td>\n",
              "    </tr>\n",
              "    <tr>\n",
              "      <th>director</th>\n",
              "      <td>9874</td>\n",
              "    </tr>\n",
              "    <tr>\n",
              "      <th>runtime</th>\n",
              "      <td>12089</td>\n",
              "    </tr>\n",
              "    <tr>\n",
              "      <th>budget</th>\n",
              "      <td>19372</td>\n",
              "    </tr>\n",
              "    <tr>\n",
              "      <th>plot_keywords</th>\n",
              "      <td>11078</td>\n",
              "    </tr>\n",
              "  </tbody>\n",
              "</table style=\"display:inline\"></td></tr></table style=\"display:inline\">"
            ]
          },
          "metadata": {},
          "output_type": "display_data"
        }
      ],
      "source": [
        "data_overview_display([train_null,test_null,movies_null,links_null,genome_scores_null,tags_null,genome_tags_null, imdb_null], column_names=['Train df','Test df','Movies df', 'link df', 'genome scores df', 'tags df', 'genome tags df', 'imdb df'])\n"
      ]
    },
    {
      "cell_type": "code",
      "execution_count": null,
      "id": "cd243934",
      "metadata": {
        "id": "cd243934",
        "outputId": "b010b0f8-e0f3-4076-8c67-8105a67304af"
      },
      "outputs": [
        {
          "data": {
            "text/html": [
              "<div>\n",
              "<style scoped>\n",
              "    .dataframe tbody tr th:only-of-type {\n",
              "        vertical-align: middle;\n",
              "    }\n",
              "\n",
              "    .dataframe tbody tr th {\n",
              "        vertical-align: top;\n",
              "    }\n",
              "\n",
              "    .dataframe thead th {\n",
              "        text-align: right;\n",
              "    }\n",
              "</style>\n",
              "<table border=\"1\" class=\"dataframe\">\n",
              "  <thead>\n",
              "    <tr style=\"text-align: right;\">\n",
              "      <th></th>\n",
              "      <th>userId</th>\n",
              "      <th>movieId</th>\n",
              "      <th>rating</th>\n",
              "      <th>timestamp</th>\n",
              "    </tr>\n",
              "  </thead>\n",
              "  <tbody>\n",
              "    <tr>\n",
              "      <th>0</th>\n",
              "      <td>5163</td>\n",
              "      <td>57669</td>\n",
              "      <td>4.0</td>\n",
              "      <td>1518349992</td>\n",
              "    </tr>\n",
              "    <tr>\n",
              "      <th>1</th>\n",
              "      <td>106343</td>\n",
              "      <td>5</td>\n",
              "      <td>4.5</td>\n",
              "      <td>1206238739</td>\n",
              "    </tr>\n",
              "    <tr>\n",
              "      <th>2</th>\n",
              "      <td>146790</td>\n",
              "      <td>5459</td>\n",
              "      <td>5.0</td>\n",
              "      <td>1076215539</td>\n",
              "    </tr>\n",
              "    <tr>\n",
              "      <th>3</th>\n",
              "      <td>106362</td>\n",
              "      <td>32296</td>\n",
              "      <td>2.0</td>\n",
              "      <td>1423042565</td>\n",
              "    </tr>\n",
              "    <tr>\n",
              "      <th>4</th>\n",
              "      <td>9041</td>\n",
              "      <td>366</td>\n",
              "      <td>3.0</td>\n",
              "      <td>833375837</td>\n",
              "    </tr>\n",
              "  </tbody>\n",
              "</table>\n",
              "</div>"
            ],
            "text/plain": [
              "   userId  movieId  rating   timestamp\n",
              "0    5163    57669     4.0  1518349992\n",
              "1  106343        5     4.5  1206238739\n",
              "2  146790     5459     5.0  1076215539\n",
              "3  106362    32296     2.0  1423042565\n",
              "4    9041      366     3.0   833375837"
            ]
          },
          "execution_count": 10,
          "metadata": {},
          "output_type": "execute_result"
        }
      ],
      "source": [
        "#Make a copy of the train data\n",
        "train = df_train.copy()\n",
        "train.head()"
      ]
    },
    {
      "cell_type": "markdown",
      "id": "e0dc3c22",
      "metadata": {
        "id": "e0dc3c22"
      },
      "source": [
        "<a id=\"three\"></a>\n",
        "## Exploratory Data Analysis (EDA)"
      ]
    },
    {
      "cell_type": "markdown",
      "id": "20bc619a",
      "metadata": {
        "id": "20bc619a"
      },
      "source": [
        "### Merging and normalising datasets"
      ]
    },
    {
      "cell_type": "code",
      "execution_count": 15,
      "id": "9a389c98",
      "metadata": {
        "id": "9a389c98",
        "outputId": "4fdbcbf6-74d4-4ba4-cba1-d8954ae66564",
        "colab": {
          "base_uri": "https://localhost:8080/",
          "height": 206
        }
      },
      "outputs": [
        {
          "output_type": "execute_result",
          "data": {
            "text/html": [
              "\n",
              "  <div id=\"df-f7b78c09-f934-486b-bab8-f0149992a613\">\n",
              "    <div class=\"colab-df-container\">\n",
              "      <div>\n",
              "<style scoped>\n",
              "    .dataframe tbody tr th:only-of-type {\n",
              "        vertical-align: middle;\n",
              "    }\n",
              "\n",
              "    .dataframe tbody tr th {\n",
              "        vertical-align: top;\n",
              "    }\n",
              "\n",
              "    .dataframe thead th {\n",
              "        text-align: right;\n",
              "    }\n",
              "</style>\n",
              "<table border=\"1\" class=\"dataframe\">\n",
              "  <thead>\n",
              "    <tr style=\"text-align: right;\">\n",
              "      <th></th>\n",
              "      <th>movieId</th>\n",
              "      <th>title</th>\n",
              "      <th>genres</th>\n",
              "      <th>release_year</th>\n",
              "      <th>rating</th>\n",
              "    </tr>\n",
              "  </thead>\n",
              "  <tbody>\n",
              "    <tr>\n",
              "      <th>0</th>\n",
              "      <td>1.0</td>\n",
              "      <td>Toy Story (1995)</td>\n",
              "      <td>[Adventure, Animation, Children, Comedy, Fantasy]</td>\n",
              "      <td>1995</td>\n",
              "      <td>4.0</td>\n",
              "    </tr>\n",
              "    <tr>\n",
              "      <th>1</th>\n",
              "      <td>2.0</td>\n",
              "      <td>Jumanji (1995)</td>\n",
              "      <td>[Adventure, Children, Fantasy]</td>\n",
              "      <td>1995</td>\n",
              "      <td>4.5</td>\n",
              "    </tr>\n",
              "    <tr>\n",
              "      <th>2</th>\n",
              "      <td>3.0</td>\n",
              "      <td>Grumpier Old Men (1995)</td>\n",
              "      <td>[Comedy, Romance]</td>\n",
              "      <td>1995</td>\n",
              "      <td>5.0</td>\n",
              "    </tr>\n",
              "    <tr>\n",
              "      <th>3</th>\n",
              "      <td>4.0</td>\n",
              "      <td>Waiting to Exhale (1995)</td>\n",
              "      <td>[Comedy, Drama, Romance]</td>\n",
              "      <td>1995</td>\n",
              "      <td>2.0</td>\n",
              "    </tr>\n",
              "    <tr>\n",
              "      <th>4</th>\n",
              "      <td>5.0</td>\n",
              "      <td>Father of the Bride Part II (1995)</td>\n",
              "      <td>[Comedy]</td>\n",
              "      <td>1995</td>\n",
              "      <td>3.0</td>\n",
              "    </tr>\n",
              "  </tbody>\n",
              "</table>\n",
              "</div>\n",
              "      <button class=\"colab-df-convert\" onclick=\"convertToInteractive('df-f7b78c09-f934-486b-bab8-f0149992a613')\"\n",
              "              title=\"Convert this dataframe to an interactive table.\"\n",
              "              style=\"display:none;\">\n",
              "        \n",
              "  <svg xmlns=\"http://www.w3.org/2000/svg\" height=\"24px\"viewBox=\"0 0 24 24\"\n",
              "       width=\"24px\">\n",
              "    <path d=\"M0 0h24v24H0V0z\" fill=\"none\"/>\n",
              "    <path d=\"M18.56 5.44l.94 2.06.94-2.06 2.06-.94-2.06-.94-.94-2.06-.94 2.06-2.06.94zm-11 1L8.5 8.5l.94-2.06 2.06-.94-2.06-.94L8.5 2.5l-.94 2.06-2.06.94zm10 10l.94 2.06.94-2.06 2.06-.94-2.06-.94-.94-2.06-.94 2.06-2.06.94z\"/><path d=\"M17.41 7.96l-1.37-1.37c-.4-.4-.92-.59-1.43-.59-.52 0-1.04.2-1.43.59L10.3 9.45l-7.72 7.72c-.78.78-.78 2.05 0 2.83L4 21.41c.39.39.9.59 1.41.59.51 0 1.02-.2 1.41-.59l7.78-7.78 2.81-2.81c.8-.78.8-2.07 0-2.86zM5.41 20L4 18.59l7.72-7.72 1.47 1.35L5.41 20z\"/>\n",
              "  </svg>\n",
              "      </button>\n",
              "      \n",
              "  <style>\n",
              "    .colab-df-container {\n",
              "      display:flex;\n",
              "      flex-wrap:wrap;\n",
              "      gap: 12px;\n",
              "    }\n",
              "\n",
              "    .colab-df-convert {\n",
              "      background-color: #E8F0FE;\n",
              "      border: none;\n",
              "      border-radius: 50%;\n",
              "      cursor: pointer;\n",
              "      display: none;\n",
              "      fill: #1967D2;\n",
              "      height: 32px;\n",
              "      padding: 0 0 0 0;\n",
              "      width: 32px;\n",
              "    }\n",
              "\n",
              "    .colab-df-convert:hover {\n",
              "      background-color: #E2EBFA;\n",
              "      box-shadow: 0px 1px 2px rgba(60, 64, 67, 0.3), 0px 1px 3px 1px rgba(60, 64, 67, 0.15);\n",
              "      fill: #174EA6;\n",
              "    }\n",
              "\n",
              "    [theme=dark] .colab-df-convert {\n",
              "      background-color: #3B4455;\n",
              "      fill: #D2E3FC;\n",
              "    }\n",
              "\n",
              "    [theme=dark] .colab-df-convert:hover {\n",
              "      background-color: #434B5C;\n",
              "      box-shadow: 0px 1px 3px 1px rgba(0, 0, 0, 0.15);\n",
              "      filter: drop-shadow(0px 1px 2px rgba(0, 0, 0, 0.3));\n",
              "      fill: #FFFFFF;\n",
              "    }\n",
              "  </style>\n",
              "\n",
              "      <script>\n",
              "        const buttonEl =\n",
              "          document.querySelector('#df-f7b78c09-f934-486b-bab8-f0149992a613 button.colab-df-convert');\n",
              "        buttonEl.style.display =\n",
              "          google.colab.kernel.accessAllowed ? 'block' : 'none';\n",
              "\n",
              "        async function convertToInteractive(key) {\n",
              "          const element = document.querySelector('#df-f7b78c09-f934-486b-bab8-f0149992a613');\n",
              "          const dataTable =\n",
              "            await google.colab.kernel.invokeFunction('convertToInteractive',\n",
              "                                                     [key], {});\n",
              "          if (!dataTable) return;\n",
              "\n",
              "          const docLinkHtml = 'Like what you see? Visit the ' +\n",
              "            '<a target=\"_blank\" href=https://colab.research.google.com/notebooks/data_table.ipynb>data table notebook</a>'\n",
              "            + ' to learn more about interactive tables.';\n",
              "          element.innerHTML = '';\n",
              "          dataTable['output_type'] = 'display_data';\n",
              "          await google.colab.output.renderOutput(dataTable, element);\n",
              "          const docLink = document.createElement('div');\n",
              "          docLink.innerHTML = docLinkHtml;\n",
              "          element.appendChild(docLink);\n",
              "        }\n",
              "      </script>\n",
              "    </div>\n",
              "  </div>\n",
              "  "
            ],
            "text/plain": [
              "   movieId                               title  ... release_year rating\n",
              "0      1.0                    Toy Story (1995)  ...         1995    4.0\n",
              "1      2.0                      Jumanji (1995)  ...         1995    4.5\n",
              "2      3.0             Grumpier Old Men (1995)  ...         1995    5.0\n",
              "3      4.0            Waiting to Exhale (1995)  ...         1995    2.0\n",
              "4      5.0  Father of the Bride Part II (1995)  ...         1995    3.0\n",
              "\n",
              "[5 rows x 5 columns]"
            ]
          },
          "metadata": {},
          "execution_count": 15
        }
      ],
      "source": [
        "#extracting released year\n",
        "df_movies['release_year']=df_movies['title'].str[-5:-1] \n",
        "#spliting the genres into a list\n",
        "df_movies['genres']=df_movies['genres'].str.split('|') \n",
        "#concatinate ratings with movies dataframe\n",
        "df_movies=pd.concat([df_movies,df_train['rating']],axis=1).dropna() \n",
        "df_movies.head()"
      ]
    },
    {
      "cell_type": "code",
      "execution_count": 16,
      "id": "a4b27c20",
      "metadata": {
        "id": "a4b27c20",
        "outputId": "8a14d78c-eea6-49f2-ef0e-5f4b6c0d009a",
        "colab": {
          "base_uri": "https://localhost:8080/",
          "height": 206
        }
      },
      "outputs": [
        {
          "output_type": "execute_result",
          "data": {
            "text/html": [
              "\n",
              "  <div id=\"df-bb7a3eb2-30ea-43f1-969f-391f5efc7c12\">\n",
              "    <div class=\"colab-df-container\">\n",
              "      <div>\n",
              "<style scoped>\n",
              "    .dataframe tbody tr th:only-of-type {\n",
              "        vertical-align: middle;\n",
              "    }\n",
              "\n",
              "    .dataframe tbody tr th {\n",
              "        vertical-align: top;\n",
              "    }\n",
              "\n",
              "    .dataframe thead th {\n",
              "        text-align: right;\n",
              "    }\n",
              "</style>\n",
              "<table border=\"1\" class=\"dataframe\">\n",
              "  <thead>\n",
              "    <tr style=\"text-align: right;\">\n",
              "      <th></th>\n",
              "      <th>movieId</th>\n",
              "      <th>title_cast</th>\n",
              "      <th>director</th>\n",
              "      <th>runtime</th>\n",
              "      <th>budget</th>\n",
              "      <th>plot_keywords</th>\n",
              "    </tr>\n",
              "  </thead>\n",
              "  <tbody>\n",
              "    <tr>\n",
              "      <th>0</th>\n",
              "      <td>1</td>\n",
              "      <td>[Tom Hanks, Tim Allen, Don Rickles, Jim Varney...</td>\n",
              "      <td>John Lasseter</td>\n",
              "      <td>81.0</td>\n",
              "      <td>$30,000,000</td>\n",
              "      <td>[toy, rivalry, cowboy, cgi animation]</td>\n",
              "    </tr>\n",
              "    <tr>\n",
              "      <th>1</th>\n",
              "      <td>2</td>\n",
              "      <td>[Robin Williams, Jonathan Hyde, Kirsten Dunst,...</td>\n",
              "      <td>Jonathan Hensleigh</td>\n",
              "      <td>104.0</td>\n",
              "      <td>$65,000,000</td>\n",
              "      <td>[board game, adventurer, fight, game]</td>\n",
              "    </tr>\n",
              "    <tr>\n",
              "      <th>2</th>\n",
              "      <td>3</td>\n",
              "      <td>[Walter Matthau, Jack Lemmon, Sophia Loren, An...</td>\n",
              "      <td>Mark Steven Johnson</td>\n",
              "      <td>101.0</td>\n",
              "      <td>$25,000,000</td>\n",
              "      <td>[boat, lake, neighbor, rivalry]</td>\n",
              "    </tr>\n",
              "    <tr>\n",
              "      <th>3</th>\n",
              "      <td>4</td>\n",
              "      <td>[Whitney Houston, Angela Bassett, Loretta Devi...</td>\n",
              "      <td>Terry McMillan</td>\n",
              "      <td>124.0</td>\n",
              "      <td>$16,000,000</td>\n",
              "      <td>[black american, husband wife relationship, be...</td>\n",
              "    </tr>\n",
              "    <tr>\n",
              "      <th>4</th>\n",
              "      <td>5</td>\n",
              "      <td>[Steve Martin, Diane Keaton, Martin Short, Kim...</td>\n",
              "      <td>Albert Hackett</td>\n",
              "      <td>106.0</td>\n",
              "      <td>$30,000,000</td>\n",
              "      <td>[fatherhood, doberman, dog, mansion]</td>\n",
              "    </tr>\n",
              "  </tbody>\n",
              "</table>\n",
              "</div>\n",
              "      <button class=\"colab-df-convert\" onclick=\"convertToInteractive('df-bb7a3eb2-30ea-43f1-969f-391f5efc7c12')\"\n",
              "              title=\"Convert this dataframe to an interactive table.\"\n",
              "              style=\"display:none;\">\n",
              "        \n",
              "  <svg xmlns=\"http://www.w3.org/2000/svg\" height=\"24px\"viewBox=\"0 0 24 24\"\n",
              "       width=\"24px\">\n",
              "    <path d=\"M0 0h24v24H0V0z\" fill=\"none\"/>\n",
              "    <path d=\"M18.56 5.44l.94 2.06.94-2.06 2.06-.94-2.06-.94-.94-2.06-.94 2.06-2.06.94zm-11 1L8.5 8.5l.94-2.06 2.06-.94-2.06-.94L8.5 2.5l-.94 2.06-2.06.94zm10 10l.94 2.06.94-2.06 2.06-.94-2.06-.94-.94-2.06-.94 2.06-2.06.94z\"/><path d=\"M17.41 7.96l-1.37-1.37c-.4-.4-.92-.59-1.43-.59-.52 0-1.04.2-1.43.59L10.3 9.45l-7.72 7.72c-.78.78-.78 2.05 0 2.83L4 21.41c.39.39.9.59 1.41.59.51 0 1.02-.2 1.41-.59l7.78-7.78 2.81-2.81c.8-.78.8-2.07 0-2.86zM5.41 20L4 18.59l7.72-7.72 1.47 1.35L5.41 20z\"/>\n",
              "  </svg>\n",
              "      </button>\n",
              "      \n",
              "  <style>\n",
              "    .colab-df-container {\n",
              "      display:flex;\n",
              "      flex-wrap:wrap;\n",
              "      gap: 12px;\n",
              "    }\n",
              "\n",
              "    .colab-df-convert {\n",
              "      background-color: #E8F0FE;\n",
              "      border: none;\n",
              "      border-radius: 50%;\n",
              "      cursor: pointer;\n",
              "      display: none;\n",
              "      fill: #1967D2;\n",
              "      height: 32px;\n",
              "      padding: 0 0 0 0;\n",
              "      width: 32px;\n",
              "    }\n",
              "\n",
              "    .colab-df-convert:hover {\n",
              "      background-color: #E2EBFA;\n",
              "      box-shadow: 0px 1px 2px rgba(60, 64, 67, 0.3), 0px 1px 3px 1px rgba(60, 64, 67, 0.15);\n",
              "      fill: #174EA6;\n",
              "    }\n",
              "\n",
              "    [theme=dark] .colab-df-convert {\n",
              "      background-color: #3B4455;\n",
              "      fill: #D2E3FC;\n",
              "    }\n",
              "\n",
              "    [theme=dark] .colab-df-convert:hover {\n",
              "      background-color: #434B5C;\n",
              "      box-shadow: 0px 1px 3px 1px rgba(0, 0, 0, 0.15);\n",
              "      filter: drop-shadow(0px 1px 2px rgba(0, 0, 0, 0.3));\n",
              "      fill: #FFFFFF;\n",
              "    }\n",
              "  </style>\n",
              "\n",
              "      <script>\n",
              "        const buttonEl =\n",
              "          document.querySelector('#df-bb7a3eb2-30ea-43f1-969f-391f5efc7c12 button.colab-df-convert');\n",
              "        buttonEl.style.display =\n",
              "          google.colab.kernel.accessAllowed ? 'block' : 'none';\n",
              "\n",
              "        async function convertToInteractive(key) {\n",
              "          const element = document.querySelector('#df-bb7a3eb2-30ea-43f1-969f-391f5efc7c12');\n",
              "          const dataTable =\n",
              "            await google.colab.kernel.invokeFunction('convertToInteractive',\n",
              "                                                     [key], {});\n",
              "          if (!dataTable) return;\n",
              "\n",
              "          const docLinkHtml = 'Like what you see? Visit the ' +\n",
              "            '<a target=\"_blank\" href=https://colab.research.google.com/notebooks/data_table.ipynb>data table notebook</a>'\n",
              "            + ' to learn more about interactive tables.';\n",
              "          element.innerHTML = '';\n",
              "          dataTable['output_type'] = 'display_data';\n",
              "          await google.colab.output.renderOutput(dataTable, element);\n",
              "          const docLink = document.createElement('div');\n",
              "          docLink.innerHTML = docLinkHtml;\n",
              "          element.appendChild(docLink);\n",
              "        }\n",
              "      </script>\n",
              "    </div>\n",
              "  </div>\n",
              "  "
            ],
            "text/plain": [
              "   movieId  ...                                      plot_keywords\n",
              "0        1  ...              [toy, rivalry, cowboy, cgi animation]\n",
              "1        2  ...              [board game, adventurer, fight, game]\n",
              "2        3  ...                    [boat, lake, neighbor, rivalry]\n",
              "3        4  ...  [black american, husband wife relationship, be...\n",
              "4        5  ...               [fatherhood, doberman, dog, mansion]\n",
              "\n",
              "[5 rows x 6 columns]"
            ]
          },
          "metadata": {},
          "execution_count": 16
        }
      ],
      "source": [
        "#spliting the title cast into a list\n",
        "df_imdb['title_cast']=df_imdb['title_cast'].str.split('|') \n",
        "#spliting the Key words into a list\n",
        "df_imdb['plot_keywords']=df_imdb['plot_keywords'].str.split('|') \n",
        "df_imdb.head()"
      ]
    },
    {
      "cell_type": "markdown",
      "id": "16b54d9b",
      "metadata": {
        "id": "16b54d9b"
      },
      "source": [
        "### Latest Popular Movies by ratings (Top 20) from 2000 to date"
      ]
    },
    {
      "cell_type": "code",
      "execution_count": 17,
      "id": "2a420337",
      "metadata": {
        "id": "2a420337"
      },
      "outputs": [],
      "source": [
        "#Below is the function that extract porpular movies\n",
        "\n",
        "def extract_popular_movies(df1,df2):\n",
        "    \"\"\"\n",
        "    Retruns porpular movies from based on avarage ratings and total ratings count.\n",
        "\n",
        "    Parameters\n",
        "    ----------\n",
        "    df1: DataFrame from train_df.\n",
        "    df2: DataFrame from movies_df.\n",
        "    \n",
        "    Return\n",
        "    ------\n",
        "    Porpular_movies(DataFrame): returns dataframe of porpular movies.\n",
        "    \n",
        "    Example\n",
        "    -------\n",
        "    >>> train = pd.read_csv('train.csv')\n",
        "    >>> movie = pd.read_csv('train.csv')\n",
        "    \n",
        "    >>> extract_popular_movies(train, movie).head(2)\n",
        "    \n",
        "    -----------------------------------------------\n",
        "           title| rating|rating_counts|release_year\n",
        "    -----------------------------------------------\n",
        "    0 |abc(2001)| 3.2341|        2435 |       2001\n",
        "    1 |def(2002)| 5.2343|        534  |       2002    \n",
        "      \n",
        "    \"\"\"\n",
        "    #Calculating the avarage rating and storing the results as a DataFrame\n",
        "    rating = pd.DataFrame(df1.groupby('movieId')['rating'].mean())\n",
        "    #Calculating the total ratings count and storing the results as a DataFrame\n",
        "    rating['ratings_count'] = pd.DataFrame(df1.groupby('movieId')['rating'].count())\n",
        "    rating=rating.sort_values(by=['ratings_count','ratings_count'],ascending=False).reset_index()\n",
        "    \n",
        "    #Joining the Two DataFrames\n",
        "    inner_join = pd.merge(rating,df2,on ='movieId',how ='inner')\n",
        "    popular_movies=inner_join[['title','rating_x','ratings_count','release_year']].rename(columns={\"rating_x\": \"rating\"})\n",
        "    \n",
        "    return popular_movies"
      ]
    },
    {
      "cell_type": "code",
      "execution_count": 18,
      "id": "7130bf7a",
      "metadata": {
        "id": "7130bf7a"
      },
      "outputs": [],
      "source": [
        "#Create the variable \"data\"\n",
        "data=extract_popular_movies(train,df_movies)\n",
        "\n",
        "#Extracting latest movies from 2000 till to date\n",
        "latest_movies=data[data['release_year']>'2000'][['rating','ratings_count','title']]"
      ]
    },
    {
      "cell_type": "code",
      "execution_count": 34,
      "id": "fbf36cfe",
      "metadata": {
        "id": "fbf36cfe",
        "outputId": "49583288-8728-48f9-960d-12cba479edca",
        "colab": {
          "base_uri": "https://localhost:8080/",
          "height": 445
        }
      },
      "outputs": [
        {
          "output_type": "display_data",
          "data": {
            "image/png": "[encoded data removed]",
            "text/plain": [
              "<Figure size 720x432 with 1 Axes>"
            ]
          },
          "metadata": {
            "needs_background": "light"
          }
        },
        {
          "output_type": "display_data",
          "data": {
            "text/plain": [
              "<Figure size 432x288 with 0 Axes>"
            ]
          },
          "metadata": {}
        }
      ],
      "source": [
        "#Plotting the latest movies from 2000 using bar-plots\n",
        "plt.figure(figsize = (10,6))\n",
        "ax=sns.barplot(y='title', x='ratings_count', data=latest_movies.head(20), palette='Purples')\n",
        "ax.set_title('Top 20 porpular movies by ratings from 2000',fontsize=15)\n",
        "plt.xticks(rotation=90)\n",
        "plt.show()\n",
        "plt.savefig('pop_movies.png')"
      ]
    },
    {
      "cell_type": "markdown",
      "id": "ad40c0c1",
      "metadata": {
        "id": "ad40c0c1"
      },
      "source": [
        "- From the above plot, we observe that the based on average rating and the total count of ratings, the movie Lord of the Rings: The Fellowship of the Ring (2001) had the most rating counts of over 21 000 when we considered movies from 2000 till date."
      ]
    },
    {
      "cell_type": "markdown",
      "id": "GApx6NiIDzI4",
      "metadata": {
        "id": "GApx6NiIDzI4"
      },
      "source": [
        "### Popular Cast"
      ]
    },
    {
      "cell_type": "code",
      "execution_count": 35,
      "id": "6cc91d4b",
      "metadata": {
        "id": "6cc91d4b",
        "outputId": "02d7a341-5993-4d2a-d1d3-b7952c2a700d",
        "colab": {
          "base_uri": "https://localhost:8080/",
          "height": 512
        }
      },
      "outputs": [
        {
          "output_type": "display_data",
          "data": {
            "image/png": "[encoded data removed]",
            "text/plain": [
              "<Figure size 720x432 with 1 Axes>"
            ]
          },
          "metadata": {
            "needs_background": "light"
          }
        },
        {
          "output_type": "display_data",
          "data": {
            "text/plain": [
              "<Figure size 432x288 with 0 Axes>"
            ]
          },
          "metadata": {}
        }
      ],
      "source": [
        "#Plotting popular cast using count-plot\n",
        "\n",
        "plt.figure(figsize = (10,6))\n",
        "title_cast=df_imdb['title_cast'].explode()\n",
        "ax=sns.countplot(x= title_cast, order = title_cast.value_counts().index[:20],palette='Purples')\n",
        "ax.set_title('Cast per Apearence in movie ',fontsize=15)\n",
        "plt.xticks(rotation=90)\n",
        "plt.show()\n",
        "plt.savefig('cast.png')"
      ]
    },
    {
      "cell_type": "markdown",
      "id": "b3765374",
      "metadata": {
        "id": "b3765374"
      },
      "source": [
        "- Samuel L Jackson was the popular cast as he appeared in over 80 movies from our database."
      ]
    },
    {
      "cell_type": "markdown",
      "id": "8Cj5Jy_hD_UE",
      "metadata": {
        "id": "8Cj5Jy_hD_UE"
      },
      "source": [
        "### Popular Director"
      ]
    },
    {
      "cell_type": "code",
      "execution_count": 36,
      "id": "906b09fa",
      "metadata": {
        "id": "906b09fa",
        "outputId": "3ca251dd-d1ec-4100-eec5-05a198348b44",
        "colab": {
          "base_uri": "https://localhost:8080/",
          "height": 527
        }
      },
      "outputs": [
        {
          "output_type": "display_data",
          "data": {
            "image/png": "[encoded data removed]",
            "text/plain": [
              "<Figure size 720x432 with 1 Axes>"
            ]
          },
          "metadata": {
            "needs_background": "light"
          }
        },
        {
          "output_type": "display_data",
          "data": {
            "text/plain": [
              "<Figure size 432x288 with 0 Axes>"
            ]
          },
          "metadata": {}
        }
      ],
      "source": [
        "#Plotting popular cast using count-plot\n",
        "plt.figure(figsize = (10,6))\n",
        "director=df_imdb['director'].explode()\n",
        "ax=sns.countplot(x= director, order = director.value_counts().index[:20],palette='Purples')\n",
        "ax.set_title(' Popular Directors ',fontsize=15)\n",
        "plt.xticks(rotation=90)\n",
        "plt.show()\n",
        "plt.savefig('director.png')"
      ]
    },
    {
      "cell_type": "markdown",
      "id": "02c9e21c",
      "metadata": {
        "id": "02c9e21c"
      },
      "source": [
        "- Luc Besson was the popular director as he directed over 25 movies from our database."
      ]
    },
    {
      "cell_type": "markdown",
      "id": "M_oCmAzsEIfI",
      "metadata": {
        "id": "M_oCmAzsEIfI"
      },
      "source": [
        "### Popular Movie Genres"
      ]
    },
    {
      "cell_type": "code",
      "execution_count": 38,
      "id": "97c90f26",
      "metadata": {
        "id": "97c90f26",
        "outputId": "87d10afe-5297-4c81-df0c-e1f24d8747b9",
        "colab": {
          "base_uri": "https://localhost:8080/"
        }
      },
      "outputs": [
        {
          "output_type": "stream",
          "name": "stdout",
          "text": [
            "Collecting squarify\n",
            "  Downloading squarify-0.4.3-py3-none-any.whl (4.3 kB)\n",
            "Installing collected packages: squarify\n",
            "Successfully installed squarify-0.4.3\n",
            "Requirement already satisfied: squarify in /usr/local/lib/python3.7/dist-packages (0.4.3)\n"
          ]
        }
      ],
      "source": [
        "pip install squarify"
      ]
    },
    {
      "cell_type": "code",
      "execution_count": 49,
      "id": "fd7102b8",
      "metadata": {
        "id": "fd7102b8",
        "outputId": "08631395-97d3-40a1-9d15-da0ed179ab6c",
        "colab": {
          "base_uri": "https://localhost:8080/",
          "height": 682
        }
      },
      "outputs": [
        {
          "output_type": "display_data",
          "data": {
            "image/png": "[encoded data removed]",
            "text/plain": [
              "<Figure size 1200x800 with 1 Axes>"
            ]
          },
          "metadata": {
            "needs_background": "light"
          }
        },
        {
          "output_type": "display_data",
          "data": {
            "text/plain": [
              "<Figure size 432x288 with 0 Axes>"
            ]
          },
          "metadata": {}
        }
      ],
      "source": [
        "import squarify\n",
        "#Create variable \"temp_df\"\n",
        "temp_df = df_movies['genres'].explode().value_counts().reset_index()\n",
        "\n",
        "#Plotting popular genres using Treemap\n",
        "sizes=np.array(temp_df['genres'])\n",
        "labels=temp_df['index']\n",
        "colors = [plt.cm.Purples_r(i/float(len(labels))) for i in range(len(labels))]\n",
        "plt.figure(figsize=(12,8), dpi= 100)\n",
        "squarify.plot(sizes=sizes, label=labels, color = colors, alpha=.6, edgecolor=\"black\", linewidth=3, text_kwargs={'fontsize':10})\n",
        "plt.title('Treemap of Movie Genres', fontsize = 15)\n",
        "plt.axis('off')\n",
        "plt.show()\n",
        "plt.savefig('movie_genres.png')"
      ]
    },
    {
      "cell_type": "markdown",
      "id": "846abb91",
      "metadata": {
        "id": "846abb91"
      },
      "source": [
        "- The top 5 genres are, in that respect order: Drama, Comedy, Action, Thriller, and Romance."
      ]
    },
    {
      "cell_type": "markdown",
      "id": "skwJXoNfESIU",
      "metadata": {
        "id": "skwJXoNfESIU"
      },
      "source": [
        "### Average Budget per Genre"
      ]
    },
    {
      "cell_type": "code",
      "execution_count": null,
      "id": "6f3476de",
      "metadata": {
        "id": "6f3476de"
      },
      "outputs": [],
      "source": [
        "#Merging the imdb_df and movies_df\n",
        "movies_imdb_df = pd.merge(df_imdb,df_movies,on ='movieId',how ='inner')"
      ]
    },
    {
      "cell_type": "code",
      "execution_count": null,
      "id": "b2fc0bef",
      "metadata": {
        "id": "b2fc0bef"
      },
      "outputs": [],
      "source": [
        "#Create variable \"budget_genre\"\n",
        "budget_genre=movies_imdb_df[['genres','budget']].explode('genres')\n",
        "budget_genre['budget']=budget_genre['budget'].str.replace(',', \"\").str.extract('(\\d+)', expand=False).astype('float')"
      ]
    },
    {
      "cell_type": "code",
      "execution_count": null,
      "id": "ce6aae87",
      "metadata": {
        "id": "ce6aae87",
        "outputId": "b7a0b368-dbff-49e5-b727-a38651f75c6d"
      },
      "outputs": [
        {
          "data": {
            "image/png": "[encoded data removed]",
            "text/plain": [
              "<Figure size 720x432 with 1 Axes>"
            ]
          },
          "metadata": {
            "needs_background": "light"
          },
          "output_type": "display_data"
        }
      ],
      "source": [
        "#Plotting an average budget per genre using line-plot\n",
        "plt.figure(figsize=(10,6))\n",
        "ax=sns.lineplot(x=\"genres\", y=\"budget\", palette = [\"red\"],  data=budget_genre)\n",
        "ax.set_title('Average budget per genre',fontsize=15)\n",
        "plt.xticks(rotation=90)\n",
        "plt.show()"
      ]
    },
    {
      "cell_type": "markdown",
      "id": "8a9faf7e",
      "metadata": {
        "id": "8a9faf7e"
      },
      "source": [
        "- Movies with the genre 'War' had the biggest budget according to our database"
      ]
    },
    {
      "cell_type": "markdown",
      "id": "FkUPcLzXEcxy",
      "metadata": {
        "id": "FkUPcLzXEcxy"
      },
      "source": [
        "<a id=\"four\"></a>\n",
        "# Data Preprocessing"
      ]
    },
    {
      "cell_type": "code",
      "execution_count": null,
      "id": "78e41e26",
      "metadata": {
        "id": "78e41e26"
      },
      "outputs": [],
      "source": [
        "df_movies1 = df_movies.copy()\n",
        "\n",
        "df_imdb1 = df_imdb.copy()"
      ]
    },
    {
      "cell_type": "code",
      "execution_count": null,
      "id": "a2bcee61",
      "metadata": {
        "id": "a2bcee61",
        "outputId": "f53d0ac4-e33d-4536-d61a-8a57494e4cc9",
        "colab": {
          "base_uri": "https://localhost:8080/",
          "height": 337
        }
      },
      "outputs": [
        {
          "output_type": "display_data",
          "data": {
            "text/html": [
              "\n",
              "  <div id=\"df-8d097364-6e28-433c-836e-8d75882bb98e\">\n",
              "    <div class=\"colab-df-container\">\n",
              "      <div>\n",
              "<style scoped>\n",
              "    .dataframe tbody tr th:only-of-type {\n",
              "        vertical-align: middle;\n",
              "    }\n",
              "\n",
              "    .dataframe tbody tr th {\n",
              "        vertical-align: top;\n",
              "    }\n",
              "\n",
              "    .dataframe thead th {\n",
              "        text-align: right;\n",
              "    }\n",
              "</style>\n",
              "<table border=\"1\" class=\"dataframe\">\n",
              "  <thead>\n",
              "    <tr style=\"text-align: right;\">\n",
              "      <th></th>\n",
              "      <th>movieId</th>\n",
              "      <th>title</th>\n",
              "      <th>genres</th>\n",
              "      <th>title_cast</th>\n",
              "      <th>director</th>\n",
              "      <th>runtime</th>\n",
              "      <th>budget</th>\n",
              "      <th>plot_keywords</th>\n",
              "    </tr>\n",
              "  </thead>\n",
              "  <tbody>\n",
              "    <tr>\n",
              "      <th>0</th>\n",
              "      <td>1</td>\n",
              "      <td>Toy Story (1995)</td>\n",
              "      <td>Adventure|Animation|Children|Comedy|Fantasy</td>\n",
              "      <td>Tom Hanks|Tim Allen|Don Rickles|Jim Varney|Wal...</td>\n",
              "      <td>John Lasseter</td>\n",
              "      <td>81.0</td>\n",
              "      <td>$30,000,000</td>\n",
              "      <td>toy|rivalry|cowboy|cgi animation</td>\n",
              "    </tr>\n",
              "    <tr>\n",
              "      <th>1</th>\n",
              "      <td>2</td>\n",
              "      <td>Jumanji (1995)</td>\n",
              "      <td>Adventure|Children|Fantasy</td>\n",
              "      <td>Robin Williams|Jonathan Hyde|Kirsten Dunst|Bra...</td>\n",
              "      <td>Jonathan Hensleigh</td>\n",
              "      <td>104.0</td>\n",
              "      <td>$65,000,000</td>\n",
              "      <td>board game|adventurer|fight|game</td>\n",
              "    </tr>\n",
              "    <tr>\n",
              "      <th>2</th>\n",
              "      <td>3</td>\n",
              "      <td>Grumpier Old Men (1995)</td>\n",
              "      <td>Comedy|Romance</td>\n",
              "      <td>Walter Matthau|Jack Lemmon|Sophia Loren|Ann-Ma...</td>\n",
              "      <td>Mark Steven Johnson</td>\n",
              "      <td>101.0</td>\n",
              "      <td>$25,000,000</td>\n",
              "      <td>boat|lake|neighbor|rivalry</td>\n",
              "    </tr>\n",
              "    <tr>\n",
              "      <th>3</th>\n",
              "      <td>4</td>\n",
              "      <td>Waiting to Exhale (1995)</td>\n",
              "      <td>Comedy|Drama|Romance</td>\n",
              "      <td>Whitney Houston|Angela Bassett|Loretta Devine|...</td>\n",
              "      <td>Terry McMillan</td>\n",
              "      <td>124.0</td>\n",
              "      <td>$16,000,000</td>\n",
              "      <td>black american|husband wife relationship|betra...</td>\n",
              "    </tr>\n",
              "    <tr>\n",
              "      <th>4</th>\n",
              "      <td>5</td>\n",
              "      <td>Father of the Bride Part II (1995)</td>\n",
              "      <td>Comedy</td>\n",
              "      <td>Steve Martin|Diane Keaton|Martin Short|Kimberl...</td>\n",
              "      <td>Albert Hackett</td>\n",
              "      <td>106.0</td>\n",
              "      <td>$30,000,000</td>\n",
              "      <td>fatherhood|doberman|dog|mansion</td>\n",
              "    </tr>\n",
              "  </tbody>\n",
              "</table>\n",
              "</div>\n",
              "      <button class=\"colab-df-convert\" onclick=\"convertToInteractive('df-8d097364-6e28-433c-836e-8d75882bb98e')\"\n",
              "              title=\"Convert this dataframe to an interactive table.\"\n",
              "              style=\"display:none;\">\n",
              "        \n",
              "  <svg xmlns=\"http://www.w3.org/2000/svg\" height=\"24px\"viewBox=\"0 0 24 24\"\n",
              "       width=\"24px\">\n",
              "    <path d=\"M0 0h24v24H0V0z\" fill=\"none\"/>\n",
              "    <path d=\"M18.56 5.44l.94 2.06.94-2.06 2.06-.94-2.06-.94-.94-2.06-.94 2.06-2.06.94zm-11 1L8.5 8.5l.94-2.06 2.06-.94-2.06-.94L8.5 2.5l-.94 2.06-2.06.94zm10 10l.94 2.06.94-2.06 2.06-.94-2.06-.94-.94-2.06-.94 2.06-2.06.94z\"/><path d=\"M17.41 7.96l-1.37-1.37c-.4-.4-.92-.59-1.43-.59-.52 0-1.04.2-1.43.59L10.3 9.45l-7.72 7.72c-.78.78-.78 2.05 0 2.83L4 21.41c.39.39.9.59 1.41.59.51 0 1.02-.2 1.41-.59l7.78-7.78 2.81-2.81c.8-.78.8-2.07 0-2.86zM5.41 20L4 18.59l7.72-7.72 1.47 1.35L5.41 20z\"/>\n",
              "  </svg>\n",
              "      </button>\n",
              "      \n",
              "  <style>\n",
              "    .colab-df-container {\n",
              "      display:flex;\n",
              "      flex-wrap:wrap;\n",
              "      gap: 12px;\n",
              "    }\n",
              "\n",
              "    .colab-df-convert {\n",
              "      background-color: #E8F0FE;\n",
              "      border: none;\n",
              "      border-radius: 50%;\n",
              "      cursor: pointer;\n",
              "      display: none;\n",
              "      fill: #1967D2;\n",
              "      height: 32px;\n",
              "      padding: 0 0 0 0;\n",
              "      width: 32px;\n",
              "    }\n",
              "\n",
              "    .colab-df-convert:hover {\n",
              "      background-color: #E2EBFA;\n",
              "      box-shadow: 0px 1px 2px rgba(60, 64, 67, 0.3), 0px 1px 3px 1px rgba(60, 64, 67, 0.15);\n",
              "      fill: #174EA6;\n",
              "    }\n",
              "\n",
              "    [theme=dark] .colab-df-convert {\n",
              "      background-color: #3B4455;\n",
              "      fill: #D2E3FC;\n",
              "    }\n",
              "\n",
              "    [theme=dark] .colab-df-convert:hover {\n",
              "      background-color: #434B5C;\n",
              "      box-shadow: 0px 1px 3px 1px rgba(0, 0, 0, 0.15);\n",
              "      filter: drop-shadow(0px 1px 2px rgba(0, 0, 0, 0.3));\n",
              "      fill: #FFFFFF;\n",
              "    }\n",
              "  </style>\n",
              "\n",
              "      <script>\n",
              "        const buttonEl =\n",
              "          document.querySelector('#df-8d097364-6e28-433c-836e-8d75882bb98e button.colab-df-convert');\n",
              "        buttonEl.style.display =\n",
              "          google.colab.kernel.accessAllowed ? 'block' : 'none';\n",
              "\n",
              "        async function convertToInteractive(key) {\n",
              "          const element = document.querySelector('#df-8d097364-6e28-433c-836e-8d75882bb98e');\n",
              "          const dataTable =\n",
              "            await google.colab.kernel.invokeFunction('convertToInteractive',\n",
              "                                                     [key], {});\n",
              "          if (!dataTable) return;\n",
              "\n",
              "          const docLinkHtml = 'Like what you see? Visit the ' +\n",
              "            '<a target=\"_blank\" href=https://colab.research.google.com/notebooks/data_table.ipynb>data table notebook</a>'\n",
              "            + ' to learn more about interactive tables.';\n",
              "          element.innerHTML = '';\n",
              "          dataTable['output_type'] = 'display_data';\n",
              "          await google.colab.output.renderOutput(dataTable, element);\n",
              "          const docLink = document.createElement('div');\n",
              "          docLink.innerHTML = docLinkHtml;\n",
              "          element.appendChild(docLink);\n",
              "        }\n",
              "      </script>\n",
              "    </div>\n",
              "  </div>\n",
              "  "
            ],
            "text/plain": [
              "   movieId  ...                                      plot_keywords\n",
              "0        1  ...                   toy|rivalry|cowboy|cgi animation\n",
              "1        2  ...                   board game|adventurer|fight|game\n",
              "2        3  ...                         boat|lake|neighbor|rivalry\n",
              "3        4  ...  black american|husband wife relationship|betra...\n",
              "4        5  ...                    fatherhood|doberman|dog|mansion\n",
              "\n",
              "[5 rows x 8 columns]"
            ]
          },
          "metadata": {}
        }
      ],
      "source": [
        "# Merge the df_merge and df_imdb\n",
        "df_merge = df_movies1.merge(df_imdb1, on='movieId')\n",
        "\n",
        "#Checking df_merge dataset head\n",
        "display(df_merge.head())"
      ]
    },
    {
      "cell_type": "code",
      "execution_count": null,
      "id": "dc83a02a",
      "metadata": {
        "id": "dc83a02a",
        "outputId": "5b872e75-f365-4333-f675-8860b243387f",
        "colab": {
          "base_uri": "https://localhost:8080/",
          "height": 206
        }
      },
      "outputs": [
        {
          "output_type": "execute_result",
          "data": {
            "text/html": [
              "\n",
              "  <div id=\"df-6444c77e-c8b4-48e9-93b2-b78a40caaea9\">\n",
              "    <div class=\"colab-df-container\">\n",
              "      <div>\n",
              "<style scoped>\n",
              "    .dataframe tbody tr th:only-of-type {\n",
              "        vertical-align: middle;\n",
              "    }\n",
              "\n",
              "    .dataframe tbody tr th {\n",
              "        vertical-align: top;\n",
              "    }\n",
              "\n",
              "    .dataframe thead th {\n",
              "        text-align: right;\n",
              "    }\n",
              "</style>\n",
              "<table border=\"1\" class=\"dataframe\">\n",
              "  <thead>\n",
              "    <tr style=\"text-align: right;\">\n",
              "      <th></th>\n",
              "      <th>title</th>\n",
              "      <th>genres</th>\n",
              "      <th>title_cast</th>\n",
              "      <th>director</th>\n",
              "      <th>plot_keywords</th>\n",
              "    </tr>\n",
              "  </thead>\n",
              "  <tbody>\n",
              "    <tr>\n",
              "      <th>0</th>\n",
              "      <td>Toy Story (1995)</td>\n",
              "      <td>Adventure|Animation|Children|Comedy|Fantasy</td>\n",
              "      <td>Tom Hanks|Tim Allen|Don Rickles|Jim Varney|Wal...</td>\n",
              "      <td>John Lasseter</td>\n",
              "      <td>toy|rivalry|cowboy|cgi animation</td>\n",
              "    </tr>\n",
              "    <tr>\n",
              "      <th>1</th>\n",
              "      <td>Jumanji (1995)</td>\n",
              "      <td>Adventure|Children|Fantasy</td>\n",
              "      <td>Robin Williams|Jonathan Hyde|Kirsten Dunst|Bra...</td>\n",
              "      <td>Jonathan Hensleigh</td>\n",
              "      <td>board game|adventurer|fight|game</td>\n",
              "    </tr>\n",
              "    <tr>\n",
              "      <th>2</th>\n",
              "      <td>Grumpier Old Men (1995)</td>\n",
              "      <td>Comedy|Romance</td>\n",
              "      <td>Walter Matthau|Jack Lemmon|Sophia Loren|Ann-Ma...</td>\n",
              "      <td>Mark Steven Johnson</td>\n",
              "      <td>boat|lake|neighbor|rivalry</td>\n",
              "    </tr>\n",
              "    <tr>\n",
              "      <th>3</th>\n",
              "      <td>Waiting to Exhale (1995)</td>\n",
              "      <td>Comedy|Drama|Romance</td>\n",
              "      <td>Whitney Houston|Angela Bassett|Loretta Devine|...</td>\n",
              "      <td>Terry McMillan</td>\n",
              "      <td>black american|husband wife relationship|betra...</td>\n",
              "    </tr>\n",
              "    <tr>\n",
              "      <th>4</th>\n",
              "      <td>Father of the Bride Part II (1995)</td>\n",
              "      <td>Comedy</td>\n",
              "      <td>Steve Martin|Diane Keaton|Martin Short|Kimberl...</td>\n",
              "      <td>Albert Hackett</td>\n",
              "      <td>fatherhood|doberman|dog|mansion</td>\n",
              "    </tr>\n",
              "  </tbody>\n",
              "</table>\n",
              "</div>\n",
              "      <button class=\"colab-df-convert\" onclick=\"convertToInteractive('df-6444c77e-c8b4-48e9-93b2-b78a40caaea9')\"\n",
              "              title=\"Convert this dataframe to an interactive table.\"\n",
              "              style=\"display:none;\">\n",
              "        \n",
              "  <svg xmlns=\"http://www.w3.org/2000/svg\" height=\"24px\"viewBox=\"0 0 24 24\"\n",
              "       width=\"24px\">\n",
              "    <path d=\"M0 0h24v24H0V0z\" fill=\"none\"/>\n",
              "    <path d=\"M18.56 5.44l.94 2.06.94-2.06 2.06-.94-2.06-.94-.94-2.06-.94 2.06-2.06.94zm-11 1L8.5 8.5l.94-2.06 2.06-.94-2.06-.94L8.5 2.5l-.94 2.06-2.06.94zm10 10l.94 2.06.94-2.06 2.06-.94-2.06-.94-.94-2.06-.94 2.06-2.06.94z\"/><path d=\"M17.41 7.96l-1.37-1.37c-.4-.4-.92-.59-1.43-.59-.52 0-1.04.2-1.43.59L10.3 9.45l-7.72 7.72c-.78.78-.78 2.05 0 2.83L4 21.41c.39.39.9.59 1.41.59.51 0 1.02-.2 1.41-.59l7.78-7.78 2.81-2.81c.8-.78.8-2.07 0-2.86zM5.41 20L4 18.59l7.72-7.72 1.47 1.35L5.41 20z\"/>\n",
              "  </svg>\n",
              "      </button>\n",
              "      \n",
              "  <style>\n",
              "    .colab-df-container {\n",
              "      display:flex;\n",
              "      flex-wrap:wrap;\n",
              "      gap: 12px;\n",
              "    }\n",
              "\n",
              "    .colab-df-convert {\n",
              "      background-color: #E8F0FE;\n",
              "      border: none;\n",
              "      border-radius: 50%;\n",
              "      cursor: pointer;\n",
              "      display: none;\n",
              "      fill: #1967D2;\n",
              "      height: 32px;\n",
              "      padding: 0 0 0 0;\n",
              "      width: 32px;\n",
              "    }\n",
              "\n",
              "    .colab-df-convert:hover {\n",
              "      background-color: #E2EBFA;\n",
              "      box-shadow: 0px 1px 2px rgba(60, 64, 67, 0.3), 0px 1px 3px 1px rgba(60, 64, 67, 0.15);\n",
              "      fill: #174EA6;\n",
              "    }\n",
              "\n",
              "    [theme=dark] .colab-df-convert {\n",
              "      background-color: #3B4455;\n",
              "      fill: #D2E3FC;\n",
              "    }\n",
              "\n",
              "    [theme=dark] .colab-df-convert:hover {\n",
              "      background-color: #434B5C;\n",
              "      box-shadow: 0px 1px 3px 1px rgba(0, 0, 0, 0.15);\n",
              "      filter: drop-shadow(0px 1px 2px rgba(0, 0, 0, 0.3));\n",
              "      fill: #FFFFFF;\n",
              "    }\n",
              "  </style>\n",
              "\n",
              "      <script>\n",
              "        const buttonEl =\n",
              "          document.querySelector('#df-6444c77e-c8b4-48e9-93b2-b78a40caaea9 button.colab-df-convert');\n",
              "        buttonEl.style.display =\n",
              "          google.colab.kernel.accessAllowed ? 'block' : 'none';\n",
              "\n",
              "        async function convertToInteractive(key) {\n",
              "          const element = document.querySelector('#df-6444c77e-c8b4-48e9-93b2-b78a40caaea9');\n",
              "          const dataTable =\n",
              "            await google.colab.kernel.invokeFunction('convertToInteractive',\n",
              "                                                     [key], {});\n",
              "          if (!dataTable) return;\n",
              "\n",
              "          const docLinkHtml = 'Like what you see? Visit the ' +\n",
              "            '<a target=\"_blank\" href=https://colab.research.google.com/notebooks/data_table.ipynb>data table notebook</a>'\n",
              "            + ' to learn more about interactive tables.';\n",
              "          element.innerHTML = '';\n",
              "          dataTable['output_type'] = 'display_data';\n",
              "          await google.colab.output.renderOutput(dataTable, element);\n",
              "          const docLink = document.createElement('div');\n",
              "          docLink.innerHTML = docLinkHtml;\n",
              "          element.appendChild(docLink);\n",
              "        }\n",
              "      </script>\n",
              "    </div>\n",
              "  </div>\n",
              "  "
            ],
            "text/plain": [
              "                                title  ...                                      plot_keywords\n",
              "0                    Toy Story (1995)  ...                   toy|rivalry|cowboy|cgi animation\n",
              "1                      Jumanji (1995)  ...                   board game|adventurer|fight|game\n",
              "2             Grumpier Old Men (1995)  ...                         boat|lake|neighbor|rivalry\n",
              "3            Waiting to Exhale (1995)  ...  black american|husband wife relationship|betra...\n",
              "4  Father of the Bride Part II (1995)  ...                    fatherhood|doberman|dog|mansion\n",
              "\n",
              "[5 rows x 5 columns]"
            ]
          },
          "metadata": {},
          "execution_count": 12
        }
      ],
      "source": [
        "df_merge = df_merge[['title','genres', 'title_cast', 'director', 'plot_keywords']]\n",
        "df_merge.head()"
      ]
    },
    {
      "cell_type": "code",
      "execution_count": null,
      "id": "b3042d4b",
      "metadata": {
        "id": "b3042d4b"
      },
      "outputs": [],
      "source": [
        "# convert data types to strings for string handling\n",
        "df_merge['genres'] = df_merge.genres.astype(str)\n",
        "df_merge['title_cast'] = df_merge.title_cast.astype(str)\n",
        "df_merge['director'] = df_merge.director.astype(str)\n",
        "df_merge['plot_keywords'] = df_merge.plot_keywords.astype(str)\n",
        "\n",
        "# discarding the line between genres and putting the genres in a list of words\n",
        "df_merge['genres'] = df_merge['genres'].map(lambda x: x.lower().split('|'))\n",
        "\n",
        "# discarding the liness between the actors full names and getting only the first three names\n",
        "df_merge['title_cast'] = df_merge['title_cast'].map(lambda x: x.split('|')[:3])\n",
        "\n",
        "#converting name and surname of directors to lowercase\n",
        "df_merge['director'] = df_merge['director'].apply(lambda x: \"\".join(x.lower() for x in x.split()))\n",
        "\n",
        "# discarding the line between plot_keywords and putting the plot_keywords in a list of words\n",
        "df_merge['plot_keywords'] = df_merge['plot_keywords'].map(lambda x: x.lower().split('|'))\n",
        "\n",
        "\n",
        "# merging together first and last name for each title_cast and director, so it's considered as one word \n",
        "for index, row in df_merge.iterrows():\n",
        "    row['title_cast'] = [x.lower().replace(' ','') for x in row['title_cast']]\n",
        "    row['director'] = ''.join(row['director']).lower()"
      ]
    },
    {
      "cell_type": "code",
      "execution_count": null,
      "id": "774b8fed",
      "metadata": {
        "id": "774b8fed",
        "outputId": "e6545d0a-0b3a-4ead-b93c-d9249d713626",
        "colab": {
          "base_uri": "https://localhost:8080/",
          "height": 237
        }
      },
      "outputs": [
        {
          "output_type": "execute_result",
          "data": {
            "text/html": [
              "\n",
              "  <div id=\"df-3525b80c-7cb4-44e6-a035-001b2def3914\">\n",
              "    <div class=\"colab-df-container\">\n",
              "      <div>\n",
              "<style scoped>\n",
              "    .dataframe tbody tr th:only-of-type {\n",
              "        vertical-align: middle;\n",
              "    }\n",
              "\n",
              "    .dataframe tbody tr th {\n",
              "        vertical-align: top;\n",
              "    }\n",
              "\n",
              "    .dataframe thead th {\n",
              "        text-align: right;\n",
              "    }\n",
              "</style>\n",
              "<table border=\"1\" class=\"dataframe\">\n",
              "  <thead>\n",
              "    <tr style=\"text-align: right;\">\n",
              "      <th></th>\n",
              "      <th>genres</th>\n",
              "      <th>title_cast</th>\n",
              "      <th>director</th>\n",
              "      <th>plot_keywords</th>\n",
              "    </tr>\n",
              "    <tr>\n",
              "      <th>title</th>\n",
              "      <th></th>\n",
              "      <th></th>\n",
              "      <th></th>\n",
              "      <th></th>\n",
              "    </tr>\n",
              "  </thead>\n",
              "  <tbody>\n",
              "    <tr>\n",
              "      <th>Toy Story (1995)</th>\n",
              "      <td>[adventure, animation, children, comedy, fantasy]</td>\n",
              "      <td>[tomhanks, timallen, donrickles]</td>\n",
              "      <td>johnlasseter</td>\n",
              "      <td>[toy, rivalry, cowboy, cgi animation]</td>\n",
              "    </tr>\n",
              "    <tr>\n",
              "      <th>Jumanji (1995)</th>\n",
              "      <td>[adventure, children, fantasy]</td>\n",
              "      <td>[robinwilliams, jonathanhyde, kirstendunst]</td>\n",
              "      <td>jonathanhensleigh</td>\n",
              "      <td>[board game, adventurer, fight, game]</td>\n",
              "    </tr>\n",
              "    <tr>\n",
              "      <th>Grumpier Old Men (1995)</th>\n",
              "      <td>[comedy, romance]</td>\n",
              "      <td>[waltermatthau, jacklemmon, sophialoren]</td>\n",
              "      <td>markstevenjohnson</td>\n",
              "      <td>[boat, lake, neighbor, rivalry]</td>\n",
              "    </tr>\n",
              "    <tr>\n",
              "      <th>Waiting to Exhale (1995)</th>\n",
              "      <td>[comedy, drama, romance]</td>\n",
              "      <td>[whitneyhouston, angelabassett, lorettadevine]</td>\n",
              "      <td>terrymcmillan</td>\n",
              "      <td>[black american, husband wife relationship, be...</td>\n",
              "    </tr>\n",
              "    <tr>\n",
              "      <th>Father of the Bride Part II (1995)</th>\n",
              "      <td>[comedy]</td>\n",
              "      <td>[stevemartin, dianekeaton, martinshort]</td>\n",
              "      <td>alberthackett</td>\n",
              "      <td>[fatherhood, doberman, dog, mansion]</td>\n",
              "    </tr>\n",
              "  </tbody>\n",
              "</table>\n",
              "</div>\n",
              "      <button class=\"colab-df-convert\" onclick=\"convertToInteractive('df-3525b80c-7cb4-44e6-a035-001b2def3914')\"\n",
              "              title=\"Convert this dataframe to an interactive table.\"\n",
              "              style=\"display:none;\">\n",
              "        \n",
              "  <svg xmlns=\"http://www.w3.org/2000/svg\" height=\"24px\"viewBox=\"0 0 24 24\"\n",
              "       width=\"24px\">\n",
              "    <path d=\"M0 0h24v24H0V0z\" fill=\"none\"/>\n",
              "    <path d=\"M18.56 5.44l.94 2.06.94-2.06 2.06-.94-2.06-.94-.94-2.06-.94 2.06-2.06.94zm-11 1L8.5 8.5l.94-2.06 2.06-.94-2.06-.94L8.5 2.5l-.94 2.06-2.06.94zm10 10l.94 2.06.94-2.06 2.06-.94-2.06-.94-.94-2.06-.94 2.06-2.06.94z\"/><path d=\"M17.41 7.96l-1.37-1.37c-.4-.4-.92-.59-1.43-.59-.52 0-1.04.2-1.43.59L10.3 9.45l-7.72 7.72c-.78.78-.78 2.05 0 2.83L4 21.41c.39.39.9.59 1.41.59.51 0 1.02-.2 1.41-.59l7.78-7.78 2.81-2.81c.8-.78.8-2.07 0-2.86zM5.41 20L4 18.59l7.72-7.72 1.47 1.35L5.41 20z\"/>\n",
              "  </svg>\n",
              "      </button>\n",
              "      \n",
              "  <style>\n",
              "    .colab-df-container {\n",
              "      display:flex;\n",
              "      flex-wrap:wrap;\n",
              "      gap: 12px;\n",
              "    }\n",
              "\n",
              "    .colab-df-convert {\n",
              "      background-color: #E8F0FE;\n",
              "      border: none;\n",
              "      border-radius: 50%;\n",
              "      cursor: pointer;\n",
              "      display: none;\n",
              "      fill: #1967D2;\n",
              "      height: 32px;\n",
              "      padding: 0 0 0 0;\n",
              "      width: 32px;\n",
              "    }\n",
              "\n",
              "    .colab-df-convert:hover {\n",
              "      background-color: #E2EBFA;\n",
              "      box-shadow: 0px 1px 2px rgba(60, 64, 67, 0.3), 0px 1px 3px 1px rgba(60, 64, 67, 0.15);\n",
              "      fill: #174EA6;\n",
              "    }\n",
              "\n",
              "    [theme=dark] .colab-df-convert {\n",
              "      background-color: #3B4455;\n",
              "      fill: #D2E3FC;\n",
              "    }\n",
              "\n",
              "    [theme=dark] .colab-df-convert:hover {\n",
              "      background-color: #434B5C;\n",
              "      box-shadow: 0px 1px 3px 1px rgba(0, 0, 0, 0.15);\n",
              "      filter: drop-shadow(0px 1px 2px rgba(0, 0, 0, 0.3));\n",
              "      fill: #FFFFFF;\n",
              "    }\n",
              "  </style>\n",
              "\n",
              "      <script>\n",
              "        const buttonEl =\n",
              "          document.querySelector('#df-3525b80c-7cb4-44e6-a035-001b2def3914 button.colab-df-convert');\n",
              "        buttonEl.style.display =\n",
              "          google.colab.kernel.accessAllowed ? 'block' : 'none';\n",
              "\n",
              "        async function convertToInteractive(key) {\n",
              "          const element = document.querySelector('#df-3525b80c-7cb4-44e6-a035-001b2def3914');\n",
              "          const dataTable =\n",
              "            await google.colab.kernel.invokeFunction('convertToInteractive',\n",
              "                                                     [key], {});\n",
              "          if (!dataTable) return;\n",
              "\n",
              "          const docLinkHtml = 'Like what you see? Visit the ' +\n",
              "            '<a target=\"_blank\" href=https://colab.research.google.com/notebooks/data_table.ipynb>data table notebook</a>'\n",
              "            + ' to learn more about interactive tables.';\n",
              "          element.innerHTML = '';\n",
              "          dataTable['output_type'] = 'display_data';\n",
              "          await google.colab.output.renderOutput(dataTable, element);\n",
              "          const docLink = document.createElement('div');\n",
              "          docLink.innerHTML = docLinkHtml;\n",
              "          element.appendChild(docLink);\n",
              "        }\n",
              "      </script>\n",
              "    </div>\n",
              "  </div>\n",
              "  "
            ],
            "text/plain": [
              "                                                                               genres  ...                                      plot_keywords\n",
              "title                                                                                  ...                                                   \n",
              "Toy Story (1995)                    [adventure, animation, children, comedy, fantasy]  ...              [toy, rivalry, cowboy, cgi animation]\n",
              "Jumanji (1995)                                         [adventure, children, fantasy]  ...              [board game, adventurer, fight, game]\n",
              "Grumpier Old Men (1995)                                             [comedy, romance]  ...                    [boat, lake, neighbor, rivalry]\n",
              "Waiting to Exhale (1995)                                     [comedy, drama, romance]  ...  [black american, husband wife relationship, be...\n",
              "Father of the Bride Part II (1995)                                           [comedy]  ...               [fatherhood, doberman, dog, mansion]\n",
              "\n",
              "[5 rows x 4 columns]"
            ]
          },
          "metadata": {},
          "execution_count": 14
        }
      ],
      "source": [
        "df_merge.set_index('title', inplace = True)\n",
        "df_merge.head()"
      ]
    },
    {
      "cell_type": "markdown",
      "id": "NIMjRzs_Ik6I",
      "metadata": {
        "id": "NIMjRzs_Ik6I"
      },
      "source": [
        "<a id=\"five\"></a>\n",
        "# Build a movie recommender system"
      ]
    },
    {
      "cell_type": "markdown",
      "id": "aeccf80d",
      "metadata": {
        "id": "aeccf80d"
      },
      "source": [
        "In this project we want to predict the “rating” or “preference” of a user towards a domain-specific item or item. In our case, this domain-specific item is a movie, therefore the main focus of our recommendation system is to filter and predict only those movies which a user would prefer given some data about the user him or herself.\n",
        "\n",
        "We are going to look both *Content-based Filtering* and *Collaborative filtering* and then do a comparison and conclusion about their perfomance and our preferences"
      ]
    },
    {
      "cell_type": "markdown",
      "id": "tK1tUbTkI7Ff",
      "metadata": {
        "id": "tK1tUbTkI7Ff"
      },
      "source": [
        "### Content-Based Filtering Recommender System\n",
        "\n",
        "Content based recommender is a recommendation model that returns a list of items based on a specific item. The main idea behind content-based filtering is that if a person buys a product A with characteristics X, Y, Z, he is likely to buy any product B with characteristics X, Y, Z. \n",
        "\n",
        "In the case of a movie recommendation system, it would take into account a user’s preference for a movie using metrics such as ratings and then use item metadata, such as genre, director, description of movie, cast etc to find movies similar movies to the ones that a user has liked.\n",
        "\n",
        "A nice example of this is when Netflix recommends a show that is similar to the one you watched before."
      ]
    },
    {
      "cell_type": "markdown",
      "id": "140588d0",
      "metadata": {
        "id": "140588d0"
      },
      "source": [
        "**Text Vectorization techniques in NLP**\n",
        "\n",
        "Machine learning algorithms operate on numerical values. Text vectorization is an important step in preprocessing and preparing textual data for advanced analyses of text mining and natural language processing (NLP). With text vectorization, raw text can be transformed into a numerical representation.\n",
        "- Extract word tokens from text corpus.\n",
        "- Calculate frequency of all words\n",
        "- Construct document matrix"
      ]
    },
    {
      "cell_type": "markdown",
      "id": "87ba9f15",
      "metadata": {
        "id": "87ba9f15"
      },
      "source": [
        "**Bag of words** is a feature extraction method."
      ]
    },
    {
      "cell_type": "code",
      "execution_count": null,
      "id": "5e40ddf4",
      "metadata": {
        "id": "5e40ddf4"
      },
      "outputs": [],
      "source": [
        "df_merge['bag_of_words'] = ''\n",
        "columns = df_merge.columns\n",
        "for index, row in df_merge.iterrows():\n",
        "    words = ''\n",
        "    for col in columns:\n",
        "        if col != 'director':\n",
        "            words = words + ' '.join(row[col])+ ' '\n",
        "        else:\n",
        "            words = words + row[col]+ ' '\n",
        "    row['bag_of_words'] = words\n",
        "    \n",
        "df_merge.drop(columns = [col for col in df_merge.columns if col!= 'bag_of_words'], inplace = True)"
      ]
    },
    {
      "cell_type": "markdown",
      "id": "25f8631e",
      "metadata": {
        "id": "25f8631e"
      },
      "source": [
        "**CountVectorizer** tokenize a collection of documents in order to build a vocabulary of known words and use it to encode documents. In this section we are going to uses CountVectorizer from sklearn.feature_extraction.text to transform the new feature bag_of_words into a matrix of token counts."
      ]
    },
    {
      "cell_type": "code",
      "execution_count": null,
      "id": "b9c3d0e0",
      "metadata": {
        "id": "b9c3d0e0"
      },
      "outputs": [],
      "source": [
        "# instantiating and generating the count matrix\n",
        "\n",
        "from sklearn.metrics.pairwise import cosine_similarity\n",
        "\n",
        "from sklearn.feature_extraction.text import CountVectorizer\n",
        "\n",
        "count_vect = CountVectorizer()\n",
        "count_vect_matrix = count_vect.fit_transform(df_merge['bag_of_words'])"
      ]
    },
    {
      "cell_type": "code",
      "execution_count": null,
      "id": "26b3fab7",
      "metadata": {
        "id": "26b3fab7"
      },
      "outputs": [],
      "source": [
        "indices = pd.Series(df_merge.index)"
      ]
    },
    {
      "cell_type": "markdown",
      "id": "29099934",
      "metadata": {
        "id": "29099934"
      },
      "source": [
        "**Cosine Similarity** determines how vectors are related to each other by measuring the cosine angle between two vectors. The value ranges from [-1, 1]. A value of -1 means the vectors are diametrically opposed, 0 means they are perpendicular and 1 means they are the same."
      ]
    },
    {
      "cell_type": "code",
      "execution_count": null,
      "id": "c5a61d42",
      "metadata": {
        "id": "c5a61d42"
      },
      "outputs": [],
      "source": [
        "# generating the cosine similarity matrix\n",
        "sim_score = cosine_similarity(count_vect_matrix, count_vect_matrix)"
      ]
    },
    {
      "cell_type": "code",
      "execution_count": null,
      "id": "7fc18c6d",
      "metadata": {
        "id": "7fc18c6d"
      },
      "outputs": [],
      "source": [
        "# function that takes in movie title as input and returns the top 10 recommended movies\n",
        "def recommendations(title, sim_score = sim_score):\n",
        "    \n",
        "    recommended_movies = []\n",
        "    \n",
        "    # getting the index of the movie that matches the title\n",
        "    idx = indices[indices == title].index[0]\n",
        "\n",
        "    # creating a Series with the similarity scores in descending order\n",
        "    score_series = pd.Series(sim_score[idx]).sort_values(ascending = False)\n",
        "\n",
        "    # getting the indexes of the 10 most similar movies\n",
        "    top_10_indexes = list(score_series.iloc[1:11].index)\n",
        "    \n",
        "    # populating the list with the titles of the best 10 matching movies\n",
        "    for i in top_10_indexes:\n",
        "        recommended_movies.append(list(df_merge.index)[i])\n",
        "        \n",
        "    return recommended_movies"
      ]
    },
    {
      "cell_type": "markdown",
      "id": "999b6d1a",
      "metadata": {
        "id": "999b6d1a"
      },
      "source": [
        "**Test the functionality of Content-Based Filtering Recommender System**"
      ]
    },
    {
      "cell_type": "code",
      "execution_count": null,
      "id": "7b771668",
      "metadata": {
        "id": "7b771668",
        "outputId": "69df215e-533a-4ea5-bf2c-bb43cef39073",
        "colab": {
          "base_uri": "https://localhost:8080/"
        }
      },
      "outputs": [
        {
          "output_type": "execute_result",
          "data": {
            "text/plain": [
              "['Toy Story 2 (1999)',\n",
              " 'Toy Story 3 (2010)',\n",
              " 'The Nutcracker Prince (1990)',\n",
              " 'Open Season 2 (2008)',\n",
              " 'Toy Story Toons: Small Fry (2011)',\n",
              " 'Toy Story Toons: Hawaiian Vacation (2011)',\n",
              " 'Fantastic Mr. Fox (2009)',\n",
              " 'The Magic Crystal (2011)',\n",
              " 'Kirikou and the Wild Beast (Kirikou et les bêtes sauvages) (2005)',\n",
              " \"Dug's Special Mission (2009)\"]"
            ]
          },
          "metadata": {},
          "execution_count": 20
        }
      ],
      "source": [
        "recommendations('Toy Story (1995)')"
      ]
    },
    {
      "cell_type": "markdown",
      "id": "bb452768",
      "metadata": {
        "id": "bb452768"
      },
      "source": [
        "- From the results above, we observed that the top 4 movies that have the highest cosine similarity with Toy Story are sequels or off-spins of the original movie Toy Story. We also observe that the rest of the list contains children movies. From this we can conclude that the recommennder system performed well with the movie suggestions."
      ]
    },
    {
      "cell_type": "code",
      "execution_count": null,
      "id": "5f875624",
      "metadata": {
        "id": "5f875624"
      },
      "outputs": [],
      "source": [
        ""
      ]
    },
    {
      "cell_type": "markdown",
      "source": [
        "**Collaborative Filtering Recommender System**\n",
        "\n",
        "The collaborative filtering recommendation technique depends on finding similar users to a target user to make personalized recommendations. The idea behind collaborative filtering is that if a user X buys products A, B, and C. Then another user Y who buys products A and B is also likely to buy product C."
      ],
      "metadata": {
        "id": "W0MGa1hZbrQv"
      },
      "id": "W0MGa1hZbrQv"
    },
    {
      "cell_type": "code",
      "execution_count": null,
      "id": "8a918b7c",
      "metadata": {
        "id": "8a918b7c",
        "outputId": "a36c45c1-bf57-48f4-d631-0b69f750e489"
      },
      "outputs": [
        {
          "data": {
            "text/html": [
              "<div>\n",
              "<style scoped>\n",
              "    .dataframe tbody tr th:only-of-type {\n",
              "        vertical-align: middle;\n",
              "    }\n",
              "\n",
              "    .dataframe tbody tr th {\n",
              "        vertical-align: top;\n",
              "    }\n",
              "\n",
              "    .dataframe thead th {\n",
              "        text-align: right;\n",
              "    }\n",
              "</style>\n",
              "<table border=\"1\" class=\"dataframe\">\n",
              "  <thead>\n",
              "    <tr style=\"text-align: right;\">\n",
              "      <th></th>\n",
              "      <th>userId</th>\n",
              "      <th>movieId</th>\n",
              "      <th>rating</th>\n",
              "      <th>timestamp</th>\n",
              "    </tr>\n",
              "  </thead>\n",
              "  <tbody>\n",
              "    <tr>\n",
              "      <th>0</th>\n",
              "      <td>5163</td>\n",
              "      <td>57669</td>\n",
              "      <td>4.0</td>\n",
              "      <td>1518349992</td>\n",
              "    </tr>\n",
              "    <tr>\n",
              "      <th>1</th>\n",
              "      <td>106343</td>\n",
              "      <td>5</td>\n",
              "      <td>4.5</td>\n",
              "      <td>1206238739</td>\n",
              "    </tr>\n",
              "    <tr>\n",
              "      <th>2</th>\n",
              "      <td>146790</td>\n",
              "      <td>5459</td>\n",
              "      <td>5.0</td>\n",
              "      <td>1076215539</td>\n",
              "    </tr>\n",
              "    <tr>\n",
              "      <th>3</th>\n",
              "      <td>106362</td>\n",
              "      <td>32296</td>\n",
              "      <td>2.0</td>\n",
              "      <td>1423042565</td>\n",
              "    </tr>\n",
              "    <tr>\n",
              "      <th>4</th>\n",
              "      <td>9041</td>\n",
              "      <td>366</td>\n",
              "      <td>3.0</td>\n",
              "      <td>833375837</td>\n",
              "    </tr>\n",
              "  </tbody>\n",
              "</table>\n",
              "</div>"
            ],
            "text/plain": [
              "   userId  movieId  rating   timestamp\n",
              "0    5163    57669     4.0  1518349992\n",
              "1  106343        5     4.5  1206238739\n",
              "2  146790     5459     5.0  1076215539\n",
              "3  106362    32296     2.0  1423042565\n",
              "4    9041      366     3.0   833375837"
            ]
          },
          "execution_count": 34,
          "metadata": {},
          "output_type": "execute_result"
        }
      ],
      "source": [
        "#Make a copy of the train data\n",
        "train = df_train.copy()\n",
        "train.head()"
      ]
    },
    {
      "cell_type": "code",
      "execution_count": null,
      "id": "849c5492",
      "metadata": {
        "id": "849c5492"
      },
      "outputs": [],
      "source": [
        "train = pd.read_csv(\"C:/Users/Thandazani/Movie Recommender System/train.csv\", usecols=['userId', 'movieId', 'rating','timestamp'],dtype={'userId': 'int32', 'movieId': 'int32', 'rating': 'float32'})\n",
        "movies = pd.read_csv(\"C:/Users/Thandazani/Movie Recommender System/movies.csv\", usecols=['movieId','title'], dtype={'movieId':'int32','title':'str'})"
      ]
    },
    {
      "cell_type": "markdown",
      "id": "6dad13eb",
      "metadata": {
        "id": "6dad13eb"
      },
      "source": [
        "**Creating kNN Model** "
      ]
    },
    {
      "cell_type": "markdown",
      "id": "9c5c79c6",
      "metadata": {
        "id": "9c5c79c6"
      },
      "source": [
        "Selecting only 200000 rows from train dataset for ratings"
      ]
    },
    {
      "cell_type": "code",
      "execution_count": null,
      "id": "6a42fd08",
      "metadata": {
        "id": "6a42fd08",
        "outputId": "e0253449-e168-450f-d593-9b49a2ae52bb"
      },
      "outputs": [
        {
          "data": {
            "text/plain": [
              "(200000, 4)"
            ]
          },
          "execution_count": 41,
          "metadata": {},
          "output_type": "execute_result"
        }
      ],
      "source": [
        "ratings = train.head(200000)\n",
        "ratings.shape"
      ]
    },
    {
      "cell_type": "markdown",
      "id": "9ba76929",
      "metadata": {
        "id": "9ba76929"
      },
      "source": [
        "After creating a new DF where we select only 200000 Dataset, now we creating a Pivot Table with users as indices and movies as columns\n",
        "\n",
        "For the purpose of parsing data to our model later, we need to create a Pivot Table. For this, we set 'MovieId' as the index, our columns will be 'userId' and the values in our table will be 'rating'"
      ]
    },
    {
      "cell_type": "code",
      "execution_count": null,
      "id": "0ab87455",
      "metadata": {
        "id": "0ab87455",
        "outputId": "7f253d76-241b-4f60-c2f8-e0fe8cd5b689"
      },
      "outputs": [
        {
          "data": {
            "text/html": [
              "<div>\n",
              "<style scoped>\n",
              "    .dataframe tbody tr th:only-of-type {\n",
              "        vertical-align: middle;\n",
              "    }\n",
              "\n",
              "    .dataframe tbody tr th {\n",
              "        vertical-align: top;\n",
              "    }\n",
              "\n",
              "    .dataframe thead th {\n",
              "        text-align: right;\n",
              "    }\n",
              "</style>\n",
              "<table border=\"1\" class=\"dataframe\">\n",
              "  <thead>\n",
              "    <tr style=\"text-align: right;\">\n",
              "      <th>userId</th>\n",
              "      <th>1</th>\n",
              "      <th>2</th>\n",
              "      <th>3</th>\n",
              "      <th>4</th>\n",
              "      <th>8</th>\n",
              "      <th>9</th>\n",
              "      <th>12</th>\n",
              "      <th>13</th>\n",
              "      <th>15</th>\n",
              "      <th>18</th>\n",
              "      <th>...</th>\n",
              "      <th>162522</th>\n",
              "      <th>162524</th>\n",
              "      <th>162529</th>\n",
              "      <th>162533</th>\n",
              "      <th>162534</th>\n",
              "      <th>162535</th>\n",
              "      <th>162536</th>\n",
              "      <th>162537</th>\n",
              "      <th>162538</th>\n",
              "      <th>162541</th>\n",
              "    </tr>\n",
              "    <tr>\n",
              "      <th>movieId</th>\n",
              "      <th></th>\n",
              "      <th></th>\n",
              "      <th></th>\n",
              "      <th></th>\n",
              "      <th></th>\n",
              "      <th></th>\n",
              "      <th></th>\n",
              "      <th></th>\n",
              "      <th></th>\n",
              "      <th></th>\n",
              "      <th></th>\n",
              "      <th></th>\n",
              "      <th></th>\n",
              "      <th></th>\n",
              "      <th></th>\n",
              "      <th></th>\n",
              "      <th></th>\n",
              "      <th></th>\n",
              "      <th></th>\n",
              "      <th></th>\n",
              "      <th></th>\n",
              "    </tr>\n",
              "  </thead>\n",
              "  <tbody>\n",
              "    <tr>\n",
              "      <th>1</th>\n",
              "      <td>0.0</td>\n",
              "      <td>0.0</td>\n",
              "      <td>0.0</td>\n",
              "      <td>0.0</td>\n",
              "      <td>0.0</td>\n",
              "      <td>0.0</td>\n",
              "      <td>0.0</td>\n",
              "      <td>0.0</td>\n",
              "      <td>0.0</td>\n",
              "      <td>0.0</td>\n",
              "      <td>...</td>\n",
              "      <td>0.0</td>\n",
              "      <td>0.0</td>\n",
              "      <td>0.0</td>\n",
              "      <td>0.0</td>\n",
              "      <td>0.0</td>\n",
              "      <td>0.0</td>\n",
              "      <td>0.0</td>\n",
              "      <td>0.0</td>\n",
              "      <td>0.0</td>\n",
              "      <td>0.0</td>\n",
              "    </tr>\n",
              "    <tr>\n",
              "      <th>2</th>\n",
              "      <td>0.0</td>\n",
              "      <td>0.0</td>\n",
              "      <td>0.0</td>\n",
              "      <td>0.0</td>\n",
              "      <td>0.0</td>\n",
              "      <td>0.0</td>\n",
              "      <td>0.0</td>\n",
              "      <td>0.0</td>\n",
              "      <td>0.0</td>\n",
              "      <td>0.0</td>\n",
              "      <td>...</td>\n",
              "      <td>0.0</td>\n",
              "      <td>0.0</td>\n",
              "      <td>0.0</td>\n",
              "      <td>0.0</td>\n",
              "      <td>0.0</td>\n",
              "      <td>0.0</td>\n",
              "      <td>0.0</td>\n",
              "      <td>0.0</td>\n",
              "      <td>0.0</td>\n",
              "      <td>0.0</td>\n",
              "    </tr>\n",
              "    <tr>\n",
              "      <th>3</th>\n",
              "      <td>0.0</td>\n",
              "      <td>0.0</td>\n",
              "      <td>0.0</td>\n",
              "      <td>0.0</td>\n",
              "      <td>0.0</td>\n",
              "      <td>0.0</td>\n",
              "      <td>0.0</td>\n",
              "      <td>0.0</td>\n",
              "      <td>0.0</td>\n",
              "      <td>0.0</td>\n",
              "      <td>...</td>\n",
              "      <td>0.0</td>\n",
              "      <td>0.0</td>\n",
              "      <td>0.0</td>\n",
              "      <td>0.0</td>\n",
              "      <td>0.0</td>\n",
              "      <td>0.0</td>\n",
              "      <td>0.0</td>\n",
              "      <td>0.0</td>\n",
              "      <td>0.0</td>\n",
              "      <td>0.0</td>\n",
              "    </tr>\n",
              "    <tr>\n",
              "      <th>4</th>\n",
              "      <td>0.0</td>\n",
              "      <td>0.0</td>\n",
              "      <td>0.0</td>\n",
              "      <td>0.0</td>\n",
              "      <td>0.0</td>\n",
              "      <td>0.0</td>\n",
              "      <td>0.0</td>\n",
              "      <td>0.0</td>\n",
              "      <td>0.0</td>\n",
              "      <td>0.0</td>\n",
              "      <td>...</td>\n",
              "      <td>0.0</td>\n",
              "      <td>0.0</td>\n",
              "      <td>0.0</td>\n",
              "      <td>0.0</td>\n",
              "      <td>0.0</td>\n",
              "      <td>0.0</td>\n",
              "      <td>0.0</td>\n",
              "      <td>0.0</td>\n",
              "      <td>0.0</td>\n",
              "      <td>0.0</td>\n",
              "    </tr>\n",
              "    <tr>\n",
              "      <th>5</th>\n",
              "      <td>0.0</td>\n",
              "      <td>0.0</td>\n",
              "      <td>0.0</td>\n",
              "      <td>0.0</td>\n",
              "      <td>0.0</td>\n",
              "      <td>0.0</td>\n",
              "      <td>0.0</td>\n",
              "      <td>0.0</td>\n",
              "      <td>0.0</td>\n",
              "      <td>0.0</td>\n",
              "      <td>...</td>\n",
              "      <td>0.0</td>\n",
              "      <td>0.0</td>\n",
              "      <td>0.0</td>\n",
              "      <td>0.0</td>\n",
              "      <td>0.0</td>\n",
              "      <td>0.0</td>\n",
              "      <td>0.0</td>\n",
              "      <td>0.0</td>\n",
              "      <td>0.0</td>\n",
              "      <td>0.0</td>\n",
              "    </tr>\n",
              "  </tbody>\n",
              "</table>\n",
              "<p>5 rows × 80801 columns</p>\n",
              "</div>"
            ],
            "text/plain": [
              "userId   1       2       3       4       8       9       12      13      \\\n",
              "movieId                                                                   \n",
              "1           0.0     0.0     0.0     0.0     0.0     0.0     0.0     0.0   \n",
              "2           0.0     0.0     0.0     0.0     0.0     0.0     0.0     0.0   \n",
              "3           0.0     0.0     0.0     0.0     0.0     0.0     0.0     0.0   \n",
              "4           0.0     0.0     0.0     0.0     0.0     0.0     0.0     0.0   \n",
              "5           0.0     0.0     0.0     0.0     0.0     0.0     0.0     0.0   \n",
              "\n",
              "userId   15      18      ...  162522  162524  162529  162533  162534  162535  \\\n",
              "movieId                  ...                                                   \n",
              "1           0.0     0.0  ...     0.0     0.0     0.0     0.0     0.0     0.0   \n",
              "2           0.0     0.0  ...     0.0     0.0     0.0     0.0     0.0     0.0   \n",
              "3           0.0     0.0  ...     0.0     0.0     0.0     0.0     0.0     0.0   \n",
              "4           0.0     0.0  ...     0.0     0.0     0.0     0.0     0.0     0.0   \n",
              "5           0.0     0.0  ...     0.0     0.0     0.0     0.0     0.0     0.0   \n",
              "\n",
              "userId   162536  162537  162538  162541  \n",
              "movieId                                  \n",
              "1           0.0     0.0     0.0     0.0  \n",
              "2           0.0     0.0     0.0     0.0  \n",
              "3           0.0     0.0     0.0     0.0  \n",
              "4           0.0     0.0     0.0     0.0  \n",
              "5           0.0     0.0     0.0     0.0  \n",
              "\n",
              "[5 rows x 80801 columns]"
            ]
          },
          "execution_count": 42,
          "metadata": {},
          "output_type": "execute_result"
        }
      ],
      "source": [
        "data = ratings.pivot_table(index = 'movieId',columns = 'userId',values ='rating').fillna(0)\n",
        "data.head()"
      ]
    },
    {
      "cell_type": "code",
      "execution_count": null,
      "id": "e4587a10",
      "metadata": {
        "id": "e4587a10"
      },
      "outputs": [],
      "source": [
        "no_user_voted = ratings.groupby('movieId')['rating'].agg('count')\n",
        "no_movies_voted = ratings.groupby('userId')['rating'].agg('count')"
      ]
    },
    {
      "cell_type": "code",
      "execution_count": null,
      "id": "2b69e7fa",
      "metadata": {
        "id": "2b69e7fa",
        "outputId": "6acc04a7-ba24-448a-f18e-e43a0ff5d120"
      },
      "outputs": [
        {
          "data": {
            "image/png": "[encoded data removed]",
            "text/plain": [
              "<Figure size 1152x288 with 1 Axes>"
            ]
          },
          "metadata": {
            "needs_background": "light"
          },
          "output_type": "display_data"
        }
      ],
      "source": [
        "f,ax = plt.subplots(1,1,figsize=(16,4))\n",
        "# ratings['rating'].plot(kind='hist')\n",
        "plt.scatter(no_user_voted.index,no_user_voted,color='mediumseagreen')\n",
        "plt.axhline(y=10,color='r')\n",
        "plt.xlabel('MovieId')\n",
        "plt.ylabel('No. of users voted')\n",
        "plt.show()"
      ]
    },
    {
      "cell_type": "code",
      "execution_count": null,
      "id": "f1f1e775",
      "metadata": {
        "id": "f1f1e775"
      },
      "outputs": [],
      "source": [
        "final_dataset =data.loc[no_user_voted[no_user_voted > 10].index,:]"
      ]
    },
    {
      "cell_type": "code",
      "execution_count": null,
      "id": "c4701273",
      "metadata": {
        "id": "c4701273",
        "outputId": "80a1b34c-0311-4e0c-935c-a85f693935ce"
      },
      "outputs": [
        {
          "data": {
            "image/png": "[encoded data removed]",
            "text/plain": [
              "<Figure size 1152x288 with 1 Axes>"
            ]
          },
          "metadata": {
            "needs_background": "light"
          },
          "output_type": "display_data"
        }
      ],
      "source": [
        "f,ax = plt.subplots(1,1,figsize=(16,4))\n",
        "plt.scatter(no_movies_voted.index,no_movies_voted,color='mediumseagreen')\n",
        "plt.axhline(y=10,color='r')\n",
        "plt.xlabel('UserId')\n",
        "plt.ylabel('No. of votes by user')\n",
        "plt.show()"
      ]
    },
    {
      "cell_type": "code",
      "execution_count": null,
      "id": "a1908549",
      "metadata": {
        "id": "a1908549",
        "outputId": "10f60f7d-0a3c-4a3d-d1e4-5894d5d27182"
      },
      "outputs": [
        {
          "data": {
            "text/html": [
              "<div>\n",
              "<style scoped>\n",
              "    .dataframe tbody tr th:only-of-type {\n",
              "        vertical-align: middle;\n",
              "    }\n",
              "\n",
              "    .dataframe tbody tr th {\n",
              "        vertical-align: top;\n",
              "    }\n",
              "\n",
              "    .dataframe thead th {\n",
              "        text-align: right;\n",
              "    }\n",
              "</style>\n",
              "<table border=\"1\" class=\"dataframe\">\n",
              "  <thead>\n",
              "    <tr style=\"text-align: right;\">\n",
              "      <th>userId</th>\n",
              "      <th>548</th>\n",
              "      <th>606</th>\n",
              "      <th>626</th>\n",
              "      <th>653</th>\n",
              "      <th>757</th>\n",
              "      <th>803</th>\n",
              "      <th>847</th>\n",
              "      <th>997</th>\n",
              "      <th>1228</th>\n",
              "      <th>1477</th>\n",
              "      <th>...</th>\n",
              "      <th>161091</th>\n",
              "      <th>161342</th>\n",
              "      <th>161383</th>\n",
              "      <th>161544</th>\n",
              "      <th>161586</th>\n",
              "      <th>161826</th>\n",
              "      <th>162047</th>\n",
              "      <th>162271</th>\n",
              "      <th>162445</th>\n",
              "      <th>162516</th>\n",
              "    </tr>\n",
              "    <tr>\n",
              "      <th>movieId</th>\n",
              "      <th></th>\n",
              "      <th></th>\n",
              "      <th></th>\n",
              "      <th></th>\n",
              "      <th></th>\n",
              "      <th></th>\n",
              "      <th></th>\n",
              "      <th></th>\n",
              "      <th></th>\n",
              "      <th></th>\n",
              "      <th></th>\n",
              "      <th></th>\n",
              "      <th></th>\n",
              "      <th></th>\n",
              "      <th></th>\n",
              "      <th></th>\n",
              "      <th></th>\n",
              "      <th></th>\n",
              "      <th></th>\n",
              "      <th></th>\n",
              "      <th></th>\n",
              "    </tr>\n",
              "  </thead>\n",
              "  <tbody>\n",
              "    <tr>\n",
              "      <th>1</th>\n",
              "      <td>0.0</td>\n",
              "      <td>0.0</td>\n",
              "      <td>0.0</td>\n",
              "      <td>0.0</td>\n",
              "      <td>0.0</td>\n",
              "      <td>0.0</td>\n",
              "      <td>0.0</td>\n",
              "      <td>0.0</td>\n",
              "      <td>0.0</td>\n",
              "      <td>0.0</td>\n",
              "      <td>...</td>\n",
              "      <td>0.0</td>\n",
              "      <td>0.0</td>\n",
              "      <td>0.0</td>\n",
              "      <td>0.0</td>\n",
              "      <td>0.0</td>\n",
              "      <td>0.0</td>\n",
              "      <td>0.0</td>\n",
              "      <td>0.0</td>\n",
              "      <td>0.0</td>\n",
              "      <td>0.0</td>\n",
              "    </tr>\n",
              "    <tr>\n",
              "      <th>2</th>\n",
              "      <td>0.0</td>\n",
              "      <td>0.0</td>\n",
              "      <td>0.0</td>\n",
              "      <td>0.0</td>\n",
              "      <td>0.0</td>\n",
              "      <td>0.0</td>\n",
              "      <td>0.0</td>\n",
              "      <td>0.0</td>\n",
              "      <td>0.0</td>\n",
              "      <td>0.0</td>\n",
              "      <td>...</td>\n",
              "      <td>0.0</td>\n",
              "      <td>0.0</td>\n",
              "      <td>0.0</td>\n",
              "      <td>0.0</td>\n",
              "      <td>0.0</td>\n",
              "      <td>0.0</td>\n",
              "      <td>0.0</td>\n",
              "      <td>0.0</td>\n",
              "      <td>0.0</td>\n",
              "      <td>0.0</td>\n",
              "    </tr>\n",
              "    <tr>\n",
              "      <th>3</th>\n",
              "      <td>0.0</td>\n",
              "      <td>0.0</td>\n",
              "      <td>0.0</td>\n",
              "      <td>0.0</td>\n",
              "      <td>0.0</td>\n",
              "      <td>0.0</td>\n",
              "      <td>0.0</td>\n",
              "      <td>0.0</td>\n",
              "      <td>0.0</td>\n",
              "      <td>0.0</td>\n",
              "      <td>...</td>\n",
              "      <td>0.0</td>\n",
              "      <td>0.0</td>\n",
              "      <td>0.0</td>\n",
              "      <td>0.0</td>\n",
              "      <td>0.0</td>\n",
              "      <td>0.0</td>\n",
              "      <td>0.0</td>\n",
              "      <td>0.0</td>\n",
              "      <td>0.0</td>\n",
              "      <td>0.0</td>\n",
              "    </tr>\n",
              "    <tr>\n",
              "      <th>4</th>\n",
              "      <td>0.0</td>\n",
              "      <td>0.0</td>\n",
              "      <td>0.0</td>\n",
              "      <td>0.0</td>\n",
              "      <td>0.0</td>\n",
              "      <td>0.0</td>\n",
              "      <td>0.0</td>\n",
              "      <td>0.0</td>\n",
              "      <td>0.0</td>\n",
              "      <td>0.0</td>\n",
              "      <td>...</td>\n",
              "      <td>0.0</td>\n",
              "      <td>0.0</td>\n",
              "      <td>0.0</td>\n",
              "      <td>0.0</td>\n",
              "      <td>0.0</td>\n",
              "      <td>0.0</td>\n",
              "      <td>0.0</td>\n",
              "      <td>0.0</td>\n",
              "      <td>0.0</td>\n",
              "      <td>0.0</td>\n",
              "    </tr>\n",
              "    <tr>\n",
              "      <th>5</th>\n",
              "      <td>0.0</td>\n",
              "      <td>0.0</td>\n",
              "      <td>0.0</td>\n",
              "      <td>0.0</td>\n",
              "      <td>0.0</td>\n",
              "      <td>0.0</td>\n",
              "      <td>0.0</td>\n",
              "      <td>0.0</td>\n",
              "      <td>0.0</td>\n",
              "      <td>0.0</td>\n",
              "      <td>...</td>\n",
              "      <td>0.0</td>\n",
              "      <td>0.0</td>\n",
              "      <td>0.0</td>\n",
              "      <td>0.0</td>\n",
              "      <td>0.0</td>\n",
              "      <td>0.0</td>\n",
              "      <td>0.0</td>\n",
              "      <td>0.0</td>\n",
              "      <td>0.0</td>\n",
              "      <td>0.0</td>\n",
              "    </tr>\n",
              "    <tr>\n",
              "      <th>...</th>\n",
              "      <td>...</td>\n",
              "      <td>...</td>\n",
              "      <td>...</td>\n",
              "      <td>...</td>\n",
              "      <td>...</td>\n",
              "      <td>...</td>\n",
              "      <td>...</td>\n",
              "      <td>...</td>\n",
              "      <td>...</td>\n",
              "      <td>...</td>\n",
              "      <td>...</td>\n",
              "      <td>...</td>\n",
              "      <td>...</td>\n",
              "      <td>...</td>\n",
              "      <td>...</td>\n",
              "      <td>...</td>\n",
              "      <td>...</td>\n",
              "      <td>...</td>\n",
              "      <td>...</td>\n",
              "      <td>...</td>\n",
              "      <td>...</td>\n",
              "    </tr>\n",
              "    <tr>\n",
              "      <th>189333</th>\n",
              "      <td>0.0</td>\n",
              "      <td>0.0</td>\n",
              "      <td>0.0</td>\n",
              "      <td>0.0</td>\n",
              "      <td>0.0</td>\n",
              "      <td>0.0</td>\n",
              "      <td>0.0</td>\n",
              "      <td>0.0</td>\n",
              "      <td>0.0</td>\n",
              "      <td>0.0</td>\n",
              "      <td>...</td>\n",
              "      <td>0.0</td>\n",
              "      <td>0.0</td>\n",
              "      <td>0.0</td>\n",
              "      <td>0.0</td>\n",
              "      <td>0.0</td>\n",
              "      <td>0.0</td>\n",
              "      <td>0.0</td>\n",
              "      <td>0.0</td>\n",
              "      <td>0.0</td>\n",
              "      <td>0.0</td>\n",
              "    </tr>\n",
              "    <tr>\n",
              "      <th>192803</th>\n",
              "      <td>0.0</td>\n",
              "      <td>0.0</td>\n",
              "      <td>0.0</td>\n",
              "      <td>0.0</td>\n",
              "      <td>0.0</td>\n",
              "      <td>0.0</td>\n",
              "      <td>0.0</td>\n",
              "      <td>0.0</td>\n",
              "      <td>0.0</td>\n",
              "      <td>0.0</td>\n",
              "      <td>...</td>\n",
              "      <td>0.0</td>\n",
              "      <td>0.0</td>\n",
              "      <td>0.0</td>\n",
              "      <td>0.0</td>\n",
              "      <td>0.0</td>\n",
              "      <td>0.0</td>\n",
              "      <td>0.0</td>\n",
              "      <td>0.0</td>\n",
              "      <td>0.0</td>\n",
              "      <td>0.0</td>\n",
              "    </tr>\n",
              "    <tr>\n",
              "      <th>194448</th>\n",
              "      <td>0.0</td>\n",
              "      <td>0.0</td>\n",
              "      <td>0.0</td>\n",
              "      <td>0.0</td>\n",
              "      <td>0.0</td>\n",
              "      <td>0.0</td>\n",
              "      <td>0.0</td>\n",
              "      <td>0.0</td>\n",
              "      <td>0.0</td>\n",
              "      <td>0.0</td>\n",
              "      <td>...</td>\n",
              "      <td>0.0</td>\n",
              "      <td>0.0</td>\n",
              "      <td>0.0</td>\n",
              "      <td>0.0</td>\n",
              "      <td>0.0</td>\n",
              "      <td>0.0</td>\n",
              "      <td>0.0</td>\n",
              "      <td>0.0</td>\n",
              "      <td>0.0</td>\n",
              "      <td>0.0</td>\n",
              "    </tr>\n",
              "    <tr>\n",
              "      <th>195159</th>\n",
              "      <td>0.0</td>\n",
              "      <td>0.0</td>\n",
              "      <td>0.0</td>\n",
              "      <td>0.0</td>\n",
              "      <td>0.0</td>\n",
              "      <td>0.0</td>\n",
              "      <td>0.0</td>\n",
              "      <td>0.0</td>\n",
              "      <td>0.0</td>\n",
              "      <td>0.0</td>\n",
              "      <td>...</td>\n",
              "      <td>0.0</td>\n",
              "      <td>0.0</td>\n",
              "      <td>0.0</td>\n",
              "      <td>0.0</td>\n",
              "      <td>0.0</td>\n",
              "      <td>0.0</td>\n",
              "      <td>0.0</td>\n",
              "      <td>0.0</td>\n",
              "      <td>0.0</td>\n",
              "      <td>0.0</td>\n",
              "    </tr>\n",
              "    <tr>\n",
              "      <th>202429</th>\n",
              "      <td>0.0</td>\n",
              "      <td>0.0</td>\n",
              "      <td>0.0</td>\n",
              "      <td>0.0</td>\n",
              "      <td>0.0</td>\n",
              "      <td>0.0</td>\n",
              "      <td>0.0</td>\n",
              "      <td>0.0</td>\n",
              "      <td>0.0</td>\n",
              "      <td>0.0</td>\n",
              "      <td>...</td>\n",
              "      <td>0.0</td>\n",
              "      <td>0.0</td>\n",
              "      <td>0.0</td>\n",
              "      <td>0.0</td>\n",
              "      <td>0.0</td>\n",
              "      <td>0.0</td>\n",
              "      <td>0.0</td>\n",
              "      <td>0.0</td>\n",
              "      <td>0.0</td>\n",
              "      <td>0.0</td>\n",
              "    </tr>\n",
              "  </tbody>\n",
              "</table>\n",
              "<p>3234 rows × 1674 columns</p>\n",
              "</div>"
            ],
            "text/plain": [
              "userId   548     606     626     653     757     803     847     997     \\\n",
              "movieId                                                                   \n",
              "1           0.0     0.0     0.0     0.0     0.0     0.0     0.0     0.0   \n",
              "2           0.0     0.0     0.0     0.0     0.0     0.0     0.0     0.0   \n",
              "3           0.0     0.0     0.0     0.0     0.0     0.0     0.0     0.0   \n",
              "4           0.0     0.0     0.0     0.0     0.0     0.0     0.0     0.0   \n",
              "5           0.0     0.0     0.0     0.0     0.0     0.0     0.0     0.0   \n",
              "...         ...     ...     ...     ...     ...     ...     ...     ...   \n",
              "189333      0.0     0.0     0.0     0.0     0.0     0.0     0.0     0.0   \n",
              "192803      0.0     0.0     0.0     0.0     0.0     0.0     0.0     0.0   \n",
              "194448      0.0     0.0     0.0     0.0     0.0     0.0     0.0     0.0   \n",
              "195159      0.0     0.0     0.0     0.0     0.0     0.0     0.0     0.0   \n",
              "202429      0.0     0.0     0.0     0.0     0.0     0.0     0.0     0.0   \n",
              "\n",
              "userId   1228    1477    ...  161091  161342  161383  161544  161586  161826  \\\n",
              "movieId                  ...                                                   \n",
              "1           0.0     0.0  ...     0.0     0.0     0.0     0.0     0.0     0.0   \n",
              "2           0.0     0.0  ...     0.0     0.0     0.0     0.0     0.0     0.0   \n",
              "3           0.0     0.0  ...     0.0     0.0     0.0     0.0     0.0     0.0   \n",
              "4           0.0     0.0  ...     0.0     0.0     0.0     0.0     0.0     0.0   \n",
              "5           0.0     0.0  ...     0.0     0.0     0.0     0.0     0.0     0.0   \n",
              "...         ...     ...  ...     ...     ...     ...     ...     ...     ...   \n",
              "189333      0.0     0.0  ...     0.0     0.0     0.0     0.0     0.0     0.0   \n",
              "192803      0.0     0.0  ...     0.0     0.0     0.0     0.0     0.0     0.0   \n",
              "194448      0.0     0.0  ...     0.0     0.0     0.0     0.0     0.0     0.0   \n",
              "195159      0.0     0.0  ...     0.0     0.0     0.0     0.0     0.0     0.0   \n",
              "202429      0.0     0.0  ...     0.0     0.0     0.0     0.0     0.0     0.0   \n",
              "\n",
              "userId   162047  162271  162445  162516  \n",
              "movieId                                  \n",
              "1           0.0     0.0     0.0     0.0  \n",
              "2           0.0     0.0     0.0     0.0  \n",
              "3           0.0     0.0     0.0     0.0  \n",
              "4           0.0     0.0     0.0     0.0  \n",
              "5           0.0     0.0     0.0     0.0  \n",
              "...         ...     ...     ...     ...  \n",
              "189333      0.0     0.0     0.0     0.0  \n",
              "192803      0.0     0.0     0.0     0.0  \n",
              "194448      0.0     0.0     0.0     0.0  \n",
              "195159      0.0     0.0     0.0     0.0  \n",
              "202429      0.0     0.0     0.0     0.0  \n",
              "\n",
              "[3234 rows x 1674 columns]"
            ]
          },
          "execution_count": 47,
          "metadata": {},
          "output_type": "execute_result"
        }
      ],
      "source": [
        "final_dataset=final_dataset.loc[:,no_movies_voted[no_movies_voted > 10].index]\n",
        "final_dataset"
      ]
    },
    {
      "cell_type": "markdown",
      "id": "9e84d5b6",
      "metadata": {
        "id": "9e84d5b6"
      },
      "source": [
        "Our final_dataset has dimensions of 3234 rows × 1674 columns where most of the values are sparse. We took only small dataset but for original large dataset of movie lens which has more than 1000000 features, this will sure hang our system when this has feed to model. To reduce the sparsity we use csr_matric scipy lib."
      ]
    },
    {
      "cell_type": "code",
      "execution_count": null,
      "id": "8d0e526c",
      "metadata": {
        "id": "8d0e526c",
        "outputId": "efdafba6-f6a9-42a2-c62f-d5a4e90e9cb0"
      },
      "outputs": [
        {
          "name": "stdout",
          "output_type": "stream",
          "text": [
            "0.7333333333333334\n"
          ]
        }
      ],
      "source": [
        "sample = np.array([[0,0,3,0,0],[4,0,0,0,2],[0,0,0,0,1]])\n",
        "sparsity = 1.0 - ( np.count_nonzero(sample) / float(sample.size) )\n",
        "print(sparsity)"
      ]
    },
    {
      "cell_type": "markdown",
      "id": "dcf29e47",
      "metadata": {
        "id": "dcf29e47"
      },
      "source": [
        "Creating a kNN model to print 10 movies recommendations similar to each other\n",
        "We use the csr_matrix from scipy.sparse to convert our pivot table into a matrix of arrays that we will use to fit our model."
      ]
    },
    {
      "cell_type": "code",
      "execution_count": null,
      "id": "b22b2cfb",
      "metadata": {
        "id": "b22b2cfb",
        "outputId": "8de8ce72-b661-4ad4-b8a6-5fea537aecc0"
      },
      "outputs": [
        {
          "name": "stdout",
          "output_type": "stream",
          "text": [
            "  (0, 2)\t3\n",
            "  (1, 0)\t4\n",
            "  (1, 4)\t2\n",
            "  (2, 4)\t1\n"
          ]
        }
      ],
      "source": [
        "from scipy.sparse import csr_matrix\n",
        "\n",
        "csr_sample = csr_matrix(sample)\n",
        "print(csr_sample)"
      ]
    },
    {
      "cell_type": "code",
      "execution_count": null,
      "id": "694356ad",
      "metadata": {
        "id": "694356ad"
      },
      "outputs": [],
      "source": [
        "csr_data = csr_matrix(final_dataset.values)\n",
        "final_dataset.reset_index(inplace=True)"
      ]
    },
    {
      "cell_type": "markdown",
      "id": "adc9c426",
      "metadata": {
        "id": "adc9c426"
      },
      "source": [
        "We use cosine distance metric which is very fast and preferable than pearson coefficient.\n",
        "\n",
        "Finally, we fit the NearestNeighbors from sklearn.neighbors to our previously generated matrix data. We set the metric to 'cosine' and algorithm 'brute'."
      ]
    },
    {
      "cell_type": "code",
      "execution_count": null,
      "id": "94ed8b31",
      "metadata": {
        "id": "94ed8b31",
        "outputId": "fc56120d-d2c3-4bdc-914c-5dadc20cecfe"
      },
      "outputs": [
        {
          "data": {
            "text/plain": [
              "NearestNeighbors(algorithm='brute', metric='cosine', n_jobs=-1, n_neighbors=20)"
            ]
          },
          "execution_count": 51,
          "metadata": {},
          "output_type": "execute_result"
        }
      ],
      "source": [
        "from sklearn.neighbors import NearestNeighbors\n",
        "\n",
        "knn = NearestNeighbors(metric='cosine', algorithm='brute', n_neighbors=20, n_jobs=-1)\n",
        "knn.fit(csr_data)"
      ]
    },
    {
      "cell_type": "code",
      "execution_count": null,
      "id": "f4f1f737",
      "metadata": {
        "id": "f4f1f737"
      },
      "outputs": [],
      "source": [
        "def get_movie_recommendation(movie_name):\n",
        "    n_movies_to_reccomend = 10\n",
        "    movie_list = movies[movies['title'].str.contains(movie_name)]  \n",
        "    if len(movie_list):        \n",
        "        movie_idx= movie_list.iloc[0]['movieId']\n",
        "        movie_idx = final_dataset[final_dataset['movieId'] == movie_idx].index[0]\n",
        "        distances , indices = knn.kneighbors(csr_data[movie_idx],n_neighbors=n_movies_to_reccomend+1)    \n",
        "        rec_movie_indices = sorted(list(zip(indices.squeeze().tolist(),distances.squeeze().tolist())),key=lambda x: x[1])[:0:-1]\n",
        "        recommend_frame = []\n",
        "        for val in rec_movie_indices:\n",
        "            movie_idx = final_dataset.iloc[val[0]]['movieId']\n",
        "            idx = movies[movies['movieId'] == movie_idx].index\n",
        "            recommend_frame.append({'Title':movies.iloc[idx]['title'].values[0],'Distance':val[1]})\n",
        "        df = pd.DataFrame(recommend_frame,index=range(1,n_movies_to_reccomend+1))\n",
        "        return df\n",
        "    else:\n",
        "        return \"No movies found. Please check your input\""
      ]
    },
    {
      "cell_type": "markdown",
      "id": "8b97cf40",
      "metadata": {
        "id": "8b97cf40"
      },
      "source": [
        "**Test the functionality of Collaborative Filtering Recommender System**"
      ]
    },
    {
      "cell_type": "code",
      "execution_count": null,
      "id": "e8c87cdd",
      "metadata": {
        "id": "e8c87cdd",
        "outputId": "a74f4dec-4ed5-4e69-838b-c85e1186c925"
      },
      "outputs": [
        {
          "data": {
            "text/plain": [
              "'No movies found. Please check your input'"
            ]
          },
          "execution_count": 53,
          "metadata": {},
          "output_type": "execute_result"
        }
      ],
      "source": [
        "get_movie_recommendation('Captain Phillips (2013)')"
      ]
    },
    {
      "cell_type": "code",
      "execution_count": null,
      "id": "1855e43c",
      "metadata": {
        "id": "1855e43c",
        "outputId": "169817ae-d93b-42db-9d61-011b3b0d5f6f"
      },
      "outputs": [
        {
          "data": {
            "text/html": [
              "<div>\n",
              "<style scoped>\n",
              "    .dataframe tbody tr th:only-of-type {\n",
              "        vertical-align: middle;\n",
              "    }\n",
              "\n",
              "    .dataframe tbody tr th {\n",
              "        vertical-align: top;\n",
              "    }\n",
              "\n",
              "    .dataframe thead th {\n",
              "        text-align: right;\n",
              "    }\n",
              "</style>\n",
              "<table border=\"1\" class=\"dataframe\">\n",
              "  <thead>\n",
              "    <tr style=\"text-align: right;\">\n",
              "      <th></th>\n",
              "      <th>Title</th>\n",
              "      <th>Distance</th>\n",
              "    </tr>\n",
              "  </thead>\n",
              "  <tbody>\n",
              "    <tr>\n",
              "      <th>1</th>\n",
              "      <td>Lincoln (2012)</td>\n",
              "      <td>0.728886</td>\n",
              "    </tr>\n",
              "    <tr>\n",
              "      <th>2</th>\n",
              "      <td>Three Colors: Red (Trois couleurs: Rouge) (1994)</td>\n",
              "      <td>0.719098</td>\n",
              "    </tr>\n",
              "    <tr>\n",
              "      <th>3</th>\n",
              "      <td>¡Three Amigos! (1986)</td>\n",
              "      <td>0.717914</td>\n",
              "    </tr>\n",
              "    <tr>\n",
              "      <th>4</th>\n",
              "      <td>Madness of King George, The (1994)</td>\n",
              "      <td>0.700062</td>\n",
              "    </tr>\n",
              "    <tr>\n",
              "      <th>5</th>\n",
              "      <td>Walk to Remember, A (2002)</td>\n",
              "      <td>0.665748</td>\n",
              "    </tr>\n",
              "    <tr>\n",
              "      <th>6</th>\n",
              "      <td>Jane Eyre (1996)</td>\n",
              "      <td>0.631477</td>\n",
              "    </tr>\n",
              "    <tr>\n",
              "      <th>7</th>\n",
              "      <td>Mr. Holland's Opus (1995)</td>\n",
              "      <td>0.603373</td>\n",
              "    </tr>\n",
              "    <tr>\n",
              "      <th>8</th>\n",
              "      <td>Children of the Corn (1984)</td>\n",
              "      <td>0.603360</td>\n",
              "    </tr>\n",
              "    <tr>\n",
              "      <th>9</th>\n",
              "      <td>Winter's Bone (2010)</td>\n",
              "      <td>0.595958</td>\n",
              "    </tr>\n",
              "    <tr>\n",
              "      <th>10</th>\n",
              "      <td>Chocolat (1988)</td>\n",
              "      <td>0.571389</td>\n",
              "    </tr>\n",
              "  </tbody>\n",
              "</table>\n",
              "</div>"
            ],
            "text/plain": [
              "                                               Title  Distance\n",
              "1                                     Lincoln (2012)  0.728886\n",
              "2   Three Colors: Red (Trois couleurs: Rouge) (1994)  0.719098\n",
              "3                              ¡Three Amigos! (1986)  0.717914\n",
              "4                 Madness of King George, The (1994)  0.700062\n",
              "5                         Walk to Remember, A (2002)  0.665748\n",
              "6                                   Jane Eyre (1996)  0.631477\n",
              "7                          Mr. Holland's Opus (1995)  0.603373\n",
              "8                        Children of the Corn (1984)  0.603360\n",
              "9                               Winter's Bone (2010)  0.595958\n",
              "10                                   Chocolat (1988)  0.571389"
            ]
          },
          "execution_count": 54,
          "metadata": {},
          "output_type": "execute_result"
        }
      ],
      "source": [
        "get_movie_recommendation('Breaking Away')"
      ]
    },
    {
      "cell_type": "code",
      "execution_count": null,
      "id": "8133a878",
      "metadata": {
        "id": "8133a878",
        "outputId": "9be42412-a250-4a5a-da2b-272a9ebf5370"
      },
      "outputs": [
        {
          "data": {
            "text/html": [
              "<div>\n",
              "<style scoped>\n",
              "    .dataframe tbody tr th:only-of-type {\n",
              "        vertical-align: middle;\n",
              "    }\n",
              "\n",
              "    .dataframe tbody tr th {\n",
              "        vertical-align: top;\n",
              "    }\n",
              "\n",
              "    .dataframe thead th {\n",
              "        text-align: right;\n",
              "    }\n",
              "</style>\n",
              "<table border=\"1\" class=\"dataframe\">\n",
              "  <thead>\n",
              "    <tr style=\"text-align: right;\">\n",
              "      <th></th>\n",
              "      <th>Title</th>\n",
              "      <th>Distance</th>\n",
              "    </tr>\n",
              "  </thead>\n",
              "  <tbody>\n",
              "    <tr>\n",
              "      <th>1</th>\n",
              "      <td>Sleeping with the Enemy (1991)</td>\n",
              "      <td>0.724260</td>\n",
              "    </tr>\n",
              "    <tr>\n",
              "      <th>2</th>\n",
              "      <td>Father of the Bride (1991)</td>\n",
              "      <td>0.717816</td>\n",
              "    </tr>\n",
              "    <tr>\n",
              "      <th>3</th>\n",
              "      <td>Gosford Park (2001)</td>\n",
              "      <td>0.713935</td>\n",
              "    </tr>\n",
              "    <tr>\n",
              "      <th>4</th>\n",
              "      <td>Wild Strawberries (Smultronstället) (1957)</td>\n",
              "      <td>0.708270</td>\n",
              "    </tr>\n",
              "    <tr>\n",
              "      <th>5</th>\n",
              "      <td>Perfect Blue (1997)</td>\n",
              "      <td>0.696263</td>\n",
              "    </tr>\n",
              "    <tr>\n",
              "      <th>6</th>\n",
              "      <td>Captain Phillips (2013)</td>\n",
              "      <td>0.684193</td>\n",
              "    </tr>\n",
              "    <tr>\n",
              "      <th>7</th>\n",
              "      <td>Key Largo (1948)</td>\n",
              "      <td>0.675633</td>\n",
              "    </tr>\n",
              "    <tr>\n",
              "      <th>8</th>\n",
              "      <td>Talk to Her (Hable con Ella) (2002)</td>\n",
              "      <td>0.562405</td>\n",
              "    </tr>\n",
              "    <tr>\n",
              "      <th>9</th>\n",
              "      <td>Koyaanisqatsi (a.k.a. Koyaanisqatsi: Life Out ...</td>\n",
              "      <td>0.544394</td>\n",
              "    </tr>\n",
              "    <tr>\n",
              "      <th>10</th>\n",
              "      <td>Avengers, The (1998)</td>\n",
              "      <td>0.504132</td>\n",
              "    </tr>\n",
              "  </tbody>\n",
              "</table>\n",
              "</div>"
            ],
            "text/plain": [
              "                                                Title  Distance\n",
              "1                      Sleeping with the Enemy (1991)  0.724260\n",
              "2                          Father of the Bride (1991)  0.717816\n",
              "3                                 Gosford Park (2001)  0.713935\n",
              "4          Wild Strawberries (Smultronstället) (1957)  0.708270\n",
              "5                                 Perfect Blue (1997)  0.696263\n",
              "6                             Captain Phillips (2013)  0.684193\n",
              "7                                    Key Largo (1948)  0.675633\n",
              "8                 Talk to Her (Hable con Ella) (2002)  0.562405\n",
              "9   Koyaanisqatsi (a.k.a. Koyaanisqatsi: Life Out ...  0.544394\n",
              "10                               Avengers, The (1998)  0.504132"
            ]
          },
          "execution_count": 55,
          "metadata": {},
          "output_type": "execute_result"
        }
      ],
      "source": [
        "get_movie_recommendation('Invisible Man, The')"
      ]
    },
    {
      "cell_type": "markdown",
      "id": "fa620703",
      "metadata": {
        "id": "fa620703"
      },
      "source": [
        " <a id=\"six\"></a>\n",
        "# Kaggle Submission"
      ]
    },
    {
      "cell_type": "code",
      "source": [
        "# importing datasets\n",
        "\n",
        "train = pd.read_csv(\"/content/drive/MyDrive/Colab Notebooks/train.csv\")\n",
        "\n",
        "test = pd.read_csv(\"/content/drive/MyDrive/Colab Notebooks/test.csv\")"
      ],
      "metadata": {
        "id": "KLZjKQK9d5hM"
      },
      "id": "KLZjKQK9d5hM",
      "execution_count": null,
      "outputs": []
    },
    {
      "cell_type": "code",
      "execution_count": null,
      "id": "0a967df8",
      "metadata": {
        "id": "0a967df8"
      },
      "outputs": [],
      "source": [
        "df_train = train.copy()\n",
        "\n",
        "df_test = test.copy()"
      ]
    },
    {
      "cell_type": "code",
      "execution_count": null,
      "id": "a969489a",
      "metadata": {
        "colab": {
          "base_uri": "https://localhost:8080/"
        },
        "id": "a969489a",
        "outputId": "131c826c-bab3-451d-a5bd-4dd3bf03185f"
      },
      "outputs": [
        {
          "output_type": "stream",
          "name": "stdout",
          "text": [
            "Collecting scikit-surprise\n",
            "  Downloading scikit-surprise-1.1.1.tar.gz (11.8 MB)\n",
            "\u001b[K     |████████████████████████████████| 11.8 MB 4.7 MB/s \n",
            "\u001b[?25hRequirement already satisfied: joblib>=0.11 in /usr/local/lib/python3.7/dist-packages (from scikit-surprise) (1.1.0)\n",
            "Requirement already satisfied: numpy>=1.11.2 in /usr/local/lib/python3.7/dist-packages (from scikit-surprise) (1.19.5)\n",
            "Requirement already satisfied: scipy>=1.0.0 in /usr/local/lib/python3.7/dist-packages (from scikit-surprise) (1.4.1)\n",
            "Requirement already satisfied: six>=1.10.0 in /usr/local/lib/python3.7/dist-packages (from scikit-surprise) (1.15.0)\n",
            "Building wheels for collected packages: scikit-surprise\n",
            "  Building wheel for scikit-surprise (setup.py) ... \u001b[?25l\u001b[?25hdone\n",
            "  Created wheel for scikit-surprise: filename=scikit_surprise-1.1.1-cp37-cp37m-linux_x86_64.whl size=1623254 sha256=9dfc356a38b30e71285768c4be6651e277231c28f72705f6d6f9260d8edf47cb\n",
            "  Stored in directory: /root/.cache/pip/wheels/76/44/74/b498c42be47b2406bd27994e16c5188e337c657025ab400c1c\n",
            "Successfully built scikit-surprise\n",
            "Installing collected packages: scikit-surprise\n",
            "Successfully installed scikit-surprise-1.1.1\n"
          ]
        }
      ],
      "source": [
        "pip install scikit-surprise"
      ]
    },
    {
      "cell_type": "code",
      "execution_count": null,
      "id": "be71d9b8",
      "metadata": {
        "id": "be71d9b8"
      },
      "outputs": [],
      "source": [
        "from surprise import Reader, Dataset, SVD\n",
        "from surprise.model_selection import cross_validate\n",
        "reader = Reader(rating_scale=(1, 5))"
      ]
    },
    {
      "cell_type": "code",
      "execution_count": null,
      "id": "05076621",
      "metadata": {
        "colab": {
          "base_uri": "https://localhost:8080/"
        },
        "id": "05076621",
        "outputId": "7d005d8c-c588-4c49-e414-d0b959544321"
      },
      "outputs": [
        {
          "output_type": "stream",
          "name": "stdout",
          "text": [
            "Processing epoch 0\n",
            "Processing epoch 1\n",
            "Processing epoch 2\n",
            "Processing epoch 3\n",
            "Processing epoch 4\n",
            "Processing epoch 5\n",
            "Processing epoch 6\n",
            "Processing epoch 7\n",
            "Processing epoch 8\n",
            "Processing epoch 9\n",
            "Processing epoch 10\n",
            "Processing epoch 11\n",
            "Processing epoch 12\n",
            "Processing epoch 13\n",
            "Processing epoch 14\n",
            "Processing epoch 15\n",
            "Processing epoch 16\n",
            "Processing epoch 17\n",
            "Processing epoch 18\n",
            "Processing epoch 19\n",
            "Processing epoch 20\n",
            "Processing epoch 21\n",
            "Processing epoch 22\n",
            "Processing epoch 23\n",
            "Processing epoch 24\n",
            "Processing epoch 25\n",
            "Processing epoch 26\n",
            "Processing epoch 27\n",
            "Processing epoch 28\n",
            "Processing epoch 29\n",
            "Processing epoch 0\n",
            "Processing epoch 1\n",
            "Processing epoch 2\n",
            "Processing epoch 3\n",
            "Processing epoch 4\n",
            "Processing epoch 5\n",
            "Processing epoch 6\n",
            "Processing epoch 7\n",
            "Processing epoch 8\n",
            "Processing epoch 9\n",
            "Processing epoch 10\n",
            "Processing epoch 11\n",
            "Processing epoch 12\n",
            "Processing epoch 13\n",
            "Processing epoch 14\n",
            "Processing epoch 15\n",
            "Processing epoch 16\n",
            "Processing epoch 17\n",
            "Processing epoch 18\n",
            "Processing epoch 19\n",
            "Processing epoch 20\n",
            "Processing epoch 21\n",
            "Processing epoch 22\n",
            "Processing epoch 23\n",
            "Processing epoch 24\n",
            "Processing epoch 25\n",
            "Processing epoch 26\n",
            "Processing epoch 27\n",
            "Processing epoch 28\n",
            "Processing epoch 29\n",
            "Processing epoch 0\n",
            "Processing epoch 1\n",
            "Processing epoch 2\n",
            "Processing epoch 3\n",
            "Processing epoch 4\n",
            "Processing epoch 5\n",
            "Processing epoch 6\n",
            "Processing epoch 7\n",
            "Processing epoch 8\n",
            "Processing epoch 9\n",
            "Processing epoch 10\n",
            "Processing epoch 11\n",
            "Processing epoch 12\n",
            "Processing epoch 13\n",
            "Processing epoch 14\n",
            "Processing epoch 15\n",
            "Processing epoch 16\n",
            "Processing epoch 17\n",
            "Processing epoch 18\n",
            "Processing epoch 19\n",
            "Processing epoch 20\n",
            "Processing epoch 21\n",
            "Processing epoch 22\n",
            "Processing epoch 23\n",
            "Processing epoch 24\n",
            "Processing epoch 25\n",
            "Processing epoch 26\n",
            "Processing epoch 27\n",
            "Processing epoch 28\n",
            "Processing epoch 29\n",
            "Processing epoch 0\n",
            "Processing epoch 1\n",
            "Processing epoch 2\n",
            "Processing epoch 3\n",
            "Processing epoch 4\n",
            "Processing epoch 5\n",
            "Processing epoch 6\n",
            "Processing epoch 7\n",
            "Processing epoch 8\n",
            "Processing epoch 9\n",
            "Processing epoch 10\n",
            "Processing epoch 11\n",
            "Processing epoch 12\n",
            "Processing epoch 13\n",
            "Processing epoch 14\n",
            "Processing epoch 15\n",
            "Processing epoch 16\n",
            "Processing epoch 17\n",
            "Processing epoch 18\n",
            "Processing epoch 19\n",
            "Processing epoch 20\n",
            "Processing epoch 21\n",
            "Processing epoch 22\n",
            "Processing epoch 23\n",
            "Processing epoch 24\n",
            "Processing epoch 25\n",
            "Processing epoch 26\n",
            "Processing epoch 27\n",
            "Processing epoch 28\n",
            "Processing epoch 29\n",
            "Processing epoch 0\n",
            "Processing epoch 1\n",
            "Processing epoch 2\n",
            "Processing epoch 3\n",
            "Processing epoch 4\n",
            "Processing epoch 5\n",
            "Processing epoch 6\n",
            "Processing epoch 7\n",
            "Processing epoch 8\n",
            "Processing epoch 9\n",
            "Processing epoch 10\n",
            "Processing epoch 11\n",
            "Processing epoch 12\n",
            "Processing epoch 13\n",
            "Processing epoch 14\n",
            "Processing epoch 15\n",
            "Processing epoch 16\n",
            "Processing epoch 17\n",
            "Processing epoch 18\n",
            "Processing epoch 19\n",
            "Processing epoch 20\n",
            "Processing epoch 21\n",
            "Processing epoch 22\n",
            "Processing epoch 23\n",
            "Processing epoch 24\n",
            "Processing epoch 25\n",
            "Processing epoch 26\n",
            "Processing epoch 27\n",
            "Processing epoch 28\n",
            "Processing epoch 29\n",
            "Processing epoch 0\n",
            "Processing epoch 1\n",
            "Processing epoch 2\n",
            "Processing epoch 3\n",
            "Processing epoch 4\n",
            "Processing epoch 5\n",
            "Processing epoch 6\n",
            "Processing epoch 7\n",
            "Processing epoch 8\n",
            "Processing epoch 9\n",
            "Processing epoch 10\n",
            "Processing epoch 11\n",
            "Processing epoch 12\n",
            "Processing epoch 13\n",
            "Processing epoch 14\n",
            "Processing epoch 15\n",
            "Processing epoch 16\n",
            "Processing epoch 17\n",
            "Processing epoch 18\n",
            "Processing epoch 19\n",
            "Processing epoch 20\n",
            "Processing epoch 21\n",
            "Processing epoch 22\n",
            "Processing epoch 23\n",
            "Processing epoch 24\n",
            "Processing epoch 25\n",
            "Processing epoch 26\n",
            "Processing epoch 27\n",
            "Processing epoch 28\n",
            "Processing epoch 29\n",
            "Processing epoch 0\n",
            "Processing epoch 1\n",
            "Processing epoch 2\n",
            "Processing epoch 3\n",
            "Processing epoch 4\n",
            "Processing epoch 5\n",
            "Processing epoch 6\n",
            "Processing epoch 7\n",
            "Processing epoch 8\n",
            "Processing epoch 9\n",
            "Processing epoch 10\n",
            "Processing epoch 11\n",
            "Processing epoch 12\n",
            "Processing epoch 13\n",
            "Processing epoch 14\n",
            "Processing epoch 15\n",
            "Processing epoch 16\n",
            "Processing epoch 17\n",
            "Processing epoch 18\n",
            "Processing epoch 19\n",
            "Processing epoch 20\n",
            "Processing epoch 21\n",
            "Processing epoch 22\n",
            "Processing epoch 23\n",
            "Processing epoch 24\n",
            "Processing epoch 25\n",
            "Processing epoch 26\n",
            "Processing epoch 27\n",
            "Processing epoch 28\n",
            "Processing epoch 29\n",
            "Processing epoch 0\n",
            "Processing epoch 1\n",
            "Processing epoch 2\n",
            "Processing epoch 3\n",
            "Processing epoch 4\n",
            "Processing epoch 5\n",
            "Processing epoch 6\n",
            "Processing epoch 7\n",
            "Processing epoch 8\n",
            "Processing epoch 9\n",
            "Processing epoch 10\n",
            "Processing epoch 11\n",
            "Processing epoch 12\n",
            "Processing epoch 13\n",
            "Processing epoch 14\n",
            "Processing epoch 15\n",
            "Processing epoch 16\n",
            "Processing epoch 17\n",
            "Processing epoch 18\n",
            "Processing epoch 19\n",
            "Processing epoch 20\n",
            "Processing epoch 21\n",
            "Processing epoch 22\n",
            "Processing epoch 23\n",
            "Processing epoch 24\n",
            "Processing epoch 25\n",
            "Processing epoch 26\n",
            "Processing epoch 27\n",
            "Processing epoch 28\n",
            "Processing epoch 29\n",
            "Processing epoch 0\n",
            "Processing epoch 1\n",
            "Processing epoch 2\n",
            "Processing epoch 3\n",
            "Processing epoch 4\n",
            "Processing epoch 5\n",
            "Processing epoch 6\n",
            "Processing epoch 7\n",
            "Processing epoch 8\n",
            "Processing epoch 9\n",
            "Processing epoch 10\n",
            "Processing epoch 11\n",
            "Processing epoch 12\n",
            "Processing epoch 13\n",
            "Processing epoch 14\n",
            "Processing epoch 15\n",
            "Processing epoch 16\n",
            "Processing epoch 17\n",
            "Processing epoch 18\n",
            "Processing epoch 19\n",
            "Processing epoch 20\n",
            "Processing epoch 21\n",
            "Processing epoch 22\n",
            "Processing epoch 23\n",
            "Processing epoch 24\n",
            "Processing epoch 25\n",
            "Processing epoch 26\n",
            "Processing epoch 27\n",
            "Processing epoch 28\n",
            "Processing epoch 29\n",
            "Processing epoch 0\n",
            "Processing epoch 1\n",
            "Processing epoch 2\n",
            "Processing epoch 3\n",
            "Processing epoch 4\n",
            "Processing epoch 5\n",
            "Processing epoch 6\n",
            "Processing epoch 7\n",
            "Processing epoch 8\n",
            "Processing epoch 9\n",
            "Processing epoch 10\n",
            "Processing epoch 11\n",
            "Processing epoch 12\n",
            "Processing epoch 13\n",
            "Processing epoch 14\n",
            "Processing epoch 15\n",
            "Processing epoch 16\n",
            "Processing epoch 17\n",
            "Processing epoch 18\n",
            "Processing epoch 19\n",
            "Processing epoch 20\n",
            "Processing epoch 21\n",
            "Processing epoch 22\n",
            "Processing epoch 23\n",
            "Processing epoch 24\n",
            "Processing epoch 25\n",
            "Processing epoch 26\n",
            "Processing epoch 27\n",
            "Processing epoch 28\n",
            "Processing epoch 29\n",
            "Processing epoch 0\n",
            "Processing epoch 1\n",
            "Processing epoch 2\n",
            "Processing epoch 3\n",
            "Processing epoch 4\n",
            "Processing epoch 5\n",
            "Processing epoch 6\n",
            "Processing epoch 7\n",
            "Processing epoch 8\n",
            "Processing epoch 9\n",
            "Processing epoch 10\n",
            "Processing epoch 11\n",
            "Processing epoch 12\n",
            "Processing epoch 13\n",
            "Processing epoch 14\n",
            "Processing epoch 15\n",
            "Processing epoch 16\n",
            "Processing epoch 17\n",
            "Processing epoch 18\n",
            "Processing epoch 19\n",
            "Processing epoch 20\n",
            "Processing epoch 21\n",
            "Processing epoch 22\n",
            "Processing epoch 23\n",
            "Processing epoch 24\n",
            "Processing epoch 25\n",
            "Processing epoch 26\n",
            "Processing epoch 27\n",
            "Processing epoch 28\n",
            "Processing epoch 29\n",
            "Processing epoch 0\n",
            "Processing epoch 1\n",
            "Processing epoch 2\n",
            "Processing epoch 3\n",
            "Processing epoch 4\n",
            "Processing epoch 5\n",
            "Processing epoch 6\n",
            "Processing epoch 7\n",
            "Processing epoch 8\n",
            "Processing epoch 9\n",
            "Processing epoch 10\n",
            "Processing epoch 11\n",
            "Processing epoch 12\n",
            "Processing epoch 13\n",
            "Processing epoch 14\n",
            "Processing epoch 15\n",
            "Processing epoch 16\n",
            "Processing epoch 17\n",
            "Processing epoch 18\n",
            "Processing epoch 19\n",
            "Processing epoch 20\n",
            "Processing epoch 21\n",
            "Processing epoch 22\n",
            "Processing epoch 23\n",
            "Processing epoch 24\n",
            "Processing epoch 25\n",
            "Processing epoch 26\n",
            "Processing epoch 27\n",
            "Processing epoch 28\n",
            "Processing epoch 29\n",
            "Processing epoch 0\n",
            "Processing epoch 1\n",
            "Processing epoch 2\n",
            "Processing epoch 3\n",
            "Processing epoch 4\n",
            "Processing epoch 5\n",
            "Processing epoch 6\n",
            "Processing epoch 7\n",
            "Processing epoch 8\n",
            "Processing epoch 9\n",
            "Processing epoch 10\n",
            "Processing epoch 11\n",
            "Processing epoch 12\n",
            "Processing epoch 13\n",
            "Processing epoch 14\n",
            "Processing epoch 15\n",
            "Processing epoch 16\n",
            "Processing epoch 17\n",
            "Processing epoch 18\n",
            "Processing epoch 19\n",
            "Processing epoch 20\n",
            "Processing epoch 21\n",
            "Processing epoch 22\n",
            "Processing epoch 23\n",
            "Processing epoch 24\n",
            "Processing epoch 25\n",
            "Processing epoch 26\n",
            "Processing epoch 27\n",
            "Processing epoch 28\n",
            "Processing epoch 29\n",
            "Processing epoch 0\n",
            "Processing epoch 1\n",
            "Processing epoch 2\n",
            "Processing epoch 3\n",
            "Processing epoch 4\n",
            "Processing epoch 5\n",
            "Processing epoch 6\n",
            "Processing epoch 7\n",
            "Processing epoch 8\n",
            "Processing epoch 9\n",
            "Processing epoch 10\n",
            "Processing epoch 11\n",
            "Processing epoch 12\n",
            "Processing epoch 13\n",
            "Processing epoch 14\n",
            "Processing epoch 15\n",
            "Processing epoch 16\n",
            "Processing epoch 17\n",
            "Processing epoch 18\n",
            "Processing epoch 19\n",
            "Processing epoch 20\n",
            "Processing epoch 21\n",
            "Processing epoch 22\n",
            "Processing epoch 23\n",
            "Processing epoch 24\n",
            "Processing epoch 25\n",
            "Processing epoch 26\n",
            "Processing epoch 27\n",
            "Processing epoch 28\n",
            "Processing epoch 29\n",
            "Processing epoch 0\n",
            "Processing epoch 1\n",
            "Processing epoch 2\n",
            "Processing epoch 3\n",
            "Processing epoch 4\n",
            "Processing epoch 5\n",
            "Processing epoch 6\n",
            "Processing epoch 7\n",
            "Processing epoch 8\n",
            "Processing epoch 9\n",
            "Processing epoch 10\n",
            "Processing epoch 11\n",
            "Processing epoch 12\n",
            "Processing epoch 13\n",
            "Processing epoch 14\n",
            "Processing epoch 15\n",
            "Processing epoch 16\n",
            "Processing epoch 17\n",
            "Processing epoch 18\n",
            "Processing epoch 19\n",
            "Processing epoch 20\n",
            "Processing epoch 21\n",
            "Processing epoch 22\n",
            "Processing epoch 23\n",
            "Processing epoch 24\n",
            "Processing epoch 25\n",
            "Processing epoch 26\n",
            "Processing epoch 27\n",
            "Processing epoch 28\n",
            "Processing epoch 29\n",
            "Evaluating RMSE, MAE of algorithm SVD on 15 split(s).\n",
            "\n",
            "                  Fold 1  Fold 2  Fold 3  Fold 4  Fold 5  Fold 6  Fold 7  Fold 8  Fold 9  Fold 10 Fold 11 Fold 12 Fold 13 Fold 14 Fold 15 Mean    Std     \n",
            "RMSE (testset)    0.8237  0.8261  0.8243  0.8260  0.8275  0.8244  0.8273  0.8254  0.8261  0.8253  0.8260  0.8256  0.8266  0.8254  0.8253  0.8257  0.0010  \n",
            "MAE (testset)     0.6242  0.6253  0.6243  0.6257  0.6262  0.6240  0.6261  0.6249  0.6254  0.6252  0.6255  0.6252  0.6258  0.6245  0.6252  0.6252  0.0006  \n",
            "Fit time          956.92  946.39  939.46  940.46  940.68  939.57  944.92  950.22  950.29  952.62  952.50  947.55  951.84  954.42  952.35  948.01  5.62    \n",
            "Test time         18.39   20.52   17.47   17.93   20.32   18.40   18.28   18.52   20.35   18.34   18.12   20.36   18.29   18.64   20.46   18.96   1.05    \n"
          ]
        },
        {
          "output_type": "execute_result",
          "data": {
            "text/plain": [
              "{'fit_time': (956.9186248779297,\n",
              "  946.3882918357849,\n",
              "  939.4625515937805,\n",
              "  940.4555571079254,\n",
              "  940.6798782348633,\n",
              "  939.5660359859467,\n",
              "  944.920333147049,\n",
              "  950.2238161563873,\n",
              "  950.2871866226196,\n",
              "  952.6205351352692,\n",
              "  952.4999656677246,\n",
              "  947.5471580028534,\n",
              "  951.8424739837646,\n",
              "  954.42209815979,\n",
              "  952.3522462844849),\n",
              " 'test_mae': array([0.62419737, 0.62526727, 0.62432164, 0.62571928, 0.62618677,\n",
              "        0.62404175, 0.62606536, 0.62489566, 0.62539694, 0.62522845,\n",
              "        0.62545389, 0.62520845, 0.625798  , 0.62446169, 0.62519902]),\n",
              " 'test_rmse': array([0.82366341, 0.82608833, 0.82429555, 0.82604879, 0.82753113,\n",
              "        0.824384  , 0.82728991, 0.82541288, 0.82614622, 0.82528234,\n",
              "        0.82597704, 0.82558221, 0.82658825, 0.82535135, 0.82530585]),\n",
              " 'test_time': (18.39012575149536,\n",
              "  20.520373821258545,\n",
              "  17.472836017608643,\n",
              "  17.93046236038208,\n",
              "  20.324580192565918,\n",
              "  18.398900747299194,\n",
              "  18.279531002044678,\n",
              "  18.5169415473938,\n",
              "  20.353505849838257,\n",
              "  18.338985919952393,\n",
              "  18.11716890335083,\n",
              "  20.35984182357788,\n",
              "  18.294297218322754,\n",
              "  18.63515329360962,\n",
              "  20.457662105560303)}"
            ]
          },
          "metadata": {},
          "execution_count": 7
        }
      ],
      "source": [
        "data = Dataset.load_from_df(df_train[['userId', 'movieId', 'rating']], reader)\n",
        "svd = SVD(verbose=True, n_epochs=30, random_state=42)\n",
        "cross_validate(svd, data, measures=['RMSE', 'MAE'], cv=15, verbose=True)"
      ]
    },
    {
      "cell_type": "code",
      "execution_count": null,
      "id": "8c101ecb",
      "metadata": {
        "id": "8c101ecb",
        "colab": {
          "base_uri": "https://localhost:8080/"
        },
        "outputId": "a87e678e-3cdb-41e9-9204-e5122a737a75"
      },
      "outputs": [
        {
          "output_type": "stream",
          "name": "stdout",
          "text": [
            "Processing epoch 0\n",
            "Processing epoch 1\n",
            "Processing epoch 2\n",
            "Processing epoch 3\n",
            "Processing epoch 4\n",
            "Processing epoch 5\n",
            "Processing epoch 6\n",
            "Processing epoch 7\n",
            "Processing epoch 8\n",
            "Processing epoch 9\n",
            "Processing epoch 10\n",
            "Processing epoch 11\n",
            "Processing epoch 12\n",
            "Processing epoch 13\n",
            "Processing epoch 14\n",
            "Processing epoch 15\n",
            "Processing epoch 16\n",
            "Processing epoch 17\n",
            "Processing epoch 18\n",
            "Processing epoch 19\n",
            "Processing epoch 20\n",
            "Processing epoch 21\n",
            "Processing epoch 22\n",
            "Processing epoch 23\n",
            "Processing epoch 24\n",
            "Processing epoch 25\n",
            "Processing epoch 26\n",
            "Processing epoch 27\n",
            "Processing epoch 28\n",
            "Processing epoch 29\n"
          ]
        },
        {
          "output_type": "execute_result",
          "data": {
            "text/plain": [
              "<surprise.prediction_algorithms.matrix_factorization.SVD at 0x7f84dc9e6d90>"
            ]
          },
          "metadata": {},
          "execution_count": 8
        }
      ],
      "source": [
        "trainset = data.build_full_trainset()\n",
        "svd.fit(trainset)"
      ]
    },
    {
      "cell_type": "code",
      "execution_count": null,
      "id": "75cea3c1",
      "metadata": {
        "id": "75cea3c1",
        "colab": {
          "base_uri": "https://localhost:8080/",
          "height": 206
        },
        "outputId": "043c100b-a28f-4d06-deb5-d6fff3af35af"
      },
      "outputs": [
        {
          "output_type": "execute_result",
          "data": {
            "text/html": [
              "\n",
              "  <div id=\"df-9bc4cb3c-295e-4842-a7db-361cb72f5b14\">\n",
              "    <div class=\"colab-df-container\">\n",
              "      <div>\n",
              "<style scoped>\n",
              "    .dataframe tbody tr th:only-of-type {\n",
              "        vertical-align: middle;\n",
              "    }\n",
              "\n",
              "    .dataframe tbody tr th {\n",
              "        vertical-align: top;\n",
              "    }\n",
              "\n",
              "    .dataframe thead th {\n",
              "        text-align: right;\n",
              "    }\n",
              "</style>\n",
              "<table border=\"1\" class=\"dataframe\">\n",
              "  <thead>\n",
              "    <tr style=\"text-align: right;\">\n",
              "      <th></th>\n",
              "      <th>ID</th>\n",
              "      <th>est</th>\n",
              "    </tr>\n",
              "  </thead>\n",
              "  <tbody>\n",
              "    <tr>\n",
              "      <th>0</th>\n",
              "      <td>1_2011</td>\n",
              "      <td>2.989950</td>\n",
              "    </tr>\n",
              "    <tr>\n",
              "      <th>1</th>\n",
              "      <td>1_4144</td>\n",
              "      <td>4.047662</td>\n",
              "    </tr>\n",
              "    <tr>\n",
              "      <th>2</th>\n",
              "      <td>1_5767</td>\n",
              "      <td>3.525101</td>\n",
              "    </tr>\n",
              "    <tr>\n",
              "      <th>3</th>\n",
              "      <td>1_6711</td>\n",
              "      <td>4.009411</td>\n",
              "    </tr>\n",
              "    <tr>\n",
              "      <th>4</th>\n",
              "      <td>1_7318</td>\n",
              "      <td>2.755310</td>\n",
              "    </tr>\n",
              "  </tbody>\n",
              "</table>\n",
              "</div>\n",
              "      <button class=\"colab-df-convert\" onclick=\"convertToInteractive('df-9bc4cb3c-295e-4842-a7db-361cb72f5b14')\"\n",
              "              title=\"Convert this dataframe to an interactive table.\"\n",
              "              style=\"display:none;\">\n",
              "        \n",
              "  <svg xmlns=\"http://www.w3.org/2000/svg\" height=\"24px\"viewBox=\"0 0 24 24\"\n",
              "       width=\"24px\">\n",
              "    <path d=\"M0 0h24v24H0V0z\" fill=\"none\"/>\n",
              "    <path d=\"M18.56 5.44l.94 2.06.94-2.06 2.06-.94-2.06-.94-.94-2.06-.94 2.06-2.06.94zm-11 1L8.5 8.5l.94-2.06 2.06-.94-2.06-.94L8.5 2.5l-.94 2.06-2.06.94zm10 10l.94 2.06.94-2.06 2.06-.94-2.06-.94-.94-2.06-.94 2.06-2.06.94z\"/><path d=\"M17.41 7.96l-1.37-1.37c-.4-.4-.92-.59-1.43-.59-.52 0-1.04.2-1.43.59L10.3 9.45l-7.72 7.72c-.78.78-.78 2.05 0 2.83L4 21.41c.39.39.9.59 1.41.59.51 0 1.02-.2 1.41-.59l7.78-7.78 2.81-2.81c.8-.78.8-2.07 0-2.86zM5.41 20L4 18.59l7.72-7.72 1.47 1.35L5.41 20z\"/>\n",
              "  </svg>\n",
              "      </button>\n",
              "      \n",
              "  <style>\n",
              "    .colab-df-container {\n",
              "      display:flex;\n",
              "      flex-wrap:wrap;\n",
              "      gap: 12px;\n",
              "    }\n",
              "\n",
              "    .colab-df-convert {\n",
              "      background-color: #E8F0FE;\n",
              "      border: none;\n",
              "      border-radius: 50%;\n",
              "      cursor: pointer;\n",
              "      display: none;\n",
              "      fill: #1967D2;\n",
              "      height: 32px;\n",
              "      padding: 0 0 0 0;\n",
              "      width: 32px;\n",
              "    }\n",
              "\n",
              "    .colab-df-convert:hover {\n",
              "      background-color: #E2EBFA;\n",
              "      box-shadow: 0px 1px 2px rgba(60, 64, 67, 0.3), 0px 1px 3px 1px rgba(60, 64, 67, 0.15);\n",
              "      fill: #174EA6;\n",
              "    }\n",
              "\n",
              "    [theme=dark] .colab-df-convert {\n",
              "      background-color: #3B4455;\n",
              "      fill: #D2E3FC;\n",
              "    }\n",
              "\n",
              "    [theme=dark] .colab-df-convert:hover {\n",
              "      background-color: #434B5C;\n",
              "      box-shadow: 0px 1px 3px 1px rgba(0, 0, 0, 0.15);\n",
              "      filter: drop-shadow(0px 1px 2px rgba(0, 0, 0, 0.3));\n",
              "      fill: #FFFFFF;\n",
              "    }\n",
              "  </style>\n",
              "\n",
              "      <script>\n",
              "        const buttonEl =\n",
              "          document.querySelector('#df-9bc4cb3c-295e-4842-a7db-361cb72f5b14 button.colab-df-convert');\n",
              "        buttonEl.style.display =\n",
              "          google.colab.kernel.accessAllowed ? 'block' : 'none';\n",
              "\n",
              "        async function convertToInteractive(key) {\n",
              "          const element = document.querySelector('#df-9bc4cb3c-295e-4842-a7db-361cb72f5b14');\n",
              "          const dataTable =\n",
              "            await google.colab.kernel.invokeFunction('convertToInteractive',\n",
              "                                                     [key], {});\n",
              "          if (!dataTable) return;\n",
              "\n",
              "          const docLinkHtml = 'Like what you see? Visit the ' +\n",
              "            '<a target=\"_blank\" href=https://colab.research.google.com/notebooks/data_table.ipynb>data table notebook</a>'\n",
              "            + ' to learn more about interactive tables.';\n",
              "          element.innerHTML = '';\n",
              "          dataTable['output_type'] = 'display_data';\n",
              "          await google.colab.output.renderOutput(dataTable, element);\n",
              "          const docLink = document.createElement('div');\n",
              "          docLink.innerHTML = docLinkHtml;\n",
              "          element.appendChild(docLink);\n",
              "        }\n",
              "      </script>\n",
              "    </div>\n",
              "  </div>\n",
              "  "
            ],
            "text/plain": [
              "       ID       est\n",
              "0  1_2011  2.989950\n",
              "1  1_4144  4.047662\n",
              "2  1_5767  3.525101\n",
              "3  1_6711  4.009411\n",
              "4  1_7318  2.755310"
            ]
          },
          "metadata": {},
          "execution_count": 9
        }
      ],
      "source": [
        "ratings=[]\n",
        "for x,y in df_test.itertuples(index=False):\n",
        "    output = svd.predict(x,y)\n",
        "    ratings.append(output)\n",
        "    \n",
        "df_output = pd.DataFrame(ratings)[['uid','iid','est']]\n",
        "df_output['ID'] = df_output['uid'].astype(str) + '_' + df_output['iid'].astype(str)\n",
        "df_output = df_output[['ID','est']]\n",
        "df_output.head()"
      ]
    },
    {
      "cell_type": "code",
      "execution_count": null,
      "id": "ebee7113",
      "metadata": {
        "id": "ebee7113"
      },
      "outputs": [],
      "source": [
        "#Creating the \"results\" dataframe and convert to csv\n",
        "results = pd.DataFrame({\"ID\":df_output['ID'],\"rating\": df_output['est']})\n",
        "results.to_csv(\"Team15.csv\", index=False)"
      ]
    },
    {
      "cell_type": "markdown",
      "id": "9fb74c0c",
      "metadata": {
        "id": "9fb74c0c"
      },
      "source": [
        "- Kaggle RMSE score : 0.82"
      ]
    },
    {
      "cell_type": "code",
      "execution_count": null,
      "id": "d277d4de",
      "metadata": {
        "id": "d277d4de",
        "colab": {
          "base_uri": "https://localhost:8080/"
        },
        "outputId": "f0f16c04-58fa-45c2-db57-046c03d8c597"
      },
      "outputs": [
        {
          "output_type": "stream",
          "name": "stderr",
          "text": [
            "COMET INFO: ---------------------------\n",
            "COMET INFO: Comet.ml Experiment Summary\n",
            "COMET INFO: ---------------------------\n",
            "COMET INFO:   Data:\n",
            "COMET INFO:     display_summary_level : 1\n",
            "COMET INFO:     url                   : https://www.comet.ml/lucy-lushaba/team-15-unsupervised-predict/35c06d757cef404f81fb2d65d8c1a7f8\n",
            "COMET INFO:   Others:\n",
            "COMET INFO:     notebook_url : https://colab.research.google.com/notebook#fileId=13hY6g_3CnvBD7eF96GXU_EJJXH2Xg-y2\n",
            "COMET INFO:   Uploads:\n",
            "COMET INFO:     environment details : 1\n",
            "COMET INFO:     filename            : 1\n",
            "COMET INFO:     installed packages  : 1\n",
            "COMET INFO:     notebook            : 2\n",
            "COMET INFO:     os packages         : 1\n",
            "COMET INFO:     source_code         : 1\n",
            "COMET INFO: ---------------------------\n",
            "COMET INFO: Uploading metrics, params, and assets to Comet before program termination (may take several seconds)\n",
            "COMET INFO: The Python SDK has 3600 seconds to finish before aborting...\n",
            "COMET INFO: Waiting for completion of the file uploads (may take several seconds)\n",
            "COMET INFO: The Python SDK has 10800 seconds to finish before aborting...\n",
            "COMET INFO: All files uploaded, waiting for confirmation they have been all received\n"
          ]
        }
      ],
      "source": [
        "experiment.end()"
      ]
    },
    {
      "cell_type": "markdown",
      "id": "46b73bb9",
      "metadata": {
        "id": "46b73bb9"
      },
      "source": [
        " <a id=\"seven\"></a>\n",
        "# References"
      ]
    },
    {
      "cell_type": "markdown",
      "id": "a72dabb2",
      "metadata": {
        "id": "a72dabb2"
      },
      "source": [
        "1.Usman, M., 10 February 2020. Developing a Recommender System for Movie Recommendation in Python. [online] www.vshsolutions.com. Available at: https://www.vshsolutions.com/blogs/developing-a-recommender-system-for-movie-recommendation-in-python/ [Accessed 29 January 2022].\n",
        "\n",
        "2.Project Pro, 04 January 2022. Recommender Systems Python-Methods and Algorithms. [online] www.projectpro.io. Available at: https://www.projectpro.io/article/recommender-systems-python-methods-and-algorithms/413 [Accessed 29 January 2022].\n",
        "\n",
        "3.DADOTS, 10 October 2020. Text Vectorization: Feature extraction in NLP. [online] www.dataanalyticsdots.com. Available at: https://dataanalyticsdots.com/text-vectorization-techniques-nlp/ [Accessed 29 January 2022].\n",
        "\n",
        "4.Wonuola Abimbola, 1 July 2021. Content-Based Movie Recommendation System. [online] www.wonuolaa4.medium.com. Available at: https://wonuolaa4.medium.com/content-based-movie-recommendation-system-914d2a777ee3 [Accessed 29 January 2022]."
      ]
    },
    {
      "cell_type": "code",
      "execution_count": null,
      "id": "da00a4e3",
      "metadata": {
        "id": "da00a4e3"
      },
      "outputs": [],
      "source": [
        ""
      ]
    }
  ],
  "metadata": {
    "colab": {
      "name": "Team 15 Final notebook",
      "provenance": [],
      "collapsed_sections": [
        "FkQYKrfMDBKf",
        "8bf944f7",
        "skwJXoNfESIU"
      ],
      "include_colab_link": true
    },
    "kernelspec": {
      "display_name": "Python 3",
      "language": "python",
      "name": "python3"
    },
    "language_info": {
      "codemirror_mode": {
        "name": "ipython",
        "version": 3
      },
      "file_extension": ".py",
      "mimetype": "text/x-python",
      "name": "python",
      "nbconvert_exporter": "python",
      "pygments_lexer": "ipython3",
      "version": "3.8.8"
    }
  },
  "nbformat": 4,
  "nbformat_minor": 5
}